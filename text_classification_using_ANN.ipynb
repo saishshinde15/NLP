{
  "nbformat": 4,
  "nbformat_minor": 0,
  "metadata": {
    "colab": {
      "provenance": [],
      "authorship_tag": "ABX9TyMKTOMqfnkGGT3wET3s4wzm",
      "include_colab_link": true
    },
    "kernelspec": {
      "name": "python3",
      "display_name": "Python 3"
    },
    "language_info": {
      "name": "python"
    }
  },
  "cells": [
    {
      "cell_type": "markdown",
      "metadata": {
        "id": "view-in-github",
        "colab_type": "text"
      },
      "source": [
        "<a href=\"https://colab.research.google.com/github/saishshinde15/NLP/blob/main/text_classification_using_ANN.ipynb\" target=\"_parent\"><img src=\"https://colab.research.google.com/assets/colab-badge.svg\" alt=\"Open In Colab\"/></a>"
      ]
    },
    {
      "cell_type": "code",
      "execution_count": 139,
      "metadata": {
        "id": "Cseykburj1J4"
      },
      "outputs": [],
      "source": [
        "import numpy as np\n",
        "import pandas as pd\n",
        "import matplotlib.pyplot as plt\n",
        "import seaborn as sns"
      ]
    },
    {
      "cell_type": "code",
      "source": [
        "from sklearn.feature_extraction.text import TfidfVectorizer"
      ],
      "metadata": {
        "id": "Anl6EJAcm7JU"
      },
      "execution_count": 140,
      "outputs": []
    },
    {
      "cell_type": "code",
      "source": [
        "!wget -nc https://lazyprogrammer.me/course_files/AirlineTweets.csv"
      ],
      "metadata": {
        "colab": {
          "base_uri": "https://localhost:8080/"
        },
        "id": "cCwYfx1ml_19",
        "outputId": "742f82a5-8ae2-4c88-f0f5-fe79cf5a3715"
      },
      "execution_count": 141,
      "outputs": [
        {
          "output_type": "stream",
          "name": "stdout",
          "text": [
            "File ‘AirlineTweets.csv’ already there; not retrieving.\n",
            "\n"
          ]
        }
      ]
    },
    {
      "cell_type": "code",
      "source": [
        "dataset=pd.read_csv('AirlineTweets.csv')"
      ],
      "metadata": {
        "id": "csNLP8i4kVZ1"
      },
      "execution_count": 142,
      "outputs": []
    },
    {
      "cell_type": "code",
      "source": [
        "dataset"
      ],
      "metadata": {
        "colab": {
          "base_uri": "https://localhost:8080/",
          "height": 892
        },
        "id": "sdUhujvQmCZ3",
        "outputId": "c0969d62-4606-41ef-a4e8-37d103df81d0"
      },
      "execution_count": 143,
      "outputs": [
        {
          "output_type": "execute_result",
          "data": {
            "text/plain": [
              "                 tweet_id airline_sentiment  airline_sentiment_confidence  \\\n",
              "0      570306133677760513           neutral                        1.0000   \n",
              "1      570301130888122368          positive                        0.3486   \n",
              "2      570301083672813571           neutral                        0.6837   \n",
              "3      570301031407624196          negative                        1.0000   \n",
              "4      570300817074462722          negative                        1.0000   \n",
              "...                   ...               ...                           ...   \n",
              "14635  569587686496825344          positive                        0.3487   \n",
              "14636  569587371693355008          negative                        1.0000   \n",
              "14637  569587242672398336           neutral                        1.0000   \n",
              "14638  569587188687634433          negative                        1.0000   \n",
              "14639  569587140490866689           neutral                        0.6771   \n",
              "\n",
              "               negativereason  negativereason_confidence         airline  \\\n",
              "0                         NaN                        NaN  Virgin America   \n",
              "1                         NaN                     0.0000  Virgin America   \n",
              "2                         NaN                        NaN  Virgin America   \n",
              "3                  Bad Flight                     0.7033  Virgin America   \n",
              "4                  Can't Tell                     1.0000  Virgin America   \n",
              "...                       ...                        ...             ...   \n",
              "14635                     NaN                     0.0000        American   \n",
              "14636  Customer Service Issue                     1.0000        American   \n",
              "14637                     NaN                        NaN        American   \n",
              "14638  Customer Service Issue                     0.6659        American   \n",
              "14639                     NaN                     0.0000        American   \n",
              "\n",
              "      airline_sentiment_gold             name negativereason_gold  \\\n",
              "0                        NaN          cairdin                 NaN   \n",
              "1                        NaN         jnardino                 NaN   \n",
              "2                        NaN       yvonnalynn                 NaN   \n",
              "3                        NaN         jnardino                 NaN   \n",
              "4                        NaN         jnardino                 NaN   \n",
              "...                      ...              ...                 ...   \n",
              "14635                    NaN  KristenReenders                 NaN   \n",
              "14636                    NaN         itsropes                 NaN   \n",
              "14637                    NaN         sanyabun                 NaN   \n",
              "14638                    NaN       SraJackson                 NaN   \n",
              "14639                    NaN        daviddtwu                 NaN   \n",
              "\n",
              "       retweet_count                                               text  \\\n",
              "0                  0                @VirginAmerica What @dhepburn said.   \n",
              "1                  0  @VirginAmerica plus you've added commercials t...   \n",
              "2                  0  @VirginAmerica I didn't today... Must mean I n...   \n",
              "3                  0  @VirginAmerica it's really aggressive to blast...   \n",
              "4                  0  @VirginAmerica and it's a really big bad thing...   \n",
              "...              ...                                                ...   \n",
              "14635              0  @AmericanAir thank you we got on a different f...   \n",
              "14636              0  @AmericanAir leaving over 20 minutes Late Flig...   \n",
              "14637              0  @AmericanAir Please bring American Airlines to...   \n",
              "14638              0  @AmericanAir you have my money, you change my ...   \n",
              "14639              0  @AmericanAir we have 8 ppl so we need 2 know h...   \n",
              "\n",
              "      tweet_coord              tweet_created tweet_location  \\\n",
              "0             NaN  2015-02-24 11:35:52 -0800            NaN   \n",
              "1             NaN  2015-02-24 11:15:59 -0800            NaN   \n",
              "2             NaN  2015-02-24 11:15:48 -0800      Lets Play   \n",
              "3             NaN  2015-02-24 11:15:36 -0800            NaN   \n",
              "4             NaN  2015-02-24 11:14:45 -0800            NaN   \n",
              "...           ...                        ...            ...   \n",
              "14635         NaN  2015-02-22 12:01:01 -0800            NaN   \n",
              "14636         NaN  2015-02-22 11:59:46 -0800          Texas   \n",
              "14637         NaN  2015-02-22 11:59:15 -0800  Nigeria,lagos   \n",
              "14638         NaN  2015-02-22 11:59:02 -0800     New Jersey   \n",
              "14639         NaN  2015-02-22 11:58:51 -0800     dallas, TX   \n",
              "\n",
              "                    user_timezone  \n",
              "0      Eastern Time (US & Canada)  \n",
              "1      Pacific Time (US & Canada)  \n",
              "2      Central Time (US & Canada)  \n",
              "3      Pacific Time (US & Canada)  \n",
              "4      Pacific Time (US & Canada)  \n",
              "...                           ...  \n",
              "14635                         NaN  \n",
              "14636                         NaN  \n",
              "14637                         NaN  \n",
              "14638  Eastern Time (US & Canada)  \n",
              "14639                         NaN  \n",
              "\n",
              "[14640 rows x 15 columns]"
            ],
            "text/html": [
              "\n",
              "  <div id=\"df-ff3c0c8d-9f8d-4ebf-b9ba-1f21556425b5\" class=\"colab-df-container\">\n",
              "    <div>\n",
              "<style scoped>\n",
              "    .dataframe tbody tr th:only-of-type {\n",
              "        vertical-align: middle;\n",
              "    }\n",
              "\n",
              "    .dataframe tbody tr th {\n",
              "        vertical-align: top;\n",
              "    }\n",
              "\n",
              "    .dataframe thead th {\n",
              "        text-align: right;\n",
              "    }\n",
              "</style>\n",
              "<table border=\"1\" class=\"dataframe\">\n",
              "  <thead>\n",
              "    <tr style=\"text-align: right;\">\n",
              "      <th></th>\n",
              "      <th>tweet_id</th>\n",
              "      <th>airline_sentiment</th>\n",
              "      <th>airline_sentiment_confidence</th>\n",
              "      <th>negativereason</th>\n",
              "      <th>negativereason_confidence</th>\n",
              "      <th>airline</th>\n",
              "      <th>airline_sentiment_gold</th>\n",
              "      <th>name</th>\n",
              "      <th>negativereason_gold</th>\n",
              "      <th>retweet_count</th>\n",
              "      <th>text</th>\n",
              "      <th>tweet_coord</th>\n",
              "      <th>tweet_created</th>\n",
              "      <th>tweet_location</th>\n",
              "      <th>user_timezone</th>\n",
              "    </tr>\n",
              "  </thead>\n",
              "  <tbody>\n",
              "    <tr>\n",
              "      <th>0</th>\n",
              "      <td>570306133677760513</td>\n",
              "      <td>neutral</td>\n",
              "      <td>1.0000</td>\n",
              "      <td>NaN</td>\n",
              "      <td>NaN</td>\n",
              "      <td>Virgin America</td>\n",
              "      <td>NaN</td>\n",
              "      <td>cairdin</td>\n",
              "      <td>NaN</td>\n",
              "      <td>0</td>\n",
              "      <td>@VirginAmerica What @dhepburn said.</td>\n",
              "      <td>NaN</td>\n",
              "      <td>2015-02-24 11:35:52 -0800</td>\n",
              "      <td>NaN</td>\n",
              "      <td>Eastern Time (US &amp; Canada)</td>\n",
              "    </tr>\n",
              "    <tr>\n",
              "      <th>1</th>\n",
              "      <td>570301130888122368</td>\n",
              "      <td>positive</td>\n",
              "      <td>0.3486</td>\n",
              "      <td>NaN</td>\n",
              "      <td>0.0000</td>\n",
              "      <td>Virgin America</td>\n",
              "      <td>NaN</td>\n",
              "      <td>jnardino</td>\n",
              "      <td>NaN</td>\n",
              "      <td>0</td>\n",
              "      <td>@VirginAmerica plus you've added commercials t...</td>\n",
              "      <td>NaN</td>\n",
              "      <td>2015-02-24 11:15:59 -0800</td>\n",
              "      <td>NaN</td>\n",
              "      <td>Pacific Time (US &amp; Canada)</td>\n",
              "    </tr>\n",
              "    <tr>\n",
              "      <th>2</th>\n",
              "      <td>570301083672813571</td>\n",
              "      <td>neutral</td>\n",
              "      <td>0.6837</td>\n",
              "      <td>NaN</td>\n",
              "      <td>NaN</td>\n",
              "      <td>Virgin America</td>\n",
              "      <td>NaN</td>\n",
              "      <td>yvonnalynn</td>\n",
              "      <td>NaN</td>\n",
              "      <td>0</td>\n",
              "      <td>@VirginAmerica I didn't today... Must mean I n...</td>\n",
              "      <td>NaN</td>\n",
              "      <td>2015-02-24 11:15:48 -0800</td>\n",
              "      <td>Lets Play</td>\n",
              "      <td>Central Time (US &amp; Canada)</td>\n",
              "    </tr>\n",
              "    <tr>\n",
              "      <th>3</th>\n",
              "      <td>570301031407624196</td>\n",
              "      <td>negative</td>\n",
              "      <td>1.0000</td>\n",
              "      <td>Bad Flight</td>\n",
              "      <td>0.7033</td>\n",
              "      <td>Virgin America</td>\n",
              "      <td>NaN</td>\n",
              "      <td>jnardino</td>\n",
              "      <td>NaN</td>\n",
              "      <td>0</td>\n",
              "      <td>@VirginAmerica it's really aggressive to blast...</td>\n",
              "      <td>NaN</td>\n",
              "      <td>2015-02-24 11:15:36 -0800</td>\n",
              "      <td>NaN</td>\n",
              "      <td>Pacific Time (US &amp; Canada)</td>\n",
              "    </tr>\n",
              "    <tr>\n",
              "      <th>4</th>\n",
              "      <td>570300817074462722</td>\n",
              "      <td>negative</td>\n",
              "      <td>1.0000</td>\n",
              "      <td>Can't Tell</td>\n",
              "      <td>1.0000</td>\n",
              "      <td>Virgin America</td>\n",
              "      <td>NaN</td>\n",
              "      <td>jnardino</td>\n",
              "      <td>NaN</td>\n",
              "      <td>0</td>\n",
              "      <td>@VirginAmerica and it's a really big bad thing...</td>\n",
              "      <td>NaN</td>\n",
              "      <td>2015-02-24 11:14:45 -0800</td>\n",
              "      <td>NaN</td>\n",
              "      <td>Pacific Time (US &amp; Canada)</td>\n",
              "    </tr>\n",
              "    <tr>\n",
              "      <th>...</th>\n",
              "      <td>...</td>\n",
              "      <td>...</td>\n",
              "      <td>...</td>\n",
              "      <td>...</td>\n",
              "      <td>...</td>\n",
              "      <td>...</td>\n",
              "      <td>...</td>\n",
              "      <td>...</td>\n",
              "      <td>...</td>\n",
              "      <td>...</td>\n",
              "      <td>...</td>\n",
              "      <td>...</td>\n",
              "      <td>...</td>\n",
              "      <td>...</td>\n",
              "      <td>...</td>\n",
              "    </tr>\n",
              "    <tr>\n",
              "      <th>14635</th>\n",
              "      <td>569587686496825344</td>\n",
              "      <td>positive</td>\n",
              "      <td>0.3487</td>\n",
              "      <td>NaN</td>\n",
              "      <td>0.0000</td>\n",
              "      <td>American</td>\n",
              "      <td>NaN</td>\n",
              "      <td>KristenReenders</td>\n",
              "      <td>NaN</td>\n",
              "      <td>0</td>\n",
              "      <td>@AmericanAir thank you we got on a different f...</td>\n",
              "      <td>NaN</td>\n",
              "      <td>2015-02-22 12:01:01 -0800</td>\n",
              "      <td>NaN</td>\n",
              "      <td>NaN</td>\n",
              "    </tr>\n",
              "    <tr>\n",
              "      <th>14636</th>\n",
              "      <td>569587371693355008</td>\n",
              "      <td>negative</td>\n",
              "      <td>1.0000</td>\n",
              "      <td>Customer Service Issue</td>\n",
              "      <td>1.0000</td>\n",
              "      <td>American</td>\n",
              "      <td>NaN</td>\n",
              "      <td>itsropes</td>\n",
              "      <td>NaN</td>\n",
              "      <td>0</td>\n",
              "      <td>@AmericanAir leaving over 20 minutes Late Flig...</td>\n",
              "      <td>NaN</td>\n",
              "      <td>2015-02-22 11:59:46 -0800</td>\n",
              "      <td>Texas</td>\n",
              "      <td>NaN</td>\n",
              "    </tr>\n",
              "    <tr>\n",
              "      <th>14637</th>\n",
              "      <td>569587242672398336</td>\n",
              "      <td>neutral</td>\n",
              "      <td>1.0000</td>\n",
              "      <td>NaN</td>\n",
              "      <td>NaN</td>\n",
              "      <td>American</td>\n",
              "      <td>NaN</td>\n",
              "      <td>sanyabun</td>\n",
              "      <td>NaN</td>\n",
              "      <td>0</td>\n",
              "      <td>@AmericanAir Please bring American Airlines to...</td>\n",
              "      <td>NaN</td>\n",
              "      <td>2015-02-22 11:59:15 -0800</td>\n",
              "      <td>Nigeria,lagos</td>\n",
              "      <td>NaN</td>\n",
              "    </tr>\n",
              "    <tr>\n",
              "      <th>14638</th>\n",
              "      <td>569587188687634433</td>\n",
              "      <td>negative</td>\n",
              "      <td>1.0000</td>\n",
              "      <td>Customer Service Issue</td>\n",
              "      <td>0.6659</td>\n",
              "      <td>American</td>\n",
              "      <td>NaN</td>\n",
              "      <td>SraJackson</td>\n",
              "      <td>NaN</td>\n",
              "      <td>0</td>\n",
              "      <td>@AmericanAir you have my money, you change my ...</td>\n",
              "      <td>NaN</td>\n",
              "      <td>2015-02-22 11:59:02 -0800</td>\n",
              "      <td>New Jersey</td>\n",
              "      <td>Eastern Time (US &amp; Canada)</td>\n",
              "    </tr>\n",
              "    <tr>\n",
              "      <th>14639</th>\n",
              "      <td>569587140490866689</td>\n",
              "      <td>neutral</td>\n",
              "      <td>0.6771</td>\n",
              "      <td>NaN</td>\n",
              "      <td>0.0000</td>\n",
              "      <td>American</td>\n",
              "      <td>NaN</td>\n",
              "      <td>daviddtwu</td>\n",
              "      <td>NaN</td>\n",
              "      <td>0</td>\n",
              "      <td>@AmericanAir we have 8 ppl so we need 2 know h...</td>\n",
              "      <td>NaN</td>\n",
              "      <td>2015-02-22 11:58:51 -0800</td>\n",
              "      <td>dallas, TX</td>\n",
              "      <td>NaN</td>\n",
              "    </tr>\n",
              "  </tbody>\n",
              "</table>\n",
              "<p>14640 rows × 15 columns</p>\n",
              "</div>\n",
              "    <div class=\"colab-df-buttons\">\n",
              "\n",
              "  <div class=\"colab-df-container\">\n",
              "    <button class=\"colab-df-convert\" onclick=\"convertToInteractive('df-ff3c0c8d-9f8d-4ebf-b9ba-1f21556425b5')\"\n",
              "            title=\"Convert this dataframe to an interactive table.\"\n",
              "            style=\"display:none;\">\n",
              "\n",
              "  <svg xmlns=\"http://www.w3.org/2000/svg\" height=\"24px\" viewBox=\"0 -960 960 960\">\n",
              "    <path d=\"M120-120v-720h720v720H120Zm60-500h600v-160H180v160Zm220 220h160v-160H400v160Zm0 220h160v-160H400v160ZM180-400h160v-160H180v160Zm440 0h160v-160H620v160ZM180-180h160v-160H180v160Zm440 0h160v-160H620v160Z\"/>\n",
              "  </svg>\n",
              "    </button>\n",
              "\n",
              "  <style>\n",
              "    .colab-df-container {\n",
              "      display:flex;\n",
              "      gap: 12px;\n",
              "    }\n",
              "\n",
              "    .colab-df-convert {\n",
              "      background-color: #E8F0FE;\n",
              "      border: none;\n",
              "      border-radius: 50%;\n",
              "      cursor: pointer;\n",
              "      display: none;\n",
              "      fill: #1967D2;\n",
              "      height: 32px;\n",
              "      padding: 0 0 0 0;\n",
              "      width: 32px;\n",
              "    }\n",
              "\n",
              "    .colab-df-convert:hover {\n",
              "      background-color: #E2EBFA;\n",
              "      box-shadow: 0px 1px 2px rgba(60, 64, 67, 0.3), 0px 1px 3px 1px rgba(60, 64, 67, 0.15);\n",
              "      fill: #174EA6;\n",
              "    }\n",
              "\n",
              "    .colab-df-buttons div {\n",
              "      margin-bottom: 4px;\n",
              "    }\n",
              "\n",
              "    [theme=dark] .colab-df-convert {\n",
              "      background-color: #3B4455;\n",
              "      fill: #D2E3FC;\n",
              "    }\n",
              "\n",
              "    [theme=dark] .colab-df-convert:hover {\n",
              "      background-color: #434B5C;\n",
              "      box-shadow: 0px 1px 3px 1px rgba(0, 0, 0, 0.15);\n",
              "      filter: drop-shadow(0px 1px 2px rgba(0, 0, 0, 0.3));\n",
              "      fill: #FFFFFF;\n",
              "    }\n",
              "  </style>\n",
              "\n",
              "    <script>\n",
              "      const buttonEl =\n",
              "        document.querySelector('#df-ff3c0c8d-9f8d-4ebf-b9ba-1f21556425b5 button.colab-df-convert');\n",
              "      buttonEl.style.display =\n",
              "        google.colab.kernel.accessAllowed ? 'block' : 'none';\n",
              "\n",
              "      async function convertToInteractive(key) {\n",
              "        const element = document.querySelector('#df-ff3c0c8d-9f8d-4ebf-b9ba-1f21556425b5');\n",
              "        const dataTable =\n",
              "          await google.colab.kernel.invokeFunction('convertToInteractive',\n",
              "                                                    [key], {});\n",
              "        if (!dataTable) return;\n",
              "\n",
              "        const docLinkHtml = 'Like what you see? Visit the ' +\n",
              "          '<a target=\"_blank\" href=https://colab.research.google.com/notebooks/data_table.ipynb>data table notebook</a>'\n",
              "          + ' to learn more about interactive tables.';\n",
              "        element.innerHTML = '';\n",
              "        dataTable['output_type'] = 'display_data';\n",
              "        await google.colab.output.renderOutput(dataTable, element);\n",
              "        const docLink = document.createElement('div');\n",
              "        docLink.innerHTML = docLinkHtml;\n",
              "        element.appendChild(docLink);\n",
              "      }\n",
              "    </script>\n",
              "  </div>\n",
              "\n",
              "\n",
              "<div id=\"df-ec1b4dfa-3d39-4c6b-b895-98b28512ce87\">\n",
              "  <button class=\"colab-df-quickchart\" onclick=\"quickchart('df-ec1b4dfa-3d39-4c6b-b895-98b28512ce87')\"\n",
              "            title=\"Suggest charts\"\n",
              "            style=\"display:none;\">\n",
              "\n",
              "<svg xmlns=\"http://www.w3.org/2000/svg\" height=\"24px\"viewBox=\"0 0 24 24\"\n",
              "     width=\"24px\">\n",
              "    <g>\n",
              "        <path d=\"M19 3H5c-1.1 0-2 .9-2 2v14c0 1.1.9 2 2 2h14c1.1 0 2-.9 2-2V5c0-1.1-.9-2-2-2zM9 17H7v-7h2v7zm4 0h-2V7h2v10zm4 0h-2v-4h2v4z\"/>\n",
              "    </g>\n",
              "</svg>\n",
              "  </button>\n",
              "\n",
              "<style>\n",
              "  .colab-df-quickchart {\n",
              "      --bg-color: #E8F0FE;\n",
              "      --fill-color: #1967D2;\n",
              "      --hover-bg-color: #E2EBFA;\n",
              "      --hover-fill-color: #174EA6;\n",
              "      --disabled-fill-color: #AAA;\n",
              "      --disabled-bg-color: #DDD;\n",
              "  }\n",
              "\n",
              "  [theme=dark] .colab-df-quickchart {\n",
              "      --bg-color: #3B4455;\n",
              "      --fill-color: #D2E3FC;\n",
              "      --hover-bg-color: #434B5C;\n",
              "      --hover-fill-color: #FFFFFF;\n",
              "      --disabled-bg-color: #3B4455;\n",
              "      --disabled-fill-color: #666;\n",
              "  }\n",
              "\n",
              "  .colab-df-quickchart {\n",
              "    background-color: var(--bg-color);\n",
              "    border: none;\n",
              "    border-radius: 50%;\n",
              "    cursor: pointer;\n",
              "    display: none;\n",
              "    fill: var(--fill-color);\n",
              "    height: 32px;\n",
              "    padding: 0;\n",
              "    width: 32px;\n",
              "  }\n",
              "\n",
              "  .colab-df-quickchart:hover {\n",
              "    background-color: var(--hover-bg-color);\n",
              "    box-shadow: 0 1px 2px rgba(60, 64, 67, 0.3), 0 1px 3px 1px rgba(60, 64, 67, 0.15);\n",
              "    fill: var(--button-hover-fill-color);\n",
              "  }\n",
              "\n",
              "  .colab-df-quickchart-complete:disabled,\n",
              "  .colab-df-quickchart-complete:disabled:hover {\n",
              "    background-color: var(--disabled-bg-color);\n",
              "    fill: var(--disabled-fill-color);\n",
              "    box-shadow: none;\n",
              "  }\n",
              "\n",
              "  .colab-df-spinner {\n",
              "    border: 2px solid var(--fill-color);\n",
              "    border-color: transparent;\n",
              "    border-bottom-color: var(--fill-color);\n",
              "    animation:\n",
              "      spin 1s steps(1) infinite;\n",
              "  }\n",
              "\n",
              "  @keyframes spin {\n",
              "    0% {\n",
              "      border-color: transparent;\n",
              "      border-bottom-color: var(--fill-color);\n",
              "      border-left-color: var(--fill-color);\n",
              "    }\n",
              "    20% {\n",
              "      border-color: transparent;\n",
              "      border-left-color: var(--fill-color);\n",
              "      border-top-color: var(--fill-color);\n",
              "    }\n",
              "    30% {\n",
              "      border-color: transparent;\n",
              "      border-left-color: var(--fill-color);\n",
              "      border-top-color: var(--fill-color);\n",
              "      border-right-color: var(--fill-color);\n",
              "    }\n",
              "    40% {\n",
              "      border-color: transparent;\n",
              "      border-right-color: var(--fill-color);\n",
              "      border-top-color: var(--fill-color);\n",
              "    }\n",
              "    60% {\n",
              "      border-color: transparent;\n",
              "      border-right-color: var(--fill-color);\n",
              "    }\n",
              "    80% {\n",
              "      border-color: transparent;\n",
              "      border-right-color: var(--fill-color);\n",
              "      border-bottom-color: var(--fill-color);\n",
              "    }\n",
              "    90% {\n",
              "      border-color: transparent;\n",
              "      border-bottom-color: var(--fill-color);\n",
              "    }\n",
              "  }\n",
              "</style>\n",
              "\n",
              "  <script>\n",
              "    async function quickchart(key) {\n",
              "      const quickchartButtonEl =\n",
              "        document.querySelector('#' + key + ' button');\n",
              "      quickchartButtonEl.disabled = true;  // To prevent multiple clicks.\n",
              "      quickchartButtonEl.classList.add('colab-df-spinner');\n",
              "      try {\n",
              "        const charts = await google.colab.kernel.invokeFunction(\n",
              "            'suggestCharts', [key], {});\n",
              "      } catch (error) {\n",
              "        console.error('Error during call to suggestCharts:', error);\n",
              "      }\n",
              "      quickchartButtonEl.classList.remove('colab-df-spinner');\n",
              "      quickchartButtonEl.classList.add('colab-df-quickchart-complete');\n",
              "    }\n",
              "    (() => {\n",
              "      let quickchartButtonEl =\n",
              "        document.querySelector('#df-ec1b4dfa-3d39-4c6b-b895-98b28512ce87 button');\n",
              "      quickchartButtonEl.style.display =\n",
              "        google.colab.kernel.accessAllowed ? 'block' : 'none';\n",
              "    })();\n",
              "  </script>\n",
              "</div>\n",
              "\n",
              "  <div id=\"id_3d1c5807-2d6f-4fb5-b30f-889d8ae371a7\">\n",
              "    <style>\n",
              "      .colab-df-generate {\n",
              "        background-color: #E8F0FE;\n",
              "        border: none;\n",
              "        border-radius: 50%;\n",
              "        cursor: pointer;\n",
              "        display: none;\n",
              "        fill: #1967D2;\n",
              "        height: 32px;\n",
              "        padding: 0 0 0 0;\n",
              "        width: 32px;\n",
              "      }\n",
              "\n",
              "      .colab-df-generate:hover {\n",
              "        background-color: #E2EBFA;\n",
              "        box-shadow: 0px 1px 2px rgba(60, 64, 67, 0.3), 0px 1px 3px 1px rgba(60, 64, 67, 0.15);\n",
              "        fill: #174EA6;\n",
              "      }\n",
              "\n",
              "      [theme=dark] .colab-df-generate {\n",
              "        background-color: #3B4455;\n",
              "        fill: #D2E3FC;\n",
              "      }\n",
              "\n",
              "      [theme=dark] .colab-df-generate:hover {\n",
              "        background-color: #434B5C;\n",
              "        box-shadow: 0px 1px 3px 1px rgba(0, 0, 0, 0.15);\n",
              "        filter: drop-shadow(0px 1px 2px rgba(0, 0, 0, 0.3));\n",
              "        fill: #FFFFFF;\n",
              "      }\n",
              "    </style>\n",
              "    <button class=\"colab-df-generate\" onclick=\"generateWithVariable('dataset')\"\n",
              "            title=\"Generate code using this dataframe.\"\n",
              "            style=\"display:none;\">\n",
              "\n",
              "  <svg xmlns=\"http://www.w3.org/2000/svg\" height=\"24px\"viewBox=\"0 0 24 24\"\n",
              "       width=\"24px\">\n",
              "    <path d=\"M7,19H8.4L18.45,9,17,7.55,7,17.6ZM5,21V16.75L18.45,3.32a2,2,0,0,1,2.83,0l1.4,1.43a1.91,1.91,0,0,1,.58,1.4,1.91,1.91,0,0,1-.58,1.4L9.25,21ZM18.45,9,17,7.55Zm-12,3A5.31,5.31,0,0,0,4.9,8.1,5.31,5.31,0,0,0,1,6.5,5.31,5.31,0,0,0,4.9,4.9,5.31,5.31,0,0,0,6.5,1,5.31,5.31,0,0,0,8.1,4.9,5.31,5.31,0,0,0,12,6.5,5.46,5.46,0,0,0,6.5,12Z\"/>\n",
              "  </svg>\n",
              "    </button>\n",
              "    <script>\n",
              "      (() => {\n",
              "      const buttonEl =\n",
              "        document.querySelector('#id_3d1c5807-2d6f-4fb5-b30f-889d8ae371a7 button.colab-df-generate');\n",
              "      buttonEl.style.display =\n",
              "        google.colab.kernel.accessAllowed ? 'block' : 'none';\n",
              "\n",
              "      buttonEl.onclick = () => {\n",
              "        google.colab.notebook.generateWithVariable('dataset');\n",
              "      }\n",
              "      })();\n",
              "    </script>\n",
              "  </div>\n",
              "\n",
              "    </div>\n",
              "  </div>\n"
            ],
            "application/vnd.google.colaboratory.intrinsic+json": {
              "type": "dataframe",
              "variable_name": "dataset",
              "summary": "{\n  \"name\": \"dataset\",\n  \"rows\": 14640,\n  \"fields\": [\n    {\n      \"column\": \"tweet_id\",\n      \"properties\": {\n        \"dtype\": \"number\",\n        \"std\": 779111158481835,\n        \"min\": 567588278875213824,\n        \"max\": 570310600460525568,\n        \"num_unique_values\": 14485,\n        \"samples\": [\n          567917894144770049,\n          567813976492417024,\n          569243676594941953\n        ],\n        \"semantic_type\": \"\",\n        \"description\": \"\"\n      }\n    },\n    {\n      \"column\": \"airline_sentiment\",\n      \"properties\": {\n        \"dtype\": \"category\",\n        \"num_unique_values\": 3,\n        \"samples\": [\n          \"neutral\",\n          \"positive\",\n          \"negative\"\n        ],\n        \"semantic_type\": \"\",\n        \"description\": \"\"\n      }\n    },\n    {\n      \"column\": \"airline_sentiment_confidence\",\n      \"properties\": {\n        \"dtype\": \"number\",\n        \"std\": 0.16282995909867212,\n        \"min\": 0.335,\n        \"max\": 1.0,\n        \"num_unique_values\": 1023,\n        \"samples\": [\n          0.6723,\n          0.3551,\n          0.6498\n        ],\n        \"semantic_type\": \"\",\n        \"description\": \"\"\n      }\n    },\n    {\n      \"column\": \"negativereason\",\n      \"properties\": {\n        \"dtype\": \"category\",\n        \"num_unique_values\": 10,\n        \"samples\": [\n          \"Damaged Luggage\",\n          \"Can't Tell\",\n          \"Lost Luggage\"\n        ],\n        \"semantic_type\": \"\",\n        \"description\": \"\"\n      }\n    },\n    {\n      \"column\": \"negativereason_confidence\",\n      \"properties\": {\n        \"dtype\": \"number\",\n        \"std\": 0.3304397596377297,\n        \"min\": 0.0,\n        \"max\": 1.0,\n        \"num_unique_values\": 1410,\n        \"samples\": [\n          0.6677,\n          0.6622,\n          0.6905\n        ],\n        \"semantic_type\": \"\",\n        \"description\": \"\"\n      }\n    },\n    {\n      \"column\": \"airline\",\n      \"properties\": {\n        \"dtype\": \"category\",\n        \"num_unique_values\": 6,\n        \"samples\": [\n          \"Virgin America\",\n          \"United\",\n          \"American\"\n        ],\n        \"semantic_type\": \"\",\n        \"description\": \"\"\n      }\n    },\n    {\n      \"column\": \"airline_sentiment_gold\",\n      \"properties\": {\n        \"dtype\": \"category\",\n        \"num_unique_values\": 3,\n        \"samples\": [\n          \"negative\",\n          \"neutral\",\n          \"positive\"\n        ],\n        \"semantic_type\": \"\",\n        \"description\": \"\"\n      }\n    },\n    {\n      \"column\": \"name\",\n      \"properties\": {\n        \"dtype\": \"string\",\n        \"num_unique_values\": 7701,\n        \"samples\": [\n          \"smckenna719\",\n          \"thisAnneM\",\n          \"jmspool\"\n        ],\n        \"semantic_type\": \"\",\n        \"description\": \"\"\n      }\n    },\n    {\n      \"column\": \"negativereason_gold\",\n      \"properties\": {\n        \"dtype\": \"category\",\n        \"num_unique_values\": 13,\n        \"samples\": [\n          \"Customer Service Issue\\nLost Luggage\",\n          \"Late Flight\\nCancelled Flight\",\n          \"Late Flight\\nFlight Attendant Complaints\"\n        ],\n        \"semantic_type\": \"\",\n        \"description\": \"\"\n      }\n    },\n    {\n      \"column\": \"retweet_count\",\n      \"properties\": {\n        \"dtype\": \"number\",\n        \"std\": 0,\n        \"min\": 0,\n        \"max\": 44,\n        \"num_unique_values\": 18,\n        \"samples\": [\n          0,\n          1,\n          6\n        ],\n        \"semantic_type\": \"\",\n        \"description\": \"\"\n      }\n    },\n    {\n      \"column\": \"text\",\n      \"properties\": {\n        \"dtype\": \"string\",\n        \"num_unique_values\": 14427,\n        \"samples\": [\n          \"@JetBlue so technically I could drive to JFK now and put in. Request for tomorrow's flight?\",\n          \"@united why I won't check my carry on. Watched a handler throw this bag -- miss the conveyer belt -- sat there 10 min http://t.co/lyoocx5mSH\",\n          \"@SouthwestAir you guys are so clever \\ud83d\\ude03 http://t.co/qn5odUGFqK\"\n        ],\n        \"semantic_type\": \"\",\n        \"description\": \"\"\n      }\n    },\n    {\n      \"column\": \"tweet_coord\",\n      \"properties\": {\n        \"dtype\": \"category\",\n        \"num_unique_values\": 832,\n        \"samples\": [\n          \"[40.04915451, -75.10364317]\",\n          \"[32.97609561, -96.53349238]\",\n          \"[26.37852293, -81.78472152]\"\n        ],\n        \"semantic_type\": \"\",\n        \"description\": \"\"\n      }\n    },\n    {\n      \"column\": \"tweet_created\",\n      \"properties\": {\n        \"dtype\": \"object\",\n        \"num_unique_values\": 14247,\n        \"samples\": [\n          \"2015-02-23 07:40:55 -0800\",\n          \"2015-02-21 16:20:09 -0800\",\n          \"2015-02-21 21:33:21 -0800\"\n        ],\n        \"semantic_type\": \"\",\n        \"description\": \"\"\n      }\n    },\n    {\n      \"column\": \"tweet_location\",\n      \"properties\": {\n        \"dtype\": \"category\",\n        \"num_unique_values\": 3081,\n        \"samples\": [\n          \"Oakland, California\",\n          \"Beverly Hills, CA\",\n          \"Austin, TX/NY, NY\"\n        ],\n        \"semantic_type\": \"\",\n        \"description\": \"\"\n      }\n    },\n    {\n      \"column\": \"user_timezone\",\n      \"properties\": {\n        \"dtype\": \"category\",\n        \"num_unique_values\": 85,\n        \"samples\": [\n          \"Helsinki\",\n          \"Eastern Time (US & Canada)\",\n          \"America/Detroit\"\n        ],\n        \"semantic_type\": \"\",\n        \"description\": \"\"\n      }\n    }\n  ]\n}"
            }
          },
          "metadata": {},
          "execution_count": 143
        }
      ]
    },
    {
      "cell_type": "code",
      "source": [
        "dataset.isnull().sum()"
      ],
      "metadata": {
        "colab": {
          "base_uri": "https://localhost:8080/"
        },
        "id": "Rb7qTmmHmQGQ",
        "outputId": "3e127520-f5eb-44f4-ff57-f2f5e68c919e"
      },
      "execution_count": 144,
      "outputs": [
        {
          "output_type": "execute_result",
          "data": {
            "text/plain": [
              "tweet_id                            0\n",
              "airline_sentiment                   0\n",
              "airline_sentiment_confidence        0\n",
              "negativereason                   5462\n",
              "negativereason_confidence        4118\n",
              "airline                             0\n",
              "airline_sentiment_gold          14600\n",
              "name                                0\n",
              "negativereason_gold             14608\n",
              "retweet_count                       0\n",
              "text                                0\n",
              "tweet_coord                     13621\n",
              "tweet_created                       0\n",
              "tweet_location                   4733\n",
              "user_timezone                    4820\n",
              "dtype: int64"
            ]
          },
          "metadata": {},
          "execution_count": 144
        }
      ]
    },
    {
      "cell_type": "code",
      "source": [
        "X=dataset['text']"
      ],
      "metadata": {
        "id": "R3DcEP4OmDyu"
      },
      "execution_count": 145,
      "outputs": []
    },
    {
      "cell_type": "code",
      "source": [
        "X"
      ],
      "metadata": {
        "colab": {
          "base_uri": "https://localhost:8080/"
        },
        "id": "s5f3j9m7mNDA",
        "outputId": "070eadc2-b92a-4ef6-c651-6e5bad779310"
      },
      "execution_count": 146,
      "outputs": [
        {
          "output_type": "execute_result",
          "data": {
            "text/plain": [
              "0                      @VirginAmerica What @dhepburn said.\n",
              "1        @VirginAmerica plus you've added commercials t...\n",
              "2        @VirginAmerica I didn't today... Must mean I n...\n",
              "3        @VirginAmerica it's really aggressive to blast...\n",
              "4        @VirginAmerica and it's a really big bad thing...\n",
              "                               ...                        \n",
              "14635    @AmericanAir thank you we got on a different f...\n",
              "14636    @AmericanAir leaving over 20 minutes Late Flig...\n",
              "14637    @AmericanAir Please bring American Airlines to...\n",
              "14638    @AmericanAir you have my money, you change my ...\n",
              "14639    @AmericanAir we have 8 ppl so we need 2 know h...\n",
              "Name: text, Length: 14640, dtype: object"
            ]
          },
          "metadata": {},
          "execution_count": 146
        }
      ]
    },
    {
      "cell_type": "code",
      "source": [
        "y=dataset['airline_sentiment'].values"
      ],
      "metadata": {
        "id": "xstRHMf3mNcQ"
      },
      "execution_count": 147,
      "outputs": []
    },
    {
      "cell_type": "code",
      "source": [
        "y"
      ],
      "metadata": {
        "colab": {
          "base_uri": "https://localhost:8080/"
        },
        "id": "9kUhZXFzmcKa",
        "outputId": "a32014a4-b90a-47d3-82dd-382af7809c71"
      },
      "execution_count": 148,
      "outputs": [
        {
          "output_type": "execute_result",
          "data": {
            "text/plain": [
              "array(['neutral', 'positive', 'neutral', ..., 'neutral', 'negative',\n",
              "       'neutral'], dtype=object)"
            ]
          },
          "metadata": {},
          "execution_count": 148
        }
      ]
    },
    {
      "cell_type": "code",
      "source": [
        "from sklearn.preprocessing import LabelEncoder\n",
        "encoder = LabelEncoder()\n",
        "y = encoder.fit_transform(y)\n"
      ],
      "metadata": {
        "id": "xlxWY_j00N-3"
      },
      "execution_count": 166,
      "outputs": []
    },
    {
      "cell_type": "code",
      "source": [
        "y"
      ],
      "metadata": {
        "colab": {
          "base_uri": "https://localhost:8080/"
        },
        "id": "1XwDxBEzoLn8",
        "outputId": "54689511-5b0c-449f-92ff-2a9b7e4fa895"
      },
      "execution_count": 167,
      "outputs": [
        {
          "output_type": "execute_result",
          "data": {
            "text/plain": [
              "array([1, 2, 1, ..., 1, 0, 1])"
            ]
          },
          "metadata": {},
          "execution_count": 167
        }
      ]
    },
    {
      "cell_type": "code",
      "source": [
        "from sklearn.model_selection import train_test_split\n",
        "X_train_input, X_test_input, y_train, y_test = train_test_split(X, y, test_size=0.2, random_state=0)\n"
      ],
      "metadata": {
        "id": "CePNIkOJmch0"
      },
      "execution_count": 168,
      "outputs": []
    },
    {
      "cell_type": "code",
      "source": [
        "len(X_train_input)"
      ],
      "metadata": {
        "colab": {
          "base_uri": "https://localhost:8080/"
        },
        "id": "It7p-O7Zmz21",
        "outputId": "9afcd852-a2b3-4051-d0e6-ef8ac7cf861c"
      },
      "execution_count": 169,
      "outputs": [
        {
          "output_type": "execute_result",
          "data": {
            "text/plain": [
              "11712"
            ]
          },
          "metadata": {},
          "execution_count": 169
        }
      ]
    },
    {
      "cell_type": "code",
      "source": [
        "len(y_train)"
      ],
      "metadata": {
        "colab": {
          "base_uri": "https://localhost:8080/"
        },
        "id": "c7jqbsFkm1Dh",
        "outputId": "f2ff8b90-5e32-487b-dab6-452b65f948cb"
      },
      "execution_count": 170,
      "outputs": [
        {
          "output_type": "execute_result",
          "data": {
            "text/plain": [
              "11712"
            ]
          },
          "metadata": {},
          "execution_count": 170
        }
      ]
    },
    {
      "cell_type": "code",
      "source": [
        "vectorizer=TfidfVectorizer(max_features=2000)"
      ],
      "metadata": {
        "id": "RmPs3Y3cm2vd"
      },
      "execution_count": 171,
      "outputs": []
    },
    {
      "cell_type": "code",
      "source": [
        "X_train=vectorizer.fit_transform(X_train_input)\n",
        "X_test=vectorizer.transform(X_test_input)"
      ],
      "metadata": {
        "id": "R5ZqdMQunWmc"
      },
      "execution_count": 172,
      "outputs": []
    },
    {
      "cell_type": "code",
      "source": [
        "X_train=X_train.toarray()  # data must not be sparse matrix before passing into tensorflow\n",
        "X_test=X_test.toarray()     # this is the additionl step in using deep learning"
      ],
      "metadata": {
        "id": "8UcFT3v8nmD_"
      },
      "execution_count": 173,
      "outputs": []
    },
    {
      "cell_type": "code",
      "source": [
        "# input dimensions\n",
        "D = X_train.shape[1]"
      ],
      "metadata": {
        "id": "e3UKTNhbQOf2"
      },
      "execution_count": null,
      "outputs": []
    },
    {
      "cell_type": "code",
      "source": [
        "import tensorflow as tf"
      ],
      "metadata": {
        "id": "OlbjgdmaoOf3"
      },
      "execution_count": 174,
      "outputs": []
    },
    {
      "cell_type": "code",
      "source": [
        "ann=tf.keras.models.Sequential()"
      ],
      "metadata": {
        "id": "hG7FTqpeobGK"
      },
      "execution_count": 175,
      "outputs": []
    },
    {
      "cell_type": "code",
      "source": [
        "ann.add(tf.keras.layers.Dense(units=2000,activation='relu')) # here we took 2000 as dimension of X_train(columns in X_train) is 2000,we can start from 100 and compare it with 2000"
      ],
      "metadata": {
        "id": "Q3isAVn3ojHB"
      },
      "execution_count": 176,
      "outputs": []
    },
    {
      "cell_type": "code",
      "source": [
        "ann.add(tf.keras.layers.Dropout(rate=0.5))"
      ],
      "metadata": {
        "id": "smMoFhVypQhD"
      },
      "execution_count": 177,
      "outputs": []
    },
    {
      "cell_type": "code",
      "source": [
        "ann.add(tf.keras.layers.Dense(units=1,activation='sigmoid'))"
      ],
      "metadata": {
        "id": "fMq0BlTto0FA"
      },
      "execution_count": 178,
      "outputs": []
    },
    {
      "cell_type": "code",
      "source": [
        "ann.compile(optimizer='adam',loss='binary_crossentropy',metrics=['accuracy'])"
      ],
      "metadata": {
        "id": "oZ9DyjwAo2bC"
      },
      "execution_count": 179,
      "outputs": []
    },
    {
      "cell_type": "code",
      "source": [
        "from tensorflow.keras.callbacks import EarlyStopping\n"
      ],
      "metadata": {
        "id": "3AcSF5g_sWnS"
      },
      "execution_count": 180,
      "outputs": []
    },
    {
      "cell_type": "code",
      "source": [
        "early_stopping = EarlyStopping(monitor='val_loss', patience=5)"
      ],
      "metadata": {
        "id": "eHSgxcVPsICV"
      },
      "execution_count": 181,
      "outputs": []
    },
    {
      "cell_type": "code",
      "source": [
        "history=ann.fit(X_train,y_train,batch_size=128,epochs=40,validation_data=(X_test,y_test),callbacks=[early_stopping]). ## not getting a great loss,make changes accordingly"
      ],
      "metadata": {
        "colab": {
          "base_uri": "https://localhost:8080/"
        },
        "id": "rzTyqgm9pCXu",
        "outputId": "965f5b98-eee0-40dc-802a-25c4fbaa5495"
      },
      "execution_count": 182,
      "outputs": [
        {
          "output_type": "stream",
          "name": "stdout",
          "text": [
            "Epoch 1/40\n",
            "92/92 [==============================] - 21s 217ms/step - loss: 0.1257 - accuracy: 0.6339 - val_loss: -0.4693 - val_accuracy: 0.6387\n",
            "Epoch 2/40\n",
            "92/92 [==============================] - 21s 234ms/step - loss: -1.9092 - accuracy: 0.6342 - val_loss: -2.3035 - val_accuracy: 0.5806\n",
            "Epoch 3/40\n",
            "92/92 [==============================] - 18s 202ms/step - loss: -5.7390 - accuracy: 0.6351 - val_loss: -5.6887 - val_accuracy: 0.6018\n",
            "Epoch 4/40\n",
            "92/92 [==============================] - 19s 203ms/step - loss: -11.9056 - accuracy: 0.6349 - val_loss: -10.6677 - val_accuracy: 0.5970\n",
            "Epoch 5/40\n",
            "92/92 [==============================] - 21s 233ms/step - loss: -20.6461 - accuracy: 0.6356 - val_loss: -17.1179 - val_accuracy: 0.6011\n",
            "Epoch 6/40\n",
            "92/92 [==============================] - 19s 208ms/step - loss: -31.7667 - accuracy: 0.6360 - val_loss: -25.0956 - val_accuracy: 0.6001\n",
            "Epoch 7/40\n",
            "92/92 [==============================] - 18s 199ms/step - loss: -45.0709 - accuracy: 0.6342 - val_loss: -34.6795 - val_accuracy: 0.5977\n",
            "Epoch 8/40\n",
            "92/92 [==============================] - 15s 168ms/step - loss: -60.6604 - accuracy: 0.6355 - val_loss: -45.2689 - val_accuracy: 0.5949\n",
            "Epoch 9/40\n",
            "92/92 [==============================] - 19s 211ms/step - loss: -78.8280 - accuracy: 0.6387 - val_loss: -56.9875 - val_accuracy: 0.5833\n",
            "Epoch 10/40\n",
            "92/92 [==============================] - 20s 214ms/step - loss: -98.5138 - accuracy: 0.6370 - val_loss: -70.6854 - val_accuracy: 0.5850\n",
            "Epoch 11/40\n",
            "92/92 [==============================] - 20s 218ms/step - loss: -120.4404 - accuracy: 0.6356 - val_loss: -85.9338 - val_accuracy: 0.5949\n",
            "Epoch 12/40\n",
            "92/92 [==============================] - 23s 251ms/step - loss: -144.4356 - accuracy: 0.6380 - val_loss: -101.7606 - val_accuracy: 0.5936\n",
            "Epoch 13/40\n",
            "92/92 [==============================] - 19s 211ms/step - loss: -170.1964 - accuracy: 0.6344 - val_loss: -119.4027 - val_accuracy: 0.6035\n",
            "Epoch 14/40\n",
            "92/92 [==============================] - 22s 241ms/step - loss: -198.1577 - accuracy: 0.6340 - val_loss: -138.1072 - val_accuracy: 0.6055\n",
            "Epoch 15/40\n",
            "92/92 [==============================] - 28s 304ms/step - loss: -227.2319 - accuracy: 0.6383 - val_loss: -157.0256 - val_accuracy: 0.5973\n",
            "Epoch 16/40\n",
            "92/92 [==============================] - 16s 177ms/step - loss: -258.5805 - accuracy: 0.6395 - val_loss: -176.8228 - val_accuracy: 0.5943\n",
            "Epoch 17/40\n",
            "92/92 [==============================] - 18s 201ms/step - loss: -291.4458 - accuracy: 0.6359 - val_loss: -198.2233 - val_accuracy: 0.5939\n",
            "Epoch 18/40\n",
            "92/92 [==============================] - 22s 239ms/step - loss: -325.4823 - accuracy: 0.6367 - val_loss: -221.6051 - val_accuracy: 0.5953\n",
            "Epoch 19/40\n",
            "92/92 [==============================] - 17s 187ms/step - loss: -361.4189 - accuracy: 0.6368 - val_loss: -245.2233 - val_accuracy: 0.5963\n",
            "Epoch 20/40\n",
            "92/92 [==============================] - 19s 206ms/step - loss: -399.4015 - accuracy: 0.6398 - val_loss: -268.6253 - val_accuracy: 0.5949\n",
            "Epoch 21/40\n",
            "92/92 [==============================] - 23s 248ms/step - loss: -438.8218 - accuracy: 0.6373 - val_loss: -295.1094 - val_accuracy: 0.5946\n",
            "Epoch 22/40\n",
            "92/92 [==============================] - 22s 243ms/step - loss: -478.8929 - accuracy: 0.6360 - val_loss: -321.2931 - val_accuracy: 0.5960\n",
            "Epoch 23/40\n",
            "92/92 [==============================] - 19s 205ms/step - loss: -520.7754 - accuracy: 0.6378 - val_loss: -349.3800 - val_accuracy: 0.5946\n",
            "Epoch 24/40\n",
            "92/92 [==============================] - 23s 252ms/step - loss: -565.4650 - accuracy: 0.6388 - val_loss: -376.7809 - val_accuracy: 0.5908\n",
            "Epoch 25/40\n",
            "92/92 [==============================] - 22s 246ms/step - loss: -610.6277 - accuracy: 0.6405 - val_loss: -405.2670 - val_accuracy: 0.5885\n",
            "Epoch 26/40\n",
            "92/92 [==============================] - 19s 209ms/step - loss: -657.3912 - accuracy: 0.6365 - val_loss: -436.5206 - val_accuracy: 0.5932\n",
            "Epoch 27/40\n",
            "92/92 [==============================] - 18s 199ms/step - loss: -704.1081 - accuracy: 0.6392 - val_loss: -466.6947 - val_accuracy: 0.5902\n",
            "Epoch 28/40\n",
            "92/92 [==============================] - 20s 215ms/step - loss: -752.8788 - accuracy: 0.6369 - val_loss: -499.7424 - val_accuracy: 0.5956\n",
            "Epoch 29/40\n",
            "92/92 [==============================] - 20s 222ms/step - loss: -804.6775 - accuracy: 0.6387 - val_loss: -531.1775 - val_accuracy: 0.5912\n",
            "Epoch 30/40\n",
            "92/92 [==============================] - 19s 210ms/step - loss: -856.3214 - accuracy: 0.6359 - val_loss: -566.3421 - val_accuracy: 0.5956\n",
            "Epoch 31/40\n",
            "92/92 [==============================] - 22s 245ms/step - loss: -909.3749 - accuracy: 0.6374 - val_loss: -598.8038 - val_accuracy: 0.5908\n",
            "Epoch 32/40\n",
            "92/92 [==============================] - 22s 241ms/step - loss: -963.8683 - accuracy: 0.6393 - val_loss: -634.7043 - val_accuracy: 0.5915\n",
            "Epoch 33/40\n",
            "92/92 [==============================] - 22s 237ms/step - loss: -1019.5165 - accuracy: 0.6380 - val_loss: -671.3416 - val_accuracy: 0.5922\n",
            "Epoch 34/40\n",
            "92/92 [==============================] - 18s 195ms/step - loss: -1078.1208 - accuracy: 0.6385 - val_loss: -707.0603 - val_accuracy: 0.5919\n",
            "Epoch 35/40\n",
            "92/92 [==============================] - 57s 622ms/step - loss: -1136.2015 - accuracy: 0.6363 - val_loss: -747.1948 - val_accuracy: 0.5956\n",
            "Epoch 36/40\n",
            "92/92 [==============================] - 19s 211ms/step - loss: -1192.3649 - accuracy: 0.6387 - val_loss: -783.4197 - val_accuracy: 0.5912\n",
            "Epoch 37/40\n",
            "92/92 [==============================] - 21s 235ms/step - loss: -1255.8948 - accuracy: 0.6375 - val_loss: -823.1633 - val_accuracy: 0.5908\n",
            "Epoch 38/40\n",
            "92/92 [==============================] - 22s 242ms/step - loss: -1316.1857 - accuracy: 0.6371 - val_loss: -863.2716 - val_accuracy: 0.5915\n",
            "Epoch 39/40\n",
            "92/92 [==============================] - 24s 265ms/step - loss: -1378.8348 - accuracy: 0.6393 - val_loss: -903.1750 - val_accuracy: 0.5929\n",
            "Epoch 40/40\n",
            "92/92 [==============================] - 19s 203ms/step - loss: -1445.7667 - accuracy: 0.6393 - val_loss: -943.4711 - val_accuracy: 0.5905\n"
          ]
        }
      ]
    },
    {
      "cell_type": "code",
      "source": [
        "ann.evaluate(X_test,y_test)"
      ],
      "metadata": {
        "colab": {
          "base_uri": "https://localhost:8080/"
        },
        "id": "FGIQzekGqDqp",
        "outputId": "227721e4-ced6-4bd8-b897-846fa86f3238"
      },
      "execution_count": 183,
      "outputs": [
        {
          "output_type": "stream",
          "name": "stdout",
          "text": [
            "92/92 [==============================] - 2s 21ms/step - loss: -943.4713 - accuracy: 0.5905\n"
          ]
        },
        {
          "output_type": "execute_result",
          "data": {
            "text/plain": [
              "[-943.4713134765625, 0.5905054807662964]"
            ]
          },
          "metadata": {},
          "execution_count": 183
        }
      ]
    },
    {
      "cell_type": "code",
      "source": [
        "ann.evaluate(X_train,y_train)"
      ],
      "metadata": {
        "colab": {
          "base_uri": "https://localhost:8080/"
        },
        "id": "1olCzECZqxI-",
        "outputId": "c5aea364-4063-4976-f0ba-6137ab98ed7d"
      },
      "execution_count": 184,
      "outputs": [
        {
          "output_type": "stream",
          "name": "stdout",
          "text": [
            "366/366 [==============================] - 11s 31ms/step - loss: -1487.8376 - accuracy: 0.6401\n"
          ]
        },
        {
          "output_type": "execute_result",
          "data": {
            "text/plain": [
              "[-1487.837646484375, 0.6401126980781555]"
            ]
          },
          "metadata": {},
          "execution_count": 184
        }
      ]
    },
    {
      "cell_type": "code",
      "source": [
        "pd.DataFrame(history.history).plot()"
      ],
      "metadata": {
        "colab": {
          "base_uri": "https://localhost:8080/",
          "height": 445
        },
        "id": "qt2zMkKMq3A4",
        "outputId": "1d4309d0-eb6a-4f29-8f05-aa5302e1f0c5"
      },
      "execution_count": 186,
      "outputs": [
        {
          "output_type": "execute_result",
          "data": {
            "text/plain": [
              "<Axes: >"
            ]
          },
          "metadata": {},
          "execution_count": 186
        },
        {
          "output_type": "display_data",
          "data": {
            "text/plain": [
              "<Figure size 640x480 with 1 Axes>"
            ],
            "image/png": "[encoded data removed]"
          },
          "metadata": {}
        }
      ]
    },
    {
      "cell_type": "code",
      "source": [
        "plt.figure(figsize=(10, 6))\n",
        "plt.plot(history.history['accuracy'], label='Training Accuracy')\n",
        "plt.plot(history.history['val_accuracy'], label='Validation Accuracy')\n",
        "plt.title('Training and Validation Accuracy')\n",
        "plt.xlabel('Epoch')\n",
        "plt.ylabel('Accuracy')\n",
        "plt.legend()\n",
        "plt.grid(True)\n",
        "plt.show()"
      ],
      "metadata": {
        "colab": {
          "base_uri": "https://localhost:8080/",
          "height": 563
        },
        "id": "uoLfttjUvzbQ",
        "outputId": "4d2bef9c-0f6a-44c0-fb4c-313a3ca71fd5"
      },
      "execution_count": 188,
      "outputs": [
        {
          "output_type": "display_data",
          "data": {
            "text/plain": [
              "<Figure size 1000x600 with 1 Axes>"
            ],
            "image/png": "[encoded data removed]"
          },
          "metadata": {}
        }
      ]
    },
    {
      "cell_type": "code",
      "source": [
        "plt.figure(figsize=(10, 6))\n",
        "plt.plot(history.history['loss'], label='Training Loss')\n",
        "plt.plot(history.history['val_loss'], label='Validation Loss')\n",
        "plt.title('Training and Validation Loss')\n",
        "plt.xlabel('Epoch')\n",
        "plt.ylabel('Loss')\n",
        "plt.legend()\n",
        "plt.grid(True)\n",
        "plt.show()"
      ],
      "metadata": {
        "colab": {
          "base_uri": "https://localhost:8080/",
          "height": 563
        },
        "id": "S1Vg7ccy36e_",
        "outputId": "cb663075-e242-489c-b953-5f12dd9455ed"
      },
      "execution_count": 189,
      "outputs": [
        {
          "output_type": "display_data",
          "data": {
            "text/plain": [
              "<Figure size 1000x600 with 1 Axes>"
            ],
            "image/png": "[encoded data removed]"
          },
          "metadata": {}
        }
      ]
    },
    {
      "cell_type": "code",
      "source": [
        "y_pred=ann.predict(X_test)"
      ],
      "metadata": {
        "colab": {
          "base_uri": "https://localhost:8080/"
        },
        "id": "ZTLzjs9A4Bg_",
        "outputId": "a1f250a9-273b-4561-a988-2b3aa2dc0a29"
      },
      "execution_count": 199,
      "outputs": [
        {
          "output_type": "stream",
          "name": "stdout",
          "text": [
            "92/92 [==============================] - 5s 57ms/step\n"
          ]
        }
      ]
    },
    {
      "cell_type": "code",
      "source": [
        "y_pred = y_pred > 0.5 #to print false / true , if to print numerical 0/1 skip this step"
      ],
      "metadata": {
        "id": "5A5SIUehQ4YU"
      },
      "execution_count": 203,
      "outputs": []
    },
    {
      "cell_type": "code",
      "source": [
        "y_pred"
      ],
      "metadata": {
        "colab": {
          "base_uri": "https://localhost:8080/"
        },
        "id": "PJb98cC2Q632",
        "outputId": "ca690c0b-e2ec-4a8f-a502-d4f6efa4a22b"
      },
      "execution_count": 204,
      "outputs": [
        {
          "output_type": "execute_result",
          "data": {
            "text/plain": [
              "array([[False],\n",
              "       [False],\n",
              "       [False],\n",
              "       ...,\n",
              "       [False],\n",
              "       [False],\n",
              "       [False]])"
            ]
          },
          "metadata": {},
          "execution_count": 204
        }
      ]
    },
    {
      "cell_type": "code",
      "source": [
        "\n",
        "from sklearn.metrics import confusion_matrix\n"
      ],
      "metadata": {
        "id": "3hxMp8FTRgZ0"
      },
      "execution_count": 205,
      "outputs": []
    },
    {
      "cell_type": "code",
      "source": [
        "cm = confusion_matrix(y_test,y_pred, normalize='true')\n",
        "cm"
      ],
      "metadata": {
        "colab": {
          "base_uri": "https://localhost:8080/"
        },
        "id": "WZtKmYp0RcUG",
        "outputId": "4d44b464-23fc-4844-bc4b-5e2f9d8f7307"
      },
      "execution_count": 206,
      "outputs": [
        {
          "output_type": "execute_result",
          "data": {
            "text/plain": [
              "array([[0.66042781, 0.33957219, 0.        ],\n",
              "       [0.19543974, 0.80456026, 0.        ],\n",
              "       [0.03153153, 0.96846847, 0.        ]])"
            ]
          },
          "metadata": {},
          "execution_count": 206
        }
      ]
    },
    {
      "cell_type": "code",
      "source": [
        "def plot_cm(cm):\n",
        "  classes = ['negative', 'neutral','positive'] #according to index values\n",
        "  df_cm = pd.DataFrame(cm, index=classes, columns=classes)\n",
        "  ax = sns.heatmap(df_cm, annot=True, fmt='g')\n",
        "  ax.set_xlabel(\"Predicted\")\n",
        "  ax.set_ylabel(\"Target\")\n",
        "\n",
        "plot_cm(cm)"
      ],
      "metadata": {
        "colab": {
          "base_uri": "https://localhost:8080/",
          "height": 448
        },
        "id": "41HuZ-zBRANJ",
        "outputId": "1c0c3114-9cd0-4a6f-cea7-f3dfababb245"
      },
      "execution_count": 208,
      "outputs": [
        {
          "output_type": "display_data",
          "data": {
            "text/plain": [
              "<Figure size 640x480 with 2 Axes>"
            ],
            "image/png": "[encoded data removed]"
          },
          "metadata": {}
        }
      ]
    },
    {
      "cell_type": "code",
      "source": [
        "\n",
        "\n",
        "from sklearn.metrics import classification_report\n",
        "\n",
        "y_pred = y_pred > 0.5 #to print false / true , if to print numerical 0/1 skip this step\n",
        "\n",
        "print(classification_report(y_test, y_pred))\n"
      ],
      "metadata": {
        "colab": {
          "base_uri": "https://localhost:8080/"
        },
        "id": "Hw_1zQyjRt7A",
        "outputId": "9666260e-81d3-46cf-abe0-d53ffd4d591c"
      },
      "execution_count": 209,
      "outputs": [
        {
          "output_type": "stream",
          "name": "stdout",
          "text": [
            "              precision    recall  f1-score   support\n",
            "\n",
            "           0       0.90      0.66      0.76      1870\n",
            "           1       0.32      0.80      0.45       614\n",
            "           2       0.00      0.00      0.00       444\n",
            "\n",
            "    accuracy                           0.59      2928\n",
            "   macro avg       0.41      0.49      0.41      2928\n",
            "weighted avg       0.64      0.59      0.58      2928\n",
            "\n"
          ]
        }
      ]
    },
    {
      "cell_type": "code",
      "source": [
        "ann.layers"
      ],
      "metadata": {
        "colab": {
          "base_uri": "https://localhost:8080/"
        },
        "id": "epIEgHyFSRQp",
        "outputId": "cca2e868-ac2d-4355-aece-7ba432a00bbd"
      },
      "execution_count": 211,
      "outputs": [
        {
          "output_type": "execute_result",
          "data": {
            "text/plain": [
              "[<keras.src.layers.core.dense.Dense at 0x7acb0a31e860>,\n",
              " <keras.src.layers.regularization.dropout.Dropout at 0x7acad5f17970>,\n",
              " <keras.src.layers.core.dense.Dense at 0x7acad5f17850>]"
            ]
          },
          "metadata": {},
          "execution_count": 211
        }
      ]
    },
    {
      "cell_type": "code",
      "source": [
        "ann.layers[0].get_weights()"
      ],
      "metadata": {
        "colab": {
          "base_uri": "https://localhost:8080/"
        },
        "id": "lzg1a5q0Sa9d",
        "outputId": "27f9a795-f2b5-4c34-d461-6a426779deb6"
      },
      "execution_count": 216,
      "outputs": [
        {
          "output_type": "execute_result",
          "data": {
            "text/plain": [
              "[array([[ 0.44465733,  0.46338663,  0.5176125 , ...,  0.5521644 ,\n",
              "          0.4993422 ,  0.5733481 ],\n",
              "        [-0.11066534,  0.02166188,  0.02565798, ..., -0.05639688,\n",
              "         -0.03128227, -0.14106657],\n",
              "        [ 0.25869146,  0.3609681 ,  0.33012536, ...,  0.36267588,\n",
              "          0.425692  ,  0.36338666],\n",
              "        ...,\n",
              "        [ 0.18960267,  0.23404185,  0.17929086, ...,  0.19693998,\n",
              "          0.3767396 ,  0.28505367],\n",
              "        [-0.00470105,  0.00503363,  0.03971627, ...,  0.02224357,\n",
              "          0.02542781,  0.06940836],\n",
              "        [ 0.5345096 ,  0.6927379 ,  0.5387529 , ...,  0.6456326 ,\n",
              "          0.5825594 ,  0.61943626]], dtype=float32),\n",
              " array([0.7335262, 0.7361592, 0.7350976, ..., 0.7371908, 0.7130185,\n",
              "        0.7352287], dtype=float32)]"
            ]
          },
          "metadata": {},
          "execution_count": 216
        }
      ]
    },
    {
      "cell_type": "code",
      "source": [
        "w = ann.layers[0].get_weights()[0]"
      ],
      "metadata": {
        "id": "Pw41OrilTD2y"
      },
      "execution_count": 219,
      "outputs": []
    },
    {
      "cell_type": "code",
      "source": [
        "word_index_map = vectorizer.vocabulary_\n",
        "word_index_map"
      ],
      "metadata": {
        "colab": {
          "base_uri": "https://localhost:8080/"
        },
        "id": "U-5Sa-VuTH1U",
        "outputId": "81815ed9-ccf5-4b64-acdc-15097de5b2a2"
      },
      "execution_count": 220,
      "outputs": [
        {
          "output_type": "execute_result",
          "data": {
            "text/plain": [
              "{'jetblue': 986,\n",
              " 'yes': 1989,\n",
              " 'catering': 333,\n",
              " 'just': 994,\n",
              " 'got': 829,\n",
              " 'here': 885,\n",
              " 'and': 144,\n",
              " 'now': 1240,\n",
              " 'they': 1748,\n",
              " 'are': 174,\n",
              " 'but': 301,\n",
              " 'very': 1878,\n",
              " 'frustrated': 786,\n",
              " 'was': 1899,\n",
              " 'supposed': 1701,\n",
              " 'to': 1777,\n",
              " 'be': 241,\n",
              " 'there': 1746,\n",
              " 'by': 304,\n",
              " '10': 2,\n",
              " '30': 36,\n",
              " 'united': 1846,\n",
              " 'have': 863,\n",
              " 'amp': 142,\n",
              " 're': 1436,\n",
              " 'when': 1933,\n",
              " 'it': 976,\n",
              " 'would': 1974,\n",
              " 'come': 398,\n",
              " 'this': 1754,\n",
              " 'has': 859,\n",
              " 'never': 1215,\n",
              " 'happened': 853,\n",
              " 'on': 1261,\n",
              " 'any': 155,\n",
              " 'airline': 114,\n",
              " 'my': 1202,\n",
              " 'first': 719,\n",
              " 'time': 1771,\n",
              " 'with': 1951,\n",
              " 'disappointed': 545,\n",
              " 'wife': 1942,\n",
              " 'two': 1828,\n",
              " 'new': 1217,\n",
              " 'stuck': 1684,\n",
              " 'in': 943,\n",
              " 'dc': 491,\n",
              " 'until': 1852,\n",
              " 'monday': 1184,\n",
              " 'no': 1225,\n",
              " 'bags': 229,\n",
              " 'why': 1941,\n",
              " 'do': 559,\n",
              " 'still': 1673,\n",
              " 'not': 1232,\n",
              " 'arrived': 180,\n",
              " 'website': 1914,\n",
              " 'says': 1541,\n",
              " 'at': 194,\n",
              " 'the': 1742,\n",
              " 'airport': 117,\n",
              " 'hours': 910,\n",
              " 'late': 1025,\n",
              " 'flightr': 739,\n",
              " 'nothappy': 1234,\n",
              " 'americanair': 138,\n",
              " 'dfwairport': 531,\n",
              " 'that': 1740,\n",
              " 'dfw': 530,\n",
              " 'omg': 1260,\n",
              " 'yeah': 1985,\n",
              " 'cold': 395,\n",
              " 'southwestair': 1644,\n",
              " '22': 24,\n",
              " 'mdw': 1128,\n",
              " 'san': 1533,\n",
              " 'flt': 745,\n",
              " 'attendant': 199,\n",
              " 'awesome': 218,\n",
              " 'fast': 686,\n",
              " 'great': 832,\n",
              " 'after': 102,\n",
              " 'weather': 1912,\n",
              " 'cancelled': 315,\n",
              " 'flight': 729,\n",
              " 'day': 489,\n",
              " 'b4': 220,\n",
              " 'welcome': 1921,\n",
              " 'usairways': 1866,\n",
              " 'connecting': 430,\n",
              " 'charlotte': 356,\n",
              " 'houston': 912,\n",
              " 'mechanical': 1136,\n",
              " 'issue': 973,\n",
              " 'while': 1937,\n",
              " 'take': 1715,\n",
              " 'off': 1247,\n",
              " 'we': 1911,\n",
              " 'checked': 360,\n",
              " 'our': 1286,\n",
              " 'working': 1965,\n",
              " 'cant': 319,\n",
              " 'talk': 1720,\n",
              " 'phone': 1340,\n",
              " 'check': 359,\n",
              " 'status': 1667,\n",
              " 'out': 1288,\n",
              " 'of': 1246,\n",
              " 'awful': 219,\n",
              " 'get': 809,\n",
              " 'so': 1626,\n",
              " 'many': 1118,\n",
              " 'delays': 507,\n",
              " 'today': 1778,\n",
              " 'what': 1928,\n",
              " 'up': 1853,\n",
              " 'hoping': 903,\n",
              " '12': 6,\n",
              " 'boards': 273,\n",
              " 'soon': 1636,\n",
              " 'how': 913,\n",
              " 'left': 1035,\n",
              " '15': 11,\n",
              " 'min': 1165,\n",
              " 'thank': 1737,\n",
              " 'you': 1994,\n",
              " 'speak': 1646,\n",
              " 'someone': 1631,\n",
              " 'directly': 543,\n",
              " 'appreciate': 171,\n",
              " 'link': 1056,\n",
              " 'spoke': 1654,\n",
              " 'baggage': 228,\n",
              " 'claim': 372,\n",
              " 'center': 339,\n",
              " 'gave': 806,\n",
              " 'me': 1129,\n",
              " 'travel': 1799,\n",
              " 'credit': 461,\n",
              " 'will': 1944,\n",
              " 'for': 759,\n",
              " 'cost': 446,\n",
              " 'did': 533,\n",
              " 'am': 134,\n",
              " 'concerned': 419,\n",
              " 'does': 560,\n",
              " 'even': 628,\n",
              " 'mean': 1132,\n",
              " 'taking': 1719,\n",
              " 'about': 71,\n",
              " 'letting': 1043,\n",
              " 'elite': 600,\n",
              " 'customers': 473,\n",
              " 'who': 1938,\n",
              " 'paid': 1299,\n",
              " 'seat': 1549,\n",
              " 'fill': 711,\n",
              " 'go': 820,\n",
              " 'empty': 610,\n",
              " 'anyway': 159,\n",
              " 'class': 374,\n",
              " 'all': 120,\n",
              " 'way': 1909,\n",
              " 'headed': 869,\n",
              " 'http': 917,\n",
              " 'co': 389,\n",
              " 'if': 933,\n",
              " 'unable': 1835,\n",
              " 'use': 1868,\n",
              " 'departing': 516,\n",
              " 'can': 314,\n",
              " 'returning': 1498,\n",
              " 'call': 308,\n",
              " 'aa': 68,\n",
              " 'hold': 894,\n",
              " 'help': 880,\n",
              " 'four': 770,\n",
              " 'finally': 714,\n",
              " 'flying': 751,\n",
              " 'too': 1783,\n",
              " 'bad': 224,\n",
              " 'missed': 1175,\n",
              " 'event': 630,\n",
              " 'love': 1091,\n",
              " 'air': 111,\n",
              " 'doesn': 561,\n",
              " 'easier': 591,\n",
              " 'sky': 1615,\n",
              " 'from': 783,\n",
              " 'bos': 278,\n",
              " 'sfo': 1577,\n",
              " 'crew': 463,\n",
              " 'rocks': 1507,\n",
              " 'much': 1198,\n",
              " 'more': 1188,\n",
              " 'usair': 1865,\n",
              " 'returned': 1497,\n",
              " 'phl': 1337,\n",
              " 'due': 584,\n",
              " 'issues': 975,\n",
              " 'happens': 855,\n",
              " 'next': 1220,\n",
              " 'landed': 1018,\n",
              " 'den': 512,\n",
              " 'waiting': 1890,\n",
              " 'gate': 804,\n",
              " 'maybe': 1125,\n",
              " 'an': 143,\n",
              " 'update': 1855,\n",
              " 'good': 828,\n",
              " 'idea': 931,\n",
              " 'make': 1110,\n",
              " 'reservation': 1483,\n",
              " 'possibly': 1383,\n",
              " 'worst': 1972,\n",
              " 'them': 1744,\n",
              " 'three': 1761,\n",
              " 'chances': 346,\n",
              " 'second': 1554,\n",
              " 'weeks': 1919,\n",
              " 'been': 246,\n",
              " 'delayed': 505,\n",
              " 'or': 1276,\n",
              " 'flightled': 737,\n",
              " 'mechanics': 1137,\n",
              " 'person': 1332,\n",
              " 'wait': 1888,\n",
              " 'tell': 1729,\n",
              " 'lie': 1047,\n",
              " 'made': 1105,\n",
              " 'sf': 1576,\n",
              " 'earlier': 588,\n",
              " 'sunday': 1696,\n",
              " 'being': 250,\n",
              " 'given': 815,\n",
              " 'callback': 309,\n",
              " 'option': 1274,\n",
              " 'service': 1571,\n",
              " 'turned': 1821,\n",
              " 'sent': 1567,\n",
              " 'denver': 514,\n",
              " 'its': 980,\n",
              " 'feels': 699,\n",
              " 'nice': 1221,\n",
              " 've': 1876,\n",
              " 'going': 823,\n",
              " 'let': 1040,\n",
              " 'better': 255,\n",
              " 'everyone': 634,\n",
              " 'lax': 1028,\n",
              " 'rdu': 1435,\n",
              " 'hour': 909,\n",
              " 'half': 843,\n",
              " 'their': 1743,\n",
              " 'usually': 1873,\n",
              " 'your': 1996,\n",
              " 'lounge': 1090,\n",
              " 'staff': 1657,\n",
              " 'fantastic': 682,\n",
              " 'except': 641,\n",
              " 'mco': 1127,\n",
              " 'where': 1935,\n",
              " 'almost': 125,\n",
              " 'denied': 513,\n",
              " 'though': 1758,\n",
              " 'traveling': 1803,\n",
              " 'sister': 1605,\n",
              " 'received': 1450,\n",
              " 'her': 884,\n",
              " 'trip': 1809,\n",
              " 'wednesday': 1916,\n",
              " 'flts': 746,\n",
              " 'sitting': 1608,\n",
              " 'as': 184,\n",
              " '55': 53,\n",
              " 'boarding': 272,\n",
              " 'is': 971,\n",
              " 'happening': 854,\n",
              " 'info': 957,\n",
              " 'having': 865,\n",
              " 'please': 1366,\n",
              " 'fix': 722,\n",
              " 'ceo': 340,\n",
              " 'right': 1504,\n",
              " 'balance': 230,\n",
              " 'passengers': 1314,\n",
              " 'wall': 1893,\n",
              " 'daily': 480,\n",
              " 'journal': 991,\n",
              " 'didnt': 535,\n",
              " 'tweet': 1823,\n",
              " 'nah': 1204,\n",
              " 'rt': 1518,\n",
              " 'fleet': 727,\n",
              " 'fleek': 726,\n",
              " 'don': 566,\n",
              " 'know': 1005,\n",
              " 'confirmation': 424,\n",
              " 'number': 1241,\n",
              " 'names': 1206,\n",
              " 'attendants': 200,\n",
              " 'supervisor': 1698,\n",
              " 'picked': 1346,\n",
              " 'called': 310,\n",
              " 'thanks': 1738,\n",
              " 'response': 1492,\n",
              " '21': 23,\n",
              " 'dulles': 585,\n",
              " 'works': 1966,\n",
              " 'refund': 1456,\n",
              " 'change': 347,\n",
              " 'fee': 695,\n",
              " 'recent': 1451,\n",
              " 'affected': 100,\n",
              " 'winter': 1949,\n",
              " 'excellent': 640,\n",
              " 'customer': 472,\n",
              " 'pls': 1368,\n",
              " 'send': 1564,\n",
              " 'tech': 1728,\n",
              " 'office': 1252,\n",
              " 'poor': 1377,\n",
              " 'guy': 838,\n",
              " 'trying': 1817,\n",
              " 'print': 1398,\n",
              " 'need': 1212,\n",
              " 'home': 896,\n",
              " 'upgrade': 1858,\n",
              " 'power': 1386,\n",
              " 'had': 841,\n",
              " 'he': 867,\n",
              " 'best': 253,\n",
              " 'virginamerica': 1883,\n",
              " 'absolute': 73,\n",
              " 'team': 1727,\n",
              " 'ever': 632,\n",
              " 'every': 633,\n",
              " 'fly': 747,\n",
              " 'charge': 352,\n",
              " '150': 12,\n",
              " 'because': 244,\n",
              " 'award': 215,\n",
              " 'tickets': 1768,\n",
              " 'want': 1895,\n",
              " 'hard': 857,\n",
              " 'earn': 590,\n",
              " 'points': 1373,\n",
              " 'back': 223,\n",
              " 'total': 1786,\n",
              " 'bs': 293,\n",
              " 'deplane': 521,\n",
              " 'maintenance': 1108,\n",
              " 'available': 211,\n",
              " 'should': 1587,\n",
              " 'partner': 1308,\n",
              " 'different': 539,\n",
              " 'hotel': 907,\n",
              " 'difficult': 540,\n",
              " 'friendly': 780,\n",
              " 'losing': 1086,\n",
              " 'days': 490,\n",
              " 'charging': 355,\n",
              " 'pick': 1345,\n",
              " 'won': 1955,\n",
              " 'reimburse': 1461,\n",
              " 'absolutely': 74,\n",
              " 'worse': 1971,\n",
              " 'cust': 471,\n",
              " 'svc': 1706,\n",
              " 'experienced': 656,\n",
              " '25': 28,\n",
              " 'iah': 926,\n",
              " 'extremely': 665,\n",
              " 'rude': 1519,\n",
              " 'poorservice': 1379,\n",
              " 'economy': 596,\n",
              " 'plus': 1369,\n",
              " 'put': 1423,\n",
              " 'last': 1024,\n",
              " 'group': 834,\n",
              " 'knows': 1007,\n",
              " 'vacation': 1874,\n",
              " 'couldn': 449,\n",
              " 'anywhere': 160,\n",
              " 'also': 130,\n",
              " 'lost': 1087,\n",
              " 'mine': 1167,\n",
              " 'window': 1947,\n",
              " 'seats': 1552,\n",
              " 'tomorrow': 1781,\n",
              " 'paper': 1303,\n",
              " 'said': 1531,\n",
              " '2x': 35,\n",
              " 'layover': 1029,\n",
              " 'tho': 1756,\n",
              " 'once': 1263,\n",
              " 'found': 769,\n",
              " 'problem': 1403,\n",
              " 'like': 1052,\n",
              " 'told': 1780,\n",
              " 'find': 715,\n",
              " 'times': 1773,\n",
              " 'see': 1557,\n",
              " 'poorly': 1378,\n",
              " 'report': 1471,\n",
              " 'guys': 839,\n",
              " 'ridiculous': 1503,\n",
              " 'mon': 1183,\n",
              " 'than': 1736,\n",
              " 'https': 918,\n",
              " 'gt': 835,\n",
              " 'dca': 492,\n",
              " 'again': 104,\n",
              " 'needs': 1214,\n",
              " 'stop': 1675,\n",
              " 'complaints': 413,\n",
              " 'faa': 669,\n",
              " 'phx': 1343,\n",
              " 'im': 935,\n",
              " 'plane': 1358,\n",
              " 'policy': 1376,\n",
              " 'regarding': 1460,\n",
              " 'large': 1022,\n",
              " 'size': 1611,\n",
              " 'cannot': 318,\n",
              " 'fit': 720,\n",
              " 'into': 967,\n",
              " 'single': 1604,\n",
              " 'coach': 390,\n",
              " 'suppose': 1700,\n",
              " 'horrible': 904,\n",
              " 'notice': 1236,\n",
              " 'try': 1816,\n",
              " 'route': 1512,\n",
              " 'heading': 870,\n",
              " 'buffalo': 296,\n",
              " 'boston': 279,\n",
              " 'didn': 534,\n",
              " 'wifi': 1943,\n",
              " 'promised': 1409,\n",
              " 'ground': 833,\n",
              " 'ask': 187,\n",
              " 'cab': 305,\n",
              " 'fare': 684,\n",
              " 'say': 1539,\n",
              " 'hope': 901,\n",
              " 'look': 1080,\n",
              " 'experiences': 657,\n",
              " 'past': 1316,\n",
              " 'making': 1112,\n",
              " 'terminal': 1732,\n",
              " 'such': 1688,\n",
              " 'lovely': 1094,\n",
              " 'part': 1307,\n",
              " 'long': 1078,\n",
              " 'most': 1190,\n",
              " 'were': 1924,\n",
              " 'beyond': 257,\n",
              " 'flightlations': 736,\n",
              " 'tuesday': 1819,\n",
              " 'mistake': 1177,\n",
              " 'dropped': 582,\n",
              " 'early': 589,\n",
              " 'bird': 262,\n",
              " 'end': 611,\n",
              " 'luv': 1102,\n",
              " 'purchased': 1421,\n",
              " 'main': 1107,\n",
              " 'cabin': 306,\n",
              " 'rescheduled': 1481,\n",
              " 'finding': 716,\n",
              " 'luggage': 1101,\n",
              " 'tarmac': 1724,\n",
              " 'longer': 1079,\n",
              " 'hotels': 908,\n",
              " 'land': 1017,\n",
              " 'phoenix': 1339,\n",
              " 'unacceptable': 1836,\n",
              " 'unhappy': 1844,\n",
              " 'arrival': 178,\n",
              " 'chance': 345,\n",
              " 'ord': 1277,\n",
              " 'bring': 287,\n",
              " 'trouble': 1811,\n",
              " 'getting': 811,\n",
              " 'contact': 437,\n",
              " 'sure': 1702,\n",
              " 'thing': 1749,\n",
              " 'seem': 1559,\n",
              " 'fair': 676,\n",
              " 'under': 1840,\n",
              " 'battles': 237,\n",
              " 'appease': 168,\n",
              " 'street': 1681,\n",
              " 'american': 137,\n",
              " 'booking': 277,\n",
              " 'problems': 1404,\n",
              " '11': 5,\n",
              " 'march': 1119,\n",
              " 'operated': 1271,\n",
              " 'allow': 122,\n",
              " 'issued': 974,\n",
              " 'old': 1259,\n",
              " 'needed': 1213,\n",
              " 'another': 150,\n",
              " 'agents': 107,\n",
              " 'nightmare': 1223,\n",
              " 'over': 1292,\n",
              " 'employee': 608,\n",
              " 'bag': 227,\n",
              " 'pa': 1297,\n",
              " 'before': 247,\n",
              " 'one': 1264,\n",
              " 'dealing': 496,\n",
              " 'fam': 678,\n",
              " 'emergency': 607,\n",
              " 'rebooked': 1447,\n",
              " 'system': 1712,\n",
              " 'asap': 185,\n",
              " 'lands': 1020,\n",
              " 'tonight': 1782,\n",
              " 'delivered': 509,\n",
              " 'buy': 302,\n",
              " 'delta': 511,\n",
              " 'ticket': 1766,\n",
              " 'diego': 536,\n",
              " 'planes': 1359,\n",
              " 'news': 1219,\n",
              " 'already': 128,\n",
              " 'company': 407,\n",
              " 'give': 814,\n",
              " 'certain': 341,\n",
              " 'information': 958,\n",
              " 'message': 1148,\n",
              " 'trueblue': 1813,\n",
              " 'site': 1607,\n",
              " 'broken': 290,\n",
              " 'moment': 1182,\n",
              " 'both': 280,\n",
              " 'airlines': 115,\n",
              " 'located': 1071,\n",
              " 'informed': 959,\n",
              " 'flew': 728,\n",
              " 'which': 1936,\n",
              " 'shouldn': 1588,\n",
              " 'matter': 1123,\n",
              " '100': 3,\n",
              " 'voucher': 1886,\n",
              " 'makes': 1111,\n",
              " 'spending': 1652,\n",
              " 'hrs': 916,\n",
              " 'landing': 1019,\n",
              " 'same': 1532,\n",
              " 'took': 1784,\n",
              " 'really': 1443,\n",
              " 'fortunemagazine': 767,\n",
              " 'always': 133,\n",
              " 'southwest': 1643,\n",
              " 'file': 709,\n",
              " 'characters': 351,\n",
              " 'email': 604,\n",
              " 'austin': 205,\n",
              " 'connection': 431,\n",
              " 'point': 1372,\n",
              " 'counter': 451,\n",
              " 'clearly': 378,\n",
              " '500': 52,\n",
              " 'agent': 106,\n",
              " 'words': 1961,\n",
              " 'haven': 864,\n",
              " 'either': 598,\n",
              " 'cc': 337,\n",
              " 'across': 85,\n",
              " 'clt': 384,\n",
              " 'feel': 697,\n",
              " 'policies': 1375,\n",
              " 'realize': 1442,\n",
              " 'possible': 1382,\n",
              " 'swa': 1708,\n",
              " 'willing': 1945,\n",
              " 'follow': 755,\n",
              " 'reflight': 1455,\n",
              " 'following': 757,\n",
              " 'drink': 577,\n",
              " 'then': 1745,\n",
              " 'sat': 1534,\n",
              " 'jump': 993,\n",
              " 'doing': 563,\n",
              " 'could': 448,\n",
              " 'control': 442,\n",
              " 'only': 1267,\n",
              " 'honeymoon': 898,\n",
              " 'failed': 674,\n",
              " 'flights': 740,\n",
              " 'weren': 1925,\n",
              " 'morning': 1189,\n",
              " 'thursday': 1764,\n",
              " 'open': 1269,\n",
              " 'pm': 1371,\n",
              " 'him': 890,\n",
              " 'doubt': 572,\n",
              " 'each': 587,\n",
              " 'other': 1283,\n",
              " 'went': 1923,\n",
              " 'goes': 822,\n",
              " 'probably': 1402,\n",
              " '3rd': 44,\n",
              " 'party': 1309,\n",
              " 'calling': 311,\n",
              " 'straight': 1679,\n",
              " 'forward': 768,\n",
              " 'those': 1757,\n",
              " 'direct': 542,\n",
              " 'california': 307,\n",
              " 'family': 679,\n",
              " 'often': 1254,\n",
              " 'since': 1603,\n",
              " 'missing': 1176,\n",
              " 'confused': 426,\n",
              " 'skies': 1614,\n",
              " 'de': 493,\n",
              " 'everything': 635,\n",
              " 'fine': 717,\n",
              " 'fail': 673,\n",
              " 'destinationdragons': 528,\n",
              " '2015': 22,\n",
              " 'reschedule': 1480,\n",
              " 'super': 1697,\n",
              " 'helpful': 882,\n",
              " 'name': 1205,\n",
              " 'kind': 1003,\n",
              " 'watch': 1905,\n",
              " 'text': 1735,\n",
              " 'his': 892,\n",
              " 'whole': 1939,\n",
              " 'conf': 422,\n",
              " 'confirmed': 425,\n",
              " 'bna': 269,\n",
              " 'bumped': 297,\n",
              " 'set': 1574,\n",
              " 'date': 485,\n",
              " 'machine': 1103,\n",
              " 'she': 1582,\n",
              " 'brought': 292,\n",
              " 'snacks': 1624,\n",
              " 'wanted': 1896,\n",
              " 'bwi': 303,\n",
              " 'address': 93,\n",
              " 'screwed': 1547,\n",
              " 'wrong': 1978,\n",
              " 'beautiful': 243,\n",
              " 'seattle': 1553,\n",
              " '1st': 19,\n",
              " 'upgrades': 1860,\n",
              " 'gold': 824,\n",
              " 'member': 1141,\n",
              " 'consistent': 435,\n",
              " 'heard': 873,\n",
              " 'closed': 382,\n",
              " 'updates': 1857,\n",
              " 'night': 1222,\n",
              " 'dallas': 482,\n",
              " 'via': 1879,\n",
              " 'atlanta': 196,\n",
              " 'sleep': 1617,\n",
              " 'jfk': 988,\n",
              " 'looking': 1082,\n",
              " 'amazing': 135,\n",
              " 'll': 1066,\n",
              " 'spend': 1651,\n",
              " 'dollars': 564,\n",
              " 'price': 1396,\n",
              " 'gone': 826,\n",
              " 'week': 1917,\n",
              " 'kudos': 1010,\n",
              " 'pilot': 1349,\n",
              " 'show': 1590,\n",
              " 'amount': 141,\n",
              " 'delay': 504,\n",
              " 'crazy': 460,\n",
              " 'us': 1863,\n",
              " 'hare': 858,\n",
              " 'else': 601,\n",
              " 'gonna': 827,\n",
              " 'book': 275,\n",
              " 'resolve': 1486,\n",
              " 'schedule': 1542,\n",
              " 'hung': 923,\n",
              " 'hopefully': 902,\n",
              " 'crappy': 459,\n",
              " 'become': 245,\n",
              " 'americanairlines': 139,\n",
              " 'some': 1630,\n",
              " 'epicfail': 620,\n",
              " 'woman': 1954,\n",
              " 'imaginedragons': 937,\n",
              " 'down': 573,\n",
              " 'card': 322,\n",
              " 'miles': 1163,\n",
              " 'killing': 1002,\n",
              " 'human': 921,\n",
              " 'train': 1795,\n",
              " 'thx': 1765,\n",
              " 'checkin': 361,\n",
              " 'mia': 1154,\n",
              " 'miami': 1155,\n",
              " '13': 7,\n",
              " 'sorry': 1638,\n",
              " 'equipment': 621,\n",
              " 'allowed': 123,\n",
              " 'return': 1496,\n",
              " 'brother': 291,\n",
              " 'stranded': 1680,\n",
              " 'bc': 238,\n",
              " 'wouldn': 1975,\n",
              " 'minutes': 1172,\n",
              " 'driving': 580,\n",
              " 'nonstop': 1229,\n",
              " 'sjc': 1612,\n",
              " 'add': 89,\n",
              " 'sold': 1628,\n",
              " 'enough': 616,\n",
              " 'entire': 619,\n",
              " 'fa': 668,\n",
              " 'happen': 852,\n",
              " 'automated': 207,\n",
              " 'think': 1751,\n",
              " 'miss': 1174,\n",
              " 'well': 1922,\n",
              " 'away': 217,\n",
              " 'fault': 689,\n",
              " 'question': 1425,\n",
              " 'food': 758,\n",
              " 'vouchers': 1887,\n",
              " 'cxl': 478,\n",
              " 'treat': 1805,\n",
              " 'offer': 1248,\n",
              " 'compensation': 410,\n",
              " 'drop': 581,\n",
              " 'pass': 1310,\n",
              " 'standing': 1660,\n",
              " 'front': 784,\n",
              " 'refused': 1459,\n",
              " 'connect': 428,\n",
              " 'line': 1054,\n",
              " 'money': 1185,\n",
              " 'cheaper': 358,\n",
              " 'extra': 664,\n",
              " 'followed': 756,\n",
              " 'dm': 557,\n",
              " 'wasting': 1904,\n",
              " 'without': 1953,\n",
              " 'actually': 88,\n",
              " 'checking': 362,\n",
              " 'space': 1645,\n",
              " '140': 10,\n",
              " 'aircraft': 112,\n",
              " 'destination': 527,\n",
              " 'form': 764,\n",
              " 'experience': 655,\n",
              " '1k': 18,\n",
              " 'share': 1580,\n",
              " 'others': 1284,\n",
              " 'media': 1138,\n",
              " 'wsj': 1979,\n",
              " 'believe': 251,\n",
              " 'runway': 1525,\n",
              " 'things': 1750,\n",
              " 'quick': 1427,\n",
              " 'ago': 108,\n",
              " 'came': 313,\n",
              " 'hr': 915,\n",
              " '24': 26,\n",
              " 'eat': 595,\n",
              " 'yet': 1991,\n",
              " 'run': 1523,\n",
              " 'ewr': 636,\n",
              " 'flighting': 734,\n",
              " 'required': 1477,\n",
              " 'training': 1796,\n",
              " 'happy': 856,\n",
              " '45': 48,\n",
              " 'guarantee': 836,\n",
              " 'glad': 818,\n",
              " 'advisory': 99,\n",
              " 'snow': 1625,\n",
              " 'accurate': 84,\n",
              " 'perfect': 1330,\n",
              " 'learn': 1030,\n",
              " 'pending': 1327,\n",
              " 'normal': 1231,\n",
              " 'account': 82,\n",
              " 'tired': 1774,\n",
              " 'evening': 629,\n",
              " 'few': 703,\n",
              " 'dal': 481,\n",
              " 'afternoon': 103,\n",
              " 'anything': 158,\n",
              " 'guess': 837,\n",
              " 'systems': 1713,\n",
              " 'reply': 1470,\n",
              " 'wasn': 1901,\n",
              " 'personal': 1333,\n",
              " 'business': 299,\n",
              " 'nothing': 1235,\n",
              " 'suitcase': 1693,\n",
              " 'sense': 1566,\n",
              " 'passes': 1315,\n",
              " 'work': 1962,\n",
              " 'passbook': 1311,\n",
              " 'school': 1544,\n",
              " 'including': 947,\n",
              " 'myself': 1203,\n",
              " 'standby': 1659,\n",
              " 'loaded': 1068,\n",
              " 'side': 1597,\n",
              " 'isn': 972,\n",
              " 'these': 1747,\n",
              " 'usairwaysfail': 1867,\n",
              " 'hi': 887,\n",
              " 'id': 930,\n",
              " 'explain': 660,\n",
              " 'read': 1438,\n",
              " 'own': 1296,\n",
              " 'list': 1057,\n",
              " 'big': 258,\n",
              " 'board': 270,\n",
              " 'aren': 176,\n",
              " 'leaving': 1034,\n",
              " 'switch': 1710,\n",
              " 'handle': 845,\n",
              " '800': 65,\n",
              " 'sad': 1526,\n",
              " 'anymore': 156,\n",
              " 'spent': 1653,\n",
              " 'flighted': 733,\n",
              " 'till': 1770,\n",
              " 'begin': 248,\n",
              " 'full': 793,\n",
              " '4th': 50,\n",
              " 'moved': 1193,\n",
              " 'crap': 458,\n",
              " 'tampa': 1723,\n",
              " 'dividend': 556,\n",
              " 'used': 1869,\n",
              " 'free': 774,\n",
              " 'loses': 1085,\n",
              " 'items': 978,\n",
              " 'job': 989,\n",
              " 'anyone': 157,\n",
              " 'assist': 192,\n",
              " 'tracking': 1793,\n",
              " 'stopped': 1676,\n",
              " 'cs': 467,\n",
              " 'rep': 1469,\n",
              " 'yesterday': 1990,\n",
              " 'treated': 1806,\n",
              " 'members': 1142,\n",
              " 'reach': 1437,\n",
              " 'departure': 519,\n",
              " 'double': 571,\n",
              " 'course': 455,\n",
              " 'communication': 404,\n",
              " 'unprofessional': 1850,\n",
              " 'errors': 623,\n",
              " 'between': 256,\n",
              " '60': 56,\n",
              " 'mins': 1169,\n",
              " 'handling': 847,\n",
              " 'minor': 1168,\n",
              " 'child': 366,\n",
              " 'shame': 1578,\n",
              " 'year': 1986,\n",
              " 'girl': 813,\n",
              " 'emailed': 605,\n",
              " 'several': 1575,\n",
              " 'hand': 844,\n",
              " 'letter': 1042,\n",
              " 'impossible': 940,\n",
              " 'preferred': 1390,\n",
              " 'app': 165,\n",
              " 'worked': 1963,\n",
              " 'ready': 1439,\n",
              " 'live': 1064,\n",
              " 'thnx': 1755,\n",
              " 'shows': 1594,\n",
              " 'case': 331,\n",
              " 'turn': 1820,\n",
              " 'inside': 961,\n",
              " 'hear': 872,\n",
              " 'something': 1632,\n",
              " 'current': 469,\n",
              " 'leg': 1036,\n",
              " 'request': 1475,\n",
              " 'club': 385,\n",
              " 'lhr': 1046,\n",
              " 'takeoff': 1717,\n",
              " 'badservice': 226,\n",
              " 'bank': 232,\n",
              " 'ua': 1831,\n",
              " 'wtf': 1980,\n",
              " 'rsw': 1517,\n",
              " 'sit': 1606,\n",
              " 'together': 1779,\n",
              " 'chairman': 344,\n",
              " 'move': 1192,\n",
              " 'common': 403,\n",
              " 'tried': 1808,\n",
              " 'record': 1452,\n",
              " 'locator': 1073,\n",
              " 'error': 622,\n",
              " 'code': 393,\n",
              " 'com': 397,\n",
              " 'worry': 1970,\n",
              " 'damn': 484,\n",
              " 'bit': 264,\n",
              " '16': 13,\n",
              " 'important': 939,\n",
              " 'departs': 518,\n",
              " 'marketing': 1121,\n",
              " 'booked': 276,\n",
              " '20': 20,\n",
              " 'tells': 1731,\n",
              " 'comment': 401,\n",
              " 'south': 1642,\n",
              " 'florida': 743,\n",
              " 'hello': 879,\n",
              " 'stewardess': 1671,\n",
              " 'serving': 1573,\n",
              " 'drinks': 578,\n",
              " 'easily': 592,\n",
              " 'travelers': 1802,\n",
              " 'ur': 1862,\n",
              " 'around': 177,\n",
              " 'additional': 92,\n",
              " 'details': 529,\n",
              " 'using': 1871,\n",
              " 'social': 1627,\n",
              " 'mess': 1147,\n",
              " 'reason': 1444,\n",
              " 'shot': 1586,\n",
              " 'worth': 1973,\n",
              " 'assigned': 191,\n",
              " 'unless': 1849,\n",
              " 'pay': 1321,\n",
              " 'onboard': 1262,\n",
              " 'known': 1006,\n",
              " 'tag': 1714,\n",
              " 'ladygaga': 1014,\n",
              " 'carrieunderwood': 328,\n",
              " 'lady': 1013,\n",
              " 'forced': 760,\n",
              " 'stay': 1668,\n",
              " 'least': 1031,\n",
              " 'yo': 1992,\n",
              " 'fresh': 777,\n",
              " 'plan': 1357,\n",
              " 'flyingitforward': 752,\n",
              " 'blue': 268,\n",
              " 'upset': 1861,\n",
              " 'simple': 1601,\n",
              " 'disconnected': 549,\n",
              " 'care': 323,\n",
              " 'sna': 1623,\n",
              " 'attitude': 202,\n",
              " 'nobody': 1226,\n",
              " 'expected': 652,\n",
              " 'nyc': 1244,\n",
              " 'carrier': 326,\n",
              " 'yep': 1988,\n",
              " 'seems': 1560,\n",
              " 'correct': 445,\n",
              " 'month': 1186,\n",
              " 'might': 1159,\n",
              " 'mother': 1191,\n",
              " 'support': 1699,\n",
              " 'people': 1328,\n",
              " 'safely': 1529,\n",
              " 'kids': 1001,\n",
              " 'bought': 282,\n",
              " 'round': 1510,\n",
              " 'word': 1960,\n",
              " 'airways': 119,\n",
              " 'advantage': 96,\n",
              " 'frustrating': 787,\n",
              " 'enjoy': 615,\n",
              " 'fact': 672,\n",
              " 'definitely': 502,\n",
              " 'damaged': 483,\n",
              " 'laguardia': 1015,\n",
              " 'complaint': 412,\n",
              " 'thankyou': 1739,\n",
              " 'officially': 1253,\n",
              " 'pleasant': 1365,\n",
              " 'leave': 1032,\n",
              " 'previous': 1395,\n",
              " 'deal': 495,\n",
              " 'instead': 962,\n",
              " 'desk': 525,\n",
              " 'airplane': 116,\n",
              " ...}"
            ]
          },
          "metadata": {},
          "execution_count": 220
        }
      ]
    },
    {
      "cell_type": "code",
      "source": [
        "threshold = 2\n",
        "\n",
        "print(\"Most positive words:\")\n",
        "word_weight_tuples = []\n",
        "for word, index in word_index_map.items():\n",
        "    weight = w[index, 0]\n",
        "    if weight > threshold:\n",
        "        word_weight_tuples.append((word, weight))\n",
        "\n"
      ],
      "metadata": {
        "colab": {
          "base_uri": "https://localhost:8080/"
        },
        "id": "4Moscj77Tlqj",
        "outputId": "3884ad24-d995-46b8-c87b-2606c6fd6f68"
      },
      "execution_count": 230,
      "outputs": [
        {
          "output_type": "stream",
          "name": "stdout",
          "text": [
            "Most positive words:\n"
          ]
        }
      ]
    },
    {
      "cell_type": "code",
      "source": [
        "print(\"Most negative words:\")\n",
        "word_weight_tuples = []\n",
        "for word, index in word_index_map.items():\n",
        "    weight = w[index, 0]\n",
        "    if weight < -threshold:\n",
        "        word_weight_tuples.append((word, weight))\n",
        "\n"
      ],
      "metadata": {
        "colab": {
          "base_uri": "https://localhost:8080/"
        },
        "id": "uvjvFXjxT6cM",
        "outputId": "0128b8a6-322c-4615-ebf6-b7263de4e946"
      },
      "execution_count": 229,
      "outputs": [
        {
          "output_type": "stream",
          "name": "stdout",
          "text": [
            "Most negative words:\n"
          ]
        }
      ]
    },
    {
      "cell_type": "code",
      "source": [],
      "metadata": {
        "id": "56CR1cfhUOl6"
      },
      "execution_count": null,
      "outputs": []
    }
  ]
}