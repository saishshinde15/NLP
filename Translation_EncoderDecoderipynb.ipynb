{
  "nbformat": 4,
  "nbformat_minor": 0,
  "metadata": {
    "colab": {
      "provenance": [],
      "authorship_tag": "ABX9TyP96HIQVO5YDJQAO/ncXtWU",
      "include_colab_link": true
    },
    "kernelspec": {
      "name": "python3",
      "display_name": "Python 3"
    },
    "language_info": {
      "name": "python"
    }
  },
  "cells": [
    {
      "cell_type": "markdown",
      "metadata": {
        "id": "view-in-github",
        "colab_type": "text"
      },
      "source": [
        "<a href=\"https://colab.research.google.com/github/saishshinde15/NLP/blob/main/Translation_EncoderDecoderipynb.ipynb\" target=\"_parent\"><img src=\"https://colab.research.google.com/assets/colab-badge.svg\" alt=\"Open In Colab\"/></a>"
      ]
    },
    {
      "cell_type": "code",
      "execution_count": 1,
      "metadata": {
        "id": "bw4u__gAhaG5"
      },
      "outputs": [],
      "source": [
        "import numpy as np\n",
        "import pandas as pd\n",
        "import tensorflow as tf\n",
        "from tensorflow.keras.preprocessing.text import Tokenizer\n",
        "from tensorflow.keras.preprocessing.sequence import pad_sequences"
      ]
    },
    {
      "cell_type": "code",
      "source": [
        "dataset = pd.read_csv('/content/Dataset_English_Hindi.csv')"
      ],
      "metadata": {
        "id": "AVLCcNVfGaLV"
      },
      "execution_count": 2,
      "outputs": []
    },
    {
      "cell_type": "code",
      "source": [
        "dataset"
      ],
      "metadata": {
        "colab": {
          "base_uri": "https://localhost:8080/",
          "height": 411
        },
        "id": "4ssX-KLBGz5O",
        "outputId": "8e2e251a-ff75-421b-cc09-af660e911871"
      },
      "execution_count": 3,
      "outputs": [
        {
          "output_type": "execute_result",
          "data": {
            "text/plain": [
              "                                                  English  \\\n",
              "0                                                   Help!   \n",
              "1                                                   Jump.   \n",
              "2                                                   Jump.   \n",
              "3                                                   Jump.   \n",
              "4                                                  Hello!   \n",
              "...                                                   ...   \n",
              "130471  Examples of art deco construction can be found...   \n",
              "130472                          and put it in our cheeks.   \n",
              "130473  As for the other derivatives of sulphur , the ...   \n",
              "130474  its complicated functioning is defined thus in...   \n",
              "130475  They've just won four government contracts to ...   \n",
              "\n",
              "                                                    Hindi  \n",
              "0                                                   बचाओ!  \n",
              "1                                                   उछलो.  \n",
              "2                                                   कूदो.  \n",
              "3                                                  छलांग.  \n",
              "4                                                 नमस्ते।  \n",
              "...                                                   ...  \n",
              "130471  आर्ट डेको शैली के निर्माण मैरीन ड्राइव और ओवल ...  \n",
              "130472                    और अपने गालों में डाल लेते हैं।  \n",
              "130473  जहां तक गंधक के अन्य उत्पादों का प्रश्न है , द...  \n",
              "130474  Zरचना-प्रकिया को उसने एक पहेली में यों बांधा है .  \n",
              "130475  हाल ही में उन्हें सरकारी ठेका मिला है करीब सौ ...  \n",
              "\n",
              "[130476 rows x 2 columns]"
            ],
            "text/html": [
              "\n",
              "  <div id=\"df-e1fdb992-8684-4b0a-898f-2285415d2734\" class=\"colab-df-container\">\n",
              "    <div>\n",
              "<style scoped>\n",
              "    .dataframe tbody tr th:only-of-type {\n",
              "        vertical-align: middle;\n",
              "    }\n",
              "\n",
              "    .dataframe tbody tr th {\n",
              "        vertical-align: top;\n",
              "    }\n",
              "\n",
              "    .dataframe thead th {\n",
              "        text-align: right;\n",
              "    }\n",
              "</style>\n",
              "<table border=\"1\" class=\"dataframe\">\n",
              "  <thead>\n",
              "    <tr style=\"text-align: right;\">\n",
              "      <th></th>\n",
              "      <th>English</th>\n",
              "      <th>Hindi</th>\n",
              "    </tr>\n",
              "  </thead>\n",
              "  <tbody>\n",
              "    <tr>\n",
              "      <th>0</th>\n",
              "      <td>Help!</td>\n",
              "      <td>बचाओ!</td>\n",
              "    </tr>\n",
              "    <tr>\n",
              "      <th>1</th>\n",
              "      <td>Jump.</td>\n",
              "      <td>उछलो.</td>\n",
              "    </tr>\n",
              "    <tr>\n",
              "      <th>2</th>\n",
              "      <td>Jump.</td>\n",
              "      <td>कूदो.</td>\n",
              "    </tr>\n",
              "    <tr>\n",
              "      <th>3</th>\n",
              "      <td>Jump.</td>\n",
              "      <td>छलांग.</td>\n",
              "    </tr>\n",
              "    <tr>\n",
              "      <th>4</th>\n",
              "      <td>Hello!</td>\n",
              "      <td>नमस्ते।</td>\n",
              "    </tr>\n",
              "    <tr>\n",
              "      <th>...</th>\n",
              "      <td>...</td>\n",
              "      <td>...</td>\n",
              "    </tr>\n",
              "    <tr>\n",
              "      <th>130471</th>\n",
              "      <td>Examples of art deco construction can be found...</td>\n",
              "      <td>आर्ट डेको शैली के निर्माण मैरीन ड्राइव और ओवल ...</td>\n",
              "    </tr>\n",
              "    <tr>\n",
              "      <th>130472</th>\n",
              "      <td>and put it in our cheeks.</td>\n",
              "      <td>और अपने गालों में डाल लेते हैं।</td>\n",
              "    </tr>\n",
              "    <tr>\n",
              "      <th>130473</th>\n",
              "      <td>As for the other derivatives of sulphur , the ...</td>\n",
              "      <td>जहां तक गंधक के अन्य उत्पादों का प्रश्न है , द...</td>\n",
              "    </tr>\n",
              "    <tr>\n",
              "      <th>130474</th>\n",
              "      <td>its complicated functioning is defined thus in...</td>\n",
              "      <td>Zरचना-प्रकिया को उसने एक पहेली में यों बांधा है .</td>\n",
              "    </tr>\n",
              "    <tr>\n",
              "      <th>130475</th>\n",
              "      <td>They've just won four government contracts to ...</td>\n",
              "      <td>हाल ही में उन्हें सरकारी ठेका मिला है करीब सौ ...</td>\n",
              "    </tr>\n",
              "  </tbody>\n",
              "</table>\n",
              "<p>130476 rows × 2 columns</p>\n",
              "</div>\n",
              "    <div class=\"colab-df-buttons\">\n",
              "\n",
              "  <div class=\"colab-df-container\">\n",
              "    <button class=\"colab-df-convert\" onclick=\"convertToInteractive('df-e1fdb992-8684-4b0a-898f-2285415d2734')\"\n",
              "            title=\"Convert this dataframe to an interactive table.\"\n",
              "            style=\"display:none;\">\n",
              "\n",
              "  <svg xmlns=\"http://www.w3.org/2000/svg\" height=\"24px\" viewBox=\"0 -960 960 960\">\n",
              "    <path d=\"M120-120v-720h720v720H120Zm60-500h600v-160H180v160Zm220 220h160v-160H400v160Zm0 220h160v-160H400v160ZM180-400h160v-160H180v160Zm440 0h160v-160H620v160ZM180-180h160v-160H180v160Zm440 0h160v-160H620v160Z\"/>\n",
              "  </svg>\n",
              "    </button>\n",
              "\n",
              "  <style>\n",
              "    .colab-df-container {\n",
              "      display:flex;\n",
              "      gap: 12px;\n",
              "    }\n",
              "\n",
              "    .colab-df-convert {\n",
              "      background-color: #E8F0FE;\n",
              "      border: none;\n",
              "      border-radius: 50%;\n",
              "      cursor: pointer;\n",
              "      display: none;\n",
              "      fill: #1967D2;\n",
              "      height: 32px;\n",
              "      padding: 0 0 0 0;\n",
              "      width: 32px;\n",
              "    }\n",
              "\n",
              "    .colab-df-convert:hover {\n",
              "      background-color: #E2EBFA;\n",
              "      box-shadow: 0px 1px 2px rgba(60, 64, 67, 0.3), 0px 1px 3px 1px rgba(60, 64, 67, 0.15);\n",
              "      fill: #174EA6;\n",
              "    }\n",
              "\n",
              "    .colab-df-buttons div {\n",
              "      margin-bottom: 4px;\n",
              "    }\n",
              "\n",
              "    [theme=dark] .colab-df-convert {\n",
              "      background-color: #3B4455;\n",
              "      fill: #D2E3FC;\n",
              "    }\n",
              "\n",
              "    [theme=dark] .colab-df-convert:hover {\n",
              "      background-color: #434B5C;\n",
              "      box-shadow: 0px 1px 3px 1px rgba(0, 0, 0, 0.15);\n",
              "      filter: drop-shadow(0px 1px 2px rgba(0, 0, 0, 0.3));\n",
              "      fill: #FFFFFF;\n",
              "    }\n",
              "  </style>\n",
              "\n",
              "    <script>\n",
              "      const buttonEl =\n",
              "        document.querySelector('#df-e1fdb992-8684-4b0a-898f-2285415d2734 button.colab-df-convert');\n",
              "      buttonEl.style.display =\n",
              "        google.colab.kernel.accessAllowed ? 'block' : 'none';\n",
              "\n",
              "      async function convertToInteractive(key) {\n",
              "        const element = document.querySelector('#df-e1fdb992-8684-4b0a-898f-2285415d2734');\n",
              "        const dataTable =\n",
              "          await google.colab.kernel.invokeFunction('convertToInteractive',\n",
              "                                                    [key], {});\n",
              "        if (!dataTable) return;\n",
              "\n",
              "        const docLinkHtml = 'Like what you see? Visit the ' +\n",
              "          '<a target=\"_blank\" href=https://colab.research.google.com/notebooks/data_table.ipynb>data table notebook</a>'\n",
              "          + ' to learn more about interactive tables.';\n",
              "        element.innerHTML = '';\n",
              "        dataTable['output_type'] = 'display_data';\n",
              "        await google.colab.output.renderOutput(dataTable, element);\n",
              "        const docLink = document.createElement('div');\n",
              "        docLink.innerHTML = docLinkHtml;\n",
              "        element.appendChild(docLink);\n",
              "      }\n",
              "    </script>\n",
              "  </div>\n",
              "\n",
              "\n",
              "<div id=\"df-ff98682a-bb70-477f-b259-52be89854bcd\">\n",
              "  <button class=\"colab-df-quickchart\" onclick=\"quickchart('df-ff98682a-bb70-477f-b259-52be89854bcd')\"\n",
              "            title=\"Suggest charts\"\n",
              "            style=\"display:none;\">\n",
              "\n",
              "<svg xmlns=\"http://www.w3.org/2000/svg\" height=\"24px\"viewBox=\"0 0 24 24\"\n",
              "     width=\"24px\">\n",
              "    <g>\n",
              "        <path d=\"M19 3H5c-1.1 0-2 .9-2 2v14c0 1.1.9 2 2 2h14c1.1 0 2-.9 2-2V5c0-1.1-.9-2-2-2zM9 17H7v-7h2v7zm4 0h-2V7h2v10zm4 0h-2v-4h2v4z\"/>\n",
              "    </g>\n",
              "</svg>\n",
              "  </button>\n",
              "\n",
              "<style>\n",
              "  .colab-df-quickchart {\n",
              "      --bg-color: #E8F0FE;\n",
              "      --fill-color: #1967D2;\n",
              "      --hover-bg-color: #E2EBFA;\n",
              "      --hover-fill-color: #174EA6;\n",
              "      --disabled-fill-color: #AAA;\n",
              "      --disabled-bg-color: #DDD;\n",
              "  }\n",
              "\n",
              "  [theme=dark] .colab-df-quickchart {\n",
              "      --bg-color: #3B4455;\n",
              "      --fill-color: #D2E3FC;\n",
              "      --hover-bg-color: #434B5C;\n",
              "      --hover-fill-color: #FFFFFF;\n",
              "      --disabled-bg-color: #3B4455;\n",
              "      --disabled-fill-color: #666;\n",
              "  }\n",
              "\n",
              "  .colab-df-quickchart {\n",
              "    background-color: var(--bg-color);\n",
              "    border: none;\n",
              "    border-radius: 50%;\n",
              "    cursor: pointer;\n",
              "    display: none;\n",
              "    fill: var(--fill-color);\n",
              "    height: 32px;\n",
              "    padding: 0;\n",
              "    width: 32px;\n",
              "  }\n",
              "\n",
              "  .colab-df-quickchart:hover {\n",
              "    background-color: var(--hover-bg-color);\n",
              "    box-shadow: 0 1px 2px rgba(60, 64, 67, 0.3), 0 1px 3px 1px rgba(60, 64, 67, 0.15);\n",
              "    fill: var(--button-hover-fill-color);\n",
              "  }\n",
              "\n",
              "  .colab-df-quickchart-complete:disabled,\n",
              "  .colab-df-quickchart-complete:disabled:hover {\n",
              "    background-color: var(--disabled-bg-color);\n",
              "    fill: var(--disabled-fill-color);\n",
              "    box-shadow: none;\n",
              "  }\n",
              "\n",
              "  .colab-df-spinner {\n",
              "    border: 2px solid var(--fill-color);\n",
              "    border-color: transparent;\n",
              "    border-bottom-color: var(--fill-color);\n",
              "    animation:\n",
              "      spin 1s steps(1) infinite;\n",
              "  }\n",
              "\n",
              "  @keyframes spin {\n",
              "    0% {\n",
              "      border-color: transparent;\n",
              "      border-bottom-color: var(--fill-color);\n",
              "      border-left-color: var(--fill-color);\n",
              "    }\n",
              "    20% {\n",
              "      border-color: transparent;\n",
              "      border-left-color: var(--fill-color);\n",
              "      border-top-color: var(--fill-color);\n",
              "    }\n",
              "    30% {\n",
              "      border-color: transparent;\n",
              "      border-left-color: var(--fill-color);\n",
              "      border-top-color: var(--fill-color);\n",
              "      border-right-color: var(--fill-color);\n",
              "    }\n",
              "    40% {\n",
              "      border-color: transparent;\n",
              "      border-right-color: var(--fill-color);\n",
              "      border-top-color: var(--fill-color);\n",
              "    }\n",
              "    60% {\n",
              "      border-color: transparent;\n",
              "      border-right-color: var(--fill-color);\n",
              "    }\n",
              "    80% {\n",
              "      border-color: transparent;\n",
              "      border-right-color: var(--fill-color);\n",
              "      border-bottom-color: var(--fill-color);\n",
              "    }\n",
              "    90% {\n",
              "      border-color: transparent;\n",
              "      border-bottom-color: var(--fill-color);\n",
              "    }\n",
              "  }\n",
              "</style>\n",
              "\n",
              "  <script>\n",
              "    async function quickchart(key) {\n",
              "      const quickchartButtonEl =\n",
              "        document.querySelector('#' + key + ' button');\n",
              "      quickchartButtonEl.disabled = true;  // To prevent multiple clicks.\n",
              "      quickchartButtonEl.classList.add('colab-df-spinner');\n",
              "      try {\n",
              "        const charts = await google.colab.kernel.invokeFunction(\n",
              "            'suggestCharts', [key], {});\n",
              "      } catch (error) {\n",
              "        console.error('Error during call to suggestCharts:', error);\n",
              "      }\n",
              "      quickchartButtonEl.classList.remove('colab-df-spinner');\n",
              "      quickchartButtonEl.classList.add('colab-df-quickchart-complete');\n",
              "    }\n",
              "    (() => {\n",
              "      let quickchartButtonEl =\n",
              "        document.querySelector('#df-ff98682a-bb70-477f-b259-52be89854bcd button');\n",
              "      quickchartButtonEl.style.display =\n",
              "        google.colab.kernel.accessAllowed ? 'block' : 'none';\n",
              "    })();\n",
              "  </script>\n",
              "</div>\n",
              "\n",
              "  <div id=\"id_56517b52-2687-4b7b-b357-095fcd255233\">\n",
              "    <style>\n",
              "      .colab-df-generate {\n",
              "        background-color: #E8F0FE;\n",
              "        border: none;\n",
              "        border-radius: 50%;\n",
              "        cursor: pointer;\n",
              "        display: none;\n",
              "        fill: #1967D2;\n",
              "        height: 32px;\n",
              "        padding: 0 0 0 0;\n",
              "        width: 32px;\n",
              "      }\n",
              "\n",
              "      .colab-df-generate:hover {\n",
              "        background-color: #E2EBFA;\n",
              "        box-shadow: 0px 1px 2px rgba(60, 64, 67, 0.3), 0px 1px 3px 1px rgba(60, 64, 67, 0.15);\n",
              "        fill: #174EA6;\n",
              "      }\n",
              "\n",
              "      [theme=dark] .colab-df-generate {\n",
              "        background-color: #3B4455;\n",
              "        fill: #D2E3FC;\n",
              "      }\n",
              "\n",
              "      [theme=dark] .colab-df-generate:hover {\n",
              "        background-color: #434B5C;\n",
              "        box-shadow: 0px 1px 3px 1px rgba(0, 0, 0, 0.15);\n",
              "        filter: drop-shadow(0px 1px 2px rgba(0, 0, 0, 0.3));\n",
              "        fill: #FFFFFF;\n",
              "      }\n",
              "    </style>\n",
              "    <button class=\"colab-df-generate\" onclick=\"generateWithVariable('dataset')\"\n",
              "            title=\"Generate code using this dataframe.\"\n",
              "            style=\"display:none;\">\n",
              "\n",
              "  <svg xmlns=\"http://www.w3.org/2000/svg\" height=\"24px\"viewBox=\"0 0 24 24\"\n",
              "       width=\"24px\">\n",
              "    <path d=\"M7,19H8.4L18.45,9,17,7.55,7,17.6ZM5,21V16.75L18.45,3.32a2,2,0,0,1,2.83,0l1.4,1.43a1.91,1.91,0,0,1,.58,1.4,1.91,1.91,0,0,1-.58,1.4L9.25,21ZM18.45,9,17,7.55Zm-12,3A5.31,5.31,0,0,0,4.9,8.1,5.31,5.31,0,0,0,1,6.5,5.31,5.31,0,0,0,4.9,4.9,5.31,5.31,0,0,0,6.5,1,5.31,5.31,0,0,0,8.1,4.9,5.31,5.31,0,0,0,12,6.5,5.46,5.46,0,0,0,6.5,12Z\"/>\n",
              "  </svg>\n",
              "    </button>\n",
              "    <script>\n",
              "      (() => {\n",
              "      const buttonEl =\n",
              "        document.querySelector('#id_56517b52-2687-4b7b-b357-095fcd255233 button.colab-df-generate');\n",
              "      buttonEl.style.display =\n",
              "        google.colab.kernel.accessAllowed ? 'block' : 'none';\n",
              "\n",
              "      buttonEl.onclick = () => {\n",
              "        google.colab.notebook.generateWithVariable('dataset');\n",
              "      }\n",
              "      })();\n",
              "    </script>\n",
              "  </div>\n",
              "\n",
              "    </div>\n",
              "  </div>\n"
            ],
            "application/vnd.google.colaboratory.intrinsic+json": {
              "type": "dataframe",
              "variable_name": "dataset"
            }
          },
          "metadata": {},
          "execution_count": 3
        }
      ]
    },
    {
      "cell_type": "code",
      "source": [
        "dataset.isnull().sum()"
      ],
      "metadata": {
        "colab": {
          "base_uri": "https://localhost:8080/"
        },
        "id": "S9lCwdPeG1MR",
        "outputId": "9a6311f6-1211-4eec-8660-f9ea8952b146"
      },
      "execution_count": 4,
      "outputs": [
        {
          "output_type": "execute_result",
          "data": {
            "text/plain": [
              "English      2\n",
              "Hindi      312\n",
              "dtype: int64"
            ]
          },
          "metadata": {},
          "execution_count": 4
        }
      ]
    },
    {
      "cell_type": "code",
      "source": [
        "#missing value fixing with empty string\n",
        "dataset = dataset.fillna('')\n"
      ],
      "metadata": {
        "id": "DT3MNBh_G4_R"
      },
      "execution_count": 5,
      "outputs": []
    },
    {
      "cell_type": "code",
      "source": [
        "dataset.isnull().sum()"
      ],
      "metadata": {
        "colab": {
          "base_uri": "https://localhost:8080/"
        },
        "id": "xo7JO9x8HBZT",
        "outputId": "7bc19d9d-3018-4fc8-f06b-c4005d36bd53"
      },
      "execution_count": 6,
      "outputs": [
        {
          "output_type": "execute_result",
          "data": {
            "text/plain": [
              "English    0\n",
              "Hindi      0\n",
              "dtype: int64"
            ]
          },
          "metadata": {},
          "execution_count": 6
        }
      ]
    },
    {
      "cell_type": "code",
      "source": [
        "X = dataset['English']\n",
        "y = dataset['Hindi']"
      ],
      "metadata": {
        "id": "MlOROzSkHESg"
      },
      "execution_count": 7,
      "outputs": []
    },
    {
      "cell_type": "code",
      "source": [
        "X"
      ],
      "metadata": {
        "colab": {
          "base_uri": "https://localhost:8080/"
        },
        "id": "siZ2uSF1HNmu",
        "outputId": "232c9e06-54a6-468d-d2eb-33bdf8199adf"
      },
      "execution_count": 8,
      "outputs": [
        {
          "output_type": "execute_result",
          "data": {
            "text/plain": [
              "0                                                     Help!\n",
              "1                                                     Jump.\n",
              "2                                                     Jump.\n",
              "3                                                     Jump.\n",
              "4                                                    Hello!\n",
              "                                ...                        \n",
              "130471    Examples of art deco construction can be found...\n",
              "130472                            and put it in our cheeks.\n",
              "130473    As for the other derivatives of sulphur , the ...\n",
              "130474    its complicated functioning is defined thus in...\n",
              "130475    They've just won four government contracts to ...\n",
              "Name: English, Length: 130476, dtype: object"
            ]
          },
          "metadata": {},
          "execution_count": 8
        }
      ]
    },
    {
      "cell_type": "code",
      "source": [
        "y"
      ],
      "metadata": {
        "colab": {
          "base_uri": "https://localhost:8080/"
        },
        "id": "CUFKtW-GHOBl",
        "outputId": "29ce882a-ef9d-4c6b-d823-a8b1eaee0d4d"
      },
      "execution_count": 9,
      "outputs": [
        {
          "output_type": "execute_result",
          "data": {
            "text/plain": [
              "0                                                     बचाओ!\n",
              "1                                                     उछलो.\n",
              "2                                                     कूदो.\n",
              "3                                                    छलांग.\n",
              "4                                                   नमस्ते।\n",
              "                                ...                        \n",
              "130471    आर्ट डेको शैली के निर्माण मैरीन ड्राइव और ओवल ...\n",
              "130472                      और अपने गालों में डाल लेते हैं।\n",
              "130473    जहां तक गंधक के अन्य उत्पादों का प्रश्न है , द...\n",
              "130474    Zरचना-प्रकिया को उसने एक पहेली में यों बांधा है .\n",
              "130475    हाल ही में उन्हें सरकारी ठेका मिला है करीब सौ ...\n",
              "Name: Hindi, Length: 130476, dtype: object"
            ]
          },
          "metadata": {},
          "execution_count": 9
        }
      ]
    },
    {
      "cell_type": "code",
      "source": [
        "# Tokenize input and target sequences\n",
        "tokenizer_english = Tokenizer(num_words=5000, oov_token='<OOV>')\n",
        "tokenizer_hindi = Tokenizer(num_words=5000, oov_token='<OOV>')"
      ],
      "metadata": {
        "id": "MggTeB3dHOZU"
      },
      "execution_count": 10,
      "outputs": []
    },
    {
      "cell_type": "code",
      "source": [
        "tokenizer_english.fit_on_texts(X)\n",
        "tokenizer_hindi.fit_on_texts(y)"
      ],
      "metadata": {
        "id": "szH7jwXmHUwp"
      },
      "execution_count": 11,
      "outputs": []
    },
    {
      "cell_type": "code",
      "source": [
        "X_train = tokenizer_english.texts_to_sequences(X)\n",
        "y_train = tokenizer_hindi.texts_to_sequences(y)"
      ],
      "metadata": {
        "id": "cMs1cpzBHWba"
      },
      "execution_count": 12,
      "outputs": []
    },
    {
      "cell_type": "code",
      "source": [
        "# Pad sequences to a maximum length\n",
        "max_len = 100  # Set your desired maximum sequence length\n",
        "X_train = pad_sequences(X_train, maxlen=max_len, padding='post')\n",
        "y_train = pad_sequences(y_train, maxlen=max_len, padding='post')"
      ],
      "metadata": {
        "id": "yG84pABhHl1s"
      },
      "execution_count": 13,
      "outputs": []
    },
    {
      "cell_type": "code",
      "source": [
        "# Define the model architecture\n",
        "encoder_input = tf.keras.layers.Input(shape=(max_len,))\n",
        "encoder_embedding = tf.keras.layers.Embedding(len(tokenizer_english.word_index) + 1, 128, input_length=max_len)(encoder_input)\n",
        "encoder_lstm = tf.keras.layers.LSTM(128, return_sequences=True, return_state=True)\n",
        "encoder_outputs, state_h, state_c = encoder_lstm(encoder_embedding)\n",
        "\n",
        "decoder_input = tf.keras.layers.Input(shape=(None,))\n",
        "decoder_embedding = tf.keras.layers.Embedding(len(tokenizer_hindi.word_index) + 1, 128)(decoder_input)\n",
        "decoder_lstm = tf.keras.layers.LSTM(128, return_sequences=True, return_state=True)\n",
        "decoder_outputs, _, _ = decoder_lstm(decoder_embedding, initial_state=[state_h, state_c])\n",
        "\n",
        "decoder_dense = tf.keras.layers.Dense(len(tokenizer_hindi.word_index) + 1, activation='softmax')\n",
        "output = decoder_dense(decoder_outputs)"
      ],
      "metadata": {
        "id": "DyRR_OeZHuLs"
      },
      "execution_count": 14,
      "outputs": []
    },
    {
      "cell_type": "code",
      "source": [
        "model = tf.keras.models.Model([encoder_input, decoder_input], output)\n",
        "model.compile(optimizer='adam', loss='sparse_categorical_crossentropy')"
      ],
      "metadata": {
        "id": "nwEEU5hQHyGb"
      },
      "execution_count": 15,
      "outputs": []
    },
    {
      "cell_type": "code",
      "source": [
        "# Split the data into train and validation sets\n",
        "from sklearn.model_selection import train_test_split\n",
        "X_train, X_val, y_train, y_val = train_test_split(X_train, y_train, test_size=0.2, random_state=42)"
      ],
      "metadata": {
        "id": "4EFB9SNgH14Q"
      },
      "execution_count": 17,
      "outputs": []
    },
    {
      "cell_type": "code",
      "source": [
        "history = model.fit([X_train, y_train[:, :-1]], y_train[:, 1:], epochs=1, batch_size=32, validation_data=([X_val, y_val[:, :-1]], y_val[:, 1:])) # increse epochs as per need (using 1 to save time and computational power)"
      ],
      "metadata": {
        "colab": {
          "base_uri": "https://localhost:8080/"
        },
        "id": "XGIDsRO_H4UR",
        "outputId": "bf45abf1-9076-4eb0-9d86-02585ea19f30"
      },
      "execution_count": null,
      "outputs": [
        {
          "output_type": "stream",
          "name": "stdout",
          "text": [
            " 250/3262 [=>............................] - ETA: 9:16:26 - loss: 1.0255"
          ]
        }
      ]
    },
    {
      "cell_type": "code",
      "source": [
        "# Define inference models for encoder and decoder\n",
        "encoder_model = tf.keras.models.Model(encoder_input, [encoder_outputs, state_h, state_c])\n",
        "\n",
        "decoder_state_input_h = tf.keras.layers.Input(shape=(128,))\n",
        "decoder_state_input_c = tf.keras.layers.Input(shape=(128,))\n",
        "decoder_states_inputs = [decoder_state_input_h, decoder_state_input_c]\n",
        "\n",
        "decoder_outputs, state_h_dec, state_c_dec = decoder_lstm(\n",
        "    decoder_embedding, initial_state=decoder_states_inputs)\n",
        "\n",
        "decoder_states = [state_h_dec, state_c_dec]\n",
        "decoder_outputs = decoder_dense(decoder_outputs)\n",
        "\n",
        "decoder_model = tf.keras.models.Model(\n",
        "    [decoder_input] + decoder_states_inputs,\n",
        "    [decoder_outputs] + decoder_states\n",
        ")\n",
        "\n",
        "# Function to generate translations from input sequences\n",
        "def generate_translation(input_text):\n",
        "    input_seq = tokenizer_english.texts_to_sequences([input_text])\n",
        "    input_seq = pad_sequences(input_seq, maxlen=max_len, padding='post')\n",
        "\n",
        "    decoded_sentence = ''\n",
        "    encoder_output, encoder_state_h, encoder_state_c = encoder_model.predict(input_seq)\n",
        "    decoder_state_input_h = encoder_state_h\n",
        "    decoder_state_input_c = encoder_state_c\n",
        "    target_seq = np.zeros((1, 1))\n",
        "    target_seq[0, 0] = tokenizer_hindi.word_index['<start>']\n",
        "\n",
        "    stop_condition = False\n",
        "    while not stop_condition:\n",
        "        output_tokens, h, c = decoder_model.predict([target_seq] + [decoder_state_input_h, decoder_state_input_c])\n",
        "        sampled_token_index = np.argmax(output_tokens[0, -1, :])\n",
        "        sampled_token = tokenizer_hindi.index_word[sampled_token_index]\n",
        "        if sampled_token != '<end>':\n",
        "            decoded_sentence += ' ' + sampled_token\n",
        "        if sampled_token == '<end>' or len(decoded_sentence.split()) > max_len:\n",
        "            stop_condition = True\n",
        "        target_seq = np.zeros((1, 1))\n",
        "        target_seq[0, 0] = sampled_token_index\n",
        "        decoder_state_input_h = h\n",
        "        decoder_state_input_c = c\n",
        "\n",
        "    return decoded_sentence.strip()\n"
      ],
      "metadata": {
        "id": "GBy-olFqcioY"
      },
      "execution_count": null,
      "outputs": []
    },
    {
      "cell_type": "code",
      "source": [
        "# Example usage:\n",
        "input_text = \"Hello!\"\n",
        "translated_text = generate_translation(input_text)\n",
        "print(translated_text)"
      ],
      "metadata": {
        "id": "NgagCSU1cjSR"
      },
      "execution_count": null,
      "outputs": []
    },
    {
      "cell_type": "markdown",
      "source": [
        "# Using Hugging Face Model"
      ],
      "metadata": {
        "id": "ZhEI8Ki1cnNa"
      }
    },
    {
      "cell_type": "code",
      "source": [
        "import pandas as pd\n",
        "from sklearn.model_selection import train_test_split\n",
        "from transformers import T5Tokenizer, T5ForConditionalGeneration\n",
        "import torch\n",
        "\n",
        "# Load the dataset\n",
        "dataset = pd.read_csv('/content/Dataset_English_Hindi.csv')\n",
        "\n",
        "# Assuming your dataset has 'English' and 'Hindi' columns for input and target texts\n",
        "X = dataset['English']\n",
        "y = dataset['Hindi']\n",
        "\n",
        "# Split the data into train and validation sets\n",
        "X_train, X_val, y_train, y_val = train_test_split(X, y, test_size=0.2, random_state=42)\n",
        "\n",
        "# Initialize the T5 tokenizer and model\n",
        "tokenizer = T5Tokenizer.from_pretrained('google-t5/t5-base')\n",
        "model = T5ForConditionalGeneration.from_pretrained('google-t5/t5-base')\n",
        "\n",
        "# Tokenize the input and target sequences\n",
        "X_train_tokens = tokenizer.batch_encode_plus(X_train.tolist(), max_length=128, padding='max_length', truncation=True, return_tensors='pt')\n",
        "y_train_tokens = tokenizer.batch_encode_plus(y_train.tolist(), max_length=128, padding='max_length', truncation=True, return_tensors='pt')\n",
        "\n",
        "# Tokenize validation data\n",
        "X_val_tokens = tokenizer.batch_encode_plus(X_val.tolist(), max_length=128, padding='max_length', truncation=True, return_tensors='pt')\n",
        "y_val_tokens = tokenizer.batch_encode_plus(y_val.tolist(), max_length=128, padding='max_length', truncation=True, return_tensors='pt')\n",
        "\n",
        "# Define training parameters\n",
        "train_dataset = torch.utils.data.TensorDataset(X_train_tokens['input_ids'], X_train_tokens['attention_mask'], y_train_tokens['input_ids'], y_train_tokens['attention_mask'])\n",
        "val_dataset = torch.utils.data.TensorDataset(X_val_tokens['input_ids'], X_val_tokens['attention_mask'], y_val_tokens['input_ids'], y_val_tokens['attention_mask'])\n",
        "\n",
        "train_loader = torch.utils.data.DataLoader(train_dataset, batch_size=8, shuffle=True)\n",
        "val_loader = torch.utils.data.DataLoader(val_dataset, batch_size=8, shuffle=False)\n",
        "\n",
        "# Set up optimizer and scheduler\n",
        "optimizer = torch.optim.Adam(model.parameters(), lr=1e-4)\n",
        "scheduler = torch.optim.lr_scheduler.StepLR(optimizer, step_size=1, gamma=0.9)\n",
        "\n",
        "# Training loop\n",
        "device = torch.device('cuda' if torch.cuda.is_available() else 'cpu')\n",
        "model.to(device)\n",
        "\n",
        "for epoch in range(3):  # Adjust the number of epochs as needed\n",
        "    model.train()\n",
        "    for batch in train_loader:\n",
        "        optimizer.zero_grad()\n",
        "        input_ids, attention_mask, labels, _ = [b.to(device) for b in batch]\n",
        "        outputs = model(input_ids=input_ids, attention_mask=attention_mask, labels=labels)\n",
        "        loss = outputs.loss\n",
        "        loss.backward()\n",
        "        optimizer.step()\n",
        "        scheduler.step()\n",
        "\n",
        "    model.eval()\n",
        "    with torch.no_grad():\n",
        "        val_losses = []\n",
        "        for batch in val_loader:\n",
        "            input_ids, attention_mask, labels, _ = [b.to(device) for b in batch]\n",
        "            outputs = model(input_ids=input_ids, attention_mask=attention_mask, labels=labels)\n",
        "            val_losses.append(outputs.loss.item())\n",
        "\n",
        "    print(f\"Epoch {epoch+1}/{3}, Validation Loss: {sum(val_losses)/len(val_losses)}\")\n"
      ],
      "metadata": {
        "id": "kNiOrBo4cror"
      },
      "execution_count": null,
      "outputs": []
    },
    {
      "cell_type": "markdown",
      "source": [
        "# Using Attention mechanism(Bahdanau Attention)"
      ],
      "metadata": {
        "id": "LBmOiqe6cyzd"
      }
    },
    {
      "cell_type": "code",
      "source": [
        "import numpy as np\n",
        "import pandas as pd\n",
        "import tensorflow as tf\n",
        "from tensorflow.keras.preprocessing.text import Tokenizer\n",
        "from tensorflow.keras.preprocessing.sequence import pad_sequences\n",
        "from sklearn.model_selection import train_test_split\n",
        "\n",
        "# Load the dataset\n",
        "dataset = pd.read_csv('English.csv')\n",
        "\n",
        "# Assuming your dataset has 'English' and 'Hindi' columns for input and target texts\n",
        "X = dataset['English']\n",
        "y = dataset['Hindi']\n",
        "\n",
        "# Tokenize input and target sequences\n",
        "tokenizer_english = Tokenizer(num_words=5000, oov_token='<OOV>')\n",
        "tokenizer_hindi = Tokenizer(num_words=5000, oov_token='<OOV>')\n",
        "\n",
        "tokenizer_english.fit_on_texts(X)\n",
        "tokenizer_hindi.fit_on_texts(y)\n",
        "\n",
        "X_train = tokenizer_english.texts_to_sequences(X)\n",
        "y_train = tokenizer_hindi.texts_to_sequences(y)\n",
        "\n",
        "# Pad sequences to a maximum length\n",
        "max_len = 100  # Set your desired maximum sequence length\n",
        "X_train = pad_sequences(X_train, maxlen=max_len, padding='post')\n",
        "y_train = pad_sequences(y_train, maxlen=max_len, padding='post')\n",
        "\n",
        "# Define the model architecture\n",
        "class BahdanauAttention(tf.keras.layers.Layer):\n",
        "    def __init__(self, units):\n",
        "        super(BahdanauAttention, self).__init__()\n",
        "        self.W1 = tf.keras.layers.Dense(units)\n",
        "        self.W2 = tf.keras.layers.Dense(units)\n",
        "        self.V = tf.keras.layers.Dense(1)\n",
        "\n",
        "    def call(self, query, values):\n",
        "        # query shape == (batch_size, hidden_size)\n",
        "        # values shape == (batch_size, max_len, hidden_size)\n",
        "        # hidden_with_time_axis shape == (batch_size, 1, hidden_size)\n",
        "        # score shape == (batch_size, max_len, 1)\n",
        "        hidden_with_time_axis = tf.expand_dims(query, 1)\n",
        "        score = self.V(tf.nn.tanh(\n",
        "            self.W1(values) + self.W2(hidden_with_time_axis)))\n",
        "        attention_weights = tf.nn.softmax(score, axis=1)\n",
        "        context_vector = attention_weights * values\n",
        "        context_vector = tf.reduce_sum(context_vector, axis=1)\n",
        "        return context_vector, attention_weights\n",
        "\n",
        "vocab_size_en = len(tokenizer_english.word_index) + 1\n",
        "vocab_size_hi = len(tokenizer_hindi.word_index) + 1\n",
        "embedding_dim = 256\n",
        "units = 512\n",
        "\n",
        "encoder_input = tf.keras.layers.Input(shape=(max_len,))\n",
        "encoder_embedding = tf.keras.layers.Embedding(vocab_size_en, embedding_dim, input_length=max_len)(encoder_input)\n",
        "encoder_lstm = tf.keras.layers.LSTM(units, return_sequences=True, return_state=True)\n",
        "encoder_outputs, state_h, state_c = encoder_lstm(encoder_embedding)\n",
        "\n",
        "decoder_input = tf.keras.layers.Input(shape=(max_len,))\n",
        "decoder_embedding = tf.keras.layers.Embedding(vocab_size_hi, embedding_dim, input_length=max_len)(decoder_input)\n",
        "decoder_lstm = tf.keras.layers.LSTM(units, return_sequences=True, return_state=True)\n",
        "decoder_outputs, _, _ = decoder_lstm(decoder_embedding, initial_state=[state_h, state_c])\n",
        "\n",
        "attention_layer = BahdanauAttention(units)\n",
        "context_vector, attention_weights = attention_layer(state_h, encoder_outputs)\n",
        "\n",
        "decoder_concat_input = tf.concat([tf.expand_dims(context_vector, 1), decoder_outputs], axis=-1)\n",
        "decoder_dense = tf.keras.layers.Dense(vocab_size_hi, activation='softmax')\n",
        "decoder_outputs = decoder_dense(decoder_concat_input)\n",
        "\n",
        "model = tf.keras.models.Model([encoder_input, decoder_input], decoder_outputs)\n",
        "model.compile(optimizer='adam', loss='sparse_categorical_crossentropy', metrics=['accuracy'])\n",
        "\n",
        "# Split the data into train and validation sets\n",
        "X_train, X_val, y_train, y_val = train_test_split(X_train, y_train, test_size=0.2, random_state=42)\n",
        "\n",
        "# Train the model\n",
        "history = model.fit([X_train, y_train[:, :-1]], y_train[:, 1:], epochs=50, batch_size=64, validation_data=([X_val, y_val[:, :-1]], y_val[:, 1:]))\n"
      ],
      "metadata": {
        "id": "tzbkgRwac5FD"
      },
      "execution_count": null,
      "outputs": []
    },
    {
      "cell_type": "markdown",
      "source": [
        "## use the below code in place of the encoder_input and decoder_input to perform bidirectional RNN\n"
      ],
      "metadata": {
        "id": "RBSJnTJtdJ0w"
      }
    },
    {
      "cell_type": "code",
      "source": [
        "# Encoder with Bidirectional LSTM\n",
        "encoder_lstm = tf.keras.layers.Bidirectional(tf.keras.layers.LSTM(units, return_sequences=True, return_state=True))\n",
        "encoder_outputs, forward_h, forward_c, backward_h, backward_c = encoder_lstm(encoder_embedding)\n",
        "state_h = tf.keras.layers.Concatenate()([forward_h, backward_h])\n",
        "state_c = tf.keras.layers.Concatenate()([forward_c, backward_c])\n",
        "\n",
        "# Decoder with Bidirectional LSTM\n",
        "decoder_lstm = tf.keras.layers.Bidirectional(tf.keras.layers.LSTM(units, return_sequences=True, return_state=True))\n",
        "decoder_outputs, _, _, _, _ = decoder_lstm(decoder_embedding, initial_state=[state_h, state_c])\n"
      ],
      "metadata": {
        "id": "kK_5ozuvdBgW"
      },
      "execution_count": null,
      "outputs": []
    }
  ]
}