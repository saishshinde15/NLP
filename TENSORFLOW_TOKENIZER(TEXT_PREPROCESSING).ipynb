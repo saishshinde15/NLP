{
  "nbformat": 4,
  "nbformat_minor": 0,
  "metadata": {
    "colab": {
      "provenance": [],
      "authorship_tag": "ABX9TyPGZfgFg+s55WHmjm0jn+Eu",
      "include_colab_link": true
    },
    "kernelspec": {
      "name": "python3",
      "display_name": "Python 3"
    },
    "language_info": {
      "name": "python"
    }
  },
  "cells": [
    {
      "cell_type": "markdown",
      "metadata": {
        "id": "view-in-github",
        "colab_type": "text"
      },
      "source": [
        "<a href=\"https://colab.research.google.com/github/saishshinde15/NLP/blob/main/TENSORFLOW_TOKENIZER(TEXT_PREPROCESSING).ipynb\" target=\"_parent\"><img src=\"https://colab.research.google.com/assets/colab-badge.svg\" alt=\"Open In Colab\"/></a>"
      ]
    },
    {
      "cell_type": "code",
      "execution_count": 1,
      "metadata": {
        "id": "WmTn54ttfqD3"
      },
      "outputs": [],
      "source": [
        "import tensorflow"
      ]
    },
    {
      "cell_type": "code",
      "source": [
        "from tensorflow.keras.preprocessing.text import Tokenizer\n",
        "from tensorflow.keras.preprocessing.sequence import pad_sequences"
      ],
      "metadata": {
        "id": "fkZrOVbPfsuP"
      },
      "execution_count": 2,
      "outputs": []
    },
    {
      "cell_type": "code",
      "source": [
        "sentences=[\n",
        "    \" i like football clubs.\",\n",
        "    \" i love Liverpool football\",\n",
        "    \" i hate UTD\"\n",
        "]"
      ],
      "metadata": {
        "id": "8kgBwauwf9VQ"
      },
      "execution_count": 12,
      "outputs": []
    },
    {
      "cell_type": "code",
      "source": [
        "MAX_VOCAB_SIZE=2000\n",
        "tokenizer=Tokenizer(num_words=MAX_VOCAB_SIZE)\n",
        "tokenizer.fit_on_texts(sentences)\n",
        "sequences=tokenizer.texts_to_sequences(sentences)"
      ],
      "metadata": {
        "id": "ao3kHB5ugOjv"
      },
      "execution_count": 13,
      "outputs": []
    },
    {
      "cell_type": "code",
      "source": [
        "print(sequences)"
      ],
      "metadata": {
        "colab": {
          "base_uri": "https://localhost:8080/"
        },
        "id": "O9U4pAWCg4XI",
        "outputId": "47317101-bc57-4a8e-f4a5-fcbeca49e628"
      },
      "execution_count": 14,
      "outputs": [
        {
          "output_type": "stream",
          "name": "stdout",
          "text": [
            "[[1, 3, 2, 4], [1, 5, 6, 2], [1, 7, 8]]\n"
          ]
        }
      ]
    },
    {
      "cell_type": "code",
      "source": [
        "tokenizer.word_index"
      ],
      "metadata": {
        "colab": {
          "base_uri": "https://localhost:8080/"
        },
        "id": "aZ5C8WV2iGXj",
        "outputId": "e3eff66c-5bcf-4ad3-fc91-3b545566c5d2"
      },
      "execution_count": 15,
      "outputs": [
        {
          "output_type": "execute_result",
          "data": {
            "text/plain": [
              "{'i': 1,\n",
              " 'football': 2,\n",
              " 'like': 3,\n",
              " 'clubs': 4,\n",
              " 'love': 5,\n",
              " 'liverpool': 6,\n",
              " 'hate': 7,\n",
              " 'utd': 8}"
            ]
          },
          "metadata": {},
          "execution_count": 15
        }
      ]
    },
    {
      "cell_type": "markdown",
      "source": [
        "# Padding"
      ],
      "metadata": {
        "id": "AizZLuCdjew-"
      }
    },
    {
      "cell_type": "code",
      "source": [
        "data=pad_sequences(sequences) ##default"
      ],
      "metadata": {
        "id": "FxR1bqisiMLb"
      },
      "execution_count": 16,
      "outputs": []
    },
    {
      "cell_type": "code",
      "source": [
        "data"
      ],
      "metadata": {
        "colab": {
          "base_uri": "https://localhost:8080/"
        },
        "id": "FJAiwFH2iXjt",
        "outputId": "69e7fc15-222f-4eaf-d543-afa41df37c21"
      },
      "execution_count": 17,
      "outputs": [
        {
          "output_type": "execute_result",
          "data": {
            "text/plain": [
              "array([[1, 3, 2, 4],\n",
              "       [1, 5, 6, 2],\n",
              "       [0, 1, 7, 8]], dtype=int32)"
            ]
          },
          "metadata": {},
          "execution_count": 17
        }
      ]
    },
    {
      "cell_type": "code",
      "source": [
        "MAX_SEQUENCE_LENGHT=5\n",
        "data=pad_sequences(sequences,maxlen=MAX_SEQUENCE_LENGHT)   #increasing sequence lenght\n",
        "data"
      ],
      "metadata": {
        "colab": {
          "base_uri": "https://localhost:8080/"
        },
        "id": "D8aW0BoWiZL0",
        "outputId": "eed23d84-d701-4551-c49b-d6aec5cae757"
      },
      "execution_count": 18,
      "outputs": [
        {
          "output_type": "execute_result",
          "data": {
            "text/plain": [
              "array([[0, 1, 3, 2, 4],\n",
              "       [0, 1, 5, 6, 2],\n",
              "       [0, 0, 1, 7, 8]], dtype=int32)"
            ]
          },
          "metadata": {},
          "execution_count": 18
        }
      ]
    },
    {
      "cell_type": "code",
      "source": [
        "data=pad_sequences(sequences,maxlen=MAX_SEQUENCE_LENGHT,padding='post')    #post padding"
      ],
      "metadata": {
        "id": "XTnoLkZli3tu"
      },
      "execution_count": 20,
      "outputs": []
    },
    {
      "cell_type": "code",
      "source": [
        "data"
      ],
      "metadata": {
        "colab": {
          "base_uri": "https://localhost:8080/"
        },
        "id": "wuy50UOCi-M_",
        "outputId": "e4213349-e1a8-400e-b2d5-4620c3248a48"
      },
      "execution_count": 21,
      "outputs": [
        {
          "output_type": "execute_result",
          "data": {
            "text/plain": [
              "array([[1, 3, 2, 4, 0],\n",
              "       [1, 5, 6, 2, 0],\n",
              "       [1, 7, 8, 0, 0]], dtype=int32)"
            ]
          },
          "metadata": {},
          "execution_count": 21
        }
      ]
    },
    {
      "cell_type": "code",
      "source": [
        "data=pad_sequences(sequences,maxlen=4)"
      ],
      "metadata": {
        "id": "Mt1jW9PFjBez"
      },
      "execution_count": 22,
      "outputs": []
    },
    {
      "cell_type": "code",
      "source": [
        "data"
      ],
      "metadata": {
        "colab": {
          "base_uri": "https://localhost:8080/"
        },
        "id": "HoQq0wSFjRwm",
        "outputId": "46a9f4a8-a93f-41dd-952f-5b92e2f04170"
      },
      "execution_count": 23,
      "outputs": [
        {
          "output_type": "execute_result",
          "data": {
            "text/plain": [
              "array([[1, 3, 2, 4],\n",
              "       [1, 5, 6, 2],\n",
              "       [0, 1, 7, 8]], dtype=int32)"
            ]
          },
          "metadata": {},
          "execution_count": 23
        }
      ]
    },
    {
      "cell_type": "code",
      "source": [
        "data=pad_sequences(sequences,maxlen=4,truncating='post')"
      ],
      "metadata": {
        "id": "gnfh0K4djS42"
      },
      "execution_count": 24,
      "outputs": []
    },
    {
      "cell_type": "code",
      "source": [
        "data"
      ],
      "metadata": {
        "colab": {
          "base_uri": "https://localhost:8080/"
        },
        "id": "05hXTIaEja4g",
        "outputId": "dcac4a4e-c910-4394-e60c-2aef5cd20053"
      },
      "execution_count": 25,
      "outputs": [
        {
          "output_type": "execute_result",
          "data": {
            "text/plain": [
              "array([[1, 3, 2, 4],\n",
              "       [1, 5, 6, 2],\n",
              "       [0, 1, 7, 8]], dtype=int32)"
            ]
          },
          "metadata": {},
          "execution_count": 25
        }
      ]
    },
    {
      "cell_type": "code",
      "source": [],
      "metadata": {
        "id": "jLVEsysHjbeo"
      },
      "execution_count": null,
      "outputs": []
    }
  ]
}