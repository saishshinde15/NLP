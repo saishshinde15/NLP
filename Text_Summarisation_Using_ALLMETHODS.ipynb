{
  "nbformat": 4,
  "nbformat_minor": 0,
  "metadata": {
    "colab": {
      "provenance": [],
      "authorship_tag": "ABX9TyPQxkDPtfzlSmqs9i40C7i0",
      "include_colab_link": true
    },
    "kernelspec": {
      "name": "python3",
      "display_name": "Python 3"
    },
    "language_info": {
      "name": "python"
    }
  },
  "cells": [
    {
      "cell_type": "markdown",
      "metadata": {
        "id": "view-in-github",
        "colab_type": "text"
      },
      "source": [
        "<a href=\"https://colab.research.google.com/github/saishshinde15/NLP/blob/main/Text_Summarisation_Using_ALLMETHODS.ipynb\" target=\"_parent\"><img src=\"https://colab.research.google.com/assets/colab-badge.svg\" alt=\"Open In Colab\"/></a>"
      ]
    },
    {
      "cell_type": "code",
      "execution_count": 1,
      "metadata": {
        "id": "hI-r5LHQ7J42"
      },
      "outputs": [],
      "source": [
        "import pandas as pd\n",
        "import numpy as np\n",
        "import seaborn as sns\n",
        "import matplotlib.pyplot as plt\n",
        "from sklearn.feature_extraction.text import TfidfVectorizer"
      ]
    },
    {
      "cell_type": "code",
      "source": [
        "from nltk.corpus import stopwords"
      ],
      "metadata": {
        "id": "NvtUif2asFAP"
      },
      "execution_count": 53,
      "outputs": []
    },
    {
      "cell_type": "code",
      "source": [
        "nltk.download('punkt')\n",
        "nltk.download('stopwords')"
      ],
      "metadata": {
        "colab": {
          "base_uri": "https://localhost:8080/"
        },
        "id": "0o1e0GIsrf8-",
        "outputId": "a7558a92-3aca-4d5f-873d-d81cd2738667"
      },
      "execution_count": 48,
      "outputs": [
        {
          "output_type": "stream",
          "name": "stderr",
          "text": [
            "[nltk_data] Downloading package punkt to /root/nltk_data...\n",
            "[nltk_data]   Unzipping tokenizers/punkt.zip.\n",
            "[nltk_data] Downloading package stopwords to /root/nltk_data...\n",
            "[nltk_data]   Unzipping corpora/stopwords.zip.\n"
          ]
        },
        {
          "output_type": "execute_result",
          "data": {
            "text/plain": [
              "True"
            ]
          },
          "metadata": {},
          "execution_count": 48
        }
      ]
    },
    {
      "cell_type": "code",
      "source": [
        "import nltk"
      ],
      "metadata": {
        "id": "JWZQMN47q3l5"
      },
      "execution_count": 41,
      "outputs": []
    },
    {
      "cell_type": "code",
      "source": [
        "dataset=pd.read_csv('90minFootballTransferNewsNLP.csv')"
      ],
      "metadata": {
        "id": "tUDnkpPVndCW"
      },
      "execution_count": 32,
      "outputs": []
    },
    {
      "cell_type": "code",
      "source": [
        "dataset"
      ],
      "metadata": {
        "colab": {
          "base_uri": "https://localhost:8080/",
          "height": 411
        },
        "id": "Kn5lqih1obnw",
        "outputId": "c8e3a7f5-7b46-4616-faca-33ab4ba26bc4"
      },
      "execution_count": 33,
      "outputs": [
        {
          "output_type": "execute_result",
          "data": {
            "text/plain": [
              "                                                  Title          Date  \\\n",
              "0     Football transfer rumours: Why Maguire's Man U...  Aug 15, 2023   \n",
              "1        Chelsea agree Romeo Lavia fee with Southampton  Aug 15, 2023   \n",
              "2     Harry Maguire's proposed West Ham transfer col...  Aug 15, 2023   \n",
              "3     Southampton director breaks down Chelsea & Liv...  Aug 15, 2023   \n",
              "4            Neymar completes move from PSG to Al Hilal  Aug 15, 2023   \n",
              "...                                                 ...           ...   \n",
              "6721  Bayern Munich's Honorary President Talks Up Le...   Jun 1, 2020   \n",
              "6722  RB Leipzig Boss Julian Nagelsmann Admits 'Noth...   Jun 1, 2020   \n",
              "6723  Manchester United 'Leading Kai Havertz Race' A...   Jun 1, 2020   \n",
              "6724  Inter & Roma Close to Confirming Loan Extensio...   Jun 1, 2020   \n",
              "6725  The Budget Strikers Manchester United Could Tu...  May 31, 2020   \n",
              "\n",
              "                                                   Link  \\\n",
              "0     https://www.90min.com/posts/football-transfer-...   \n",
              "1     https://www.90min.com/posts/chelsea-agree-rome...   \n",
              "2     https://www.90min.com/posts/harry-maguire-prop...   \n",
              "3     https://www.90min.com/posts/southampton-direct...   \n",
              "4     https://www.90min.com/posts/neymar-completes-m...   \n",
              "...                                                 ...   \n",
              "6721  https://www.90min.com/posts/bayern-munich-s-ho...   \n",
              "6722  https://www.90min.com/posts/rb-leipzig-boss-ju...   \n",
              "6723  https://www.90min.com/posts/manchester-united-...   \n",
              "6724  https://www.90min.com/posts/inter-roma-close-t...   \n",
              "6725  https://www.90min.com/posts/the-budget-striker...   \n",
              "\n",
              "                                                Content  \n",
              "0     90minÂ rounds up the latestÂ transfer news, ru...  \n",
              "1     Chelsea have finalised an agreement with South...  \n",
              "2     Harry Maguire's proposed transfer to West Ham ...  \n",
              "3     Southampton director Jason Wilcox has revealed...  \n",
              "4     Saudi Pro League side Al Hilal have confirmed ...  \n",
              "...                                                 ...  \n",
              "6721  Bayern Munich honorary president Uli Hoeness h...  \n",
              "6722  RB Leipzig manager Julian Nagelsmann has admit...  \n",
              "6723  So, you know how clubs don't have loads of mon...  \n",
              "6724  Manchester United's Alexis SÃ¡nchez and Chris ...  \n",
              "6725  Every team needs a backup striker - someone re...  \n",
              "\n",
              "[6726 rows x 4 columns]"
            ],
            "text/html": [
              "\n",
              "  <div id=\"df-050cc3ae-81d6-4aed-b295-cb68d3ce8474\" class=\"colab-df-container\">\n",
              "    <div>\n",
              "<style scoped>\n",
              "    .dataframe tbody tr th:only-of-type {\n",
              "        vertical-align: middle;\n",
              "    }\n",
              "\n",
              "    .dataframe tbody tr th {\n",
              "        vertical-align: top;\n",
              "    }\n",
              "\n",
              "    .dataframe thead th {\n",
              "        text-align: right;\n",
              "    }\n",
              "</style>\n",
              "<table border=\"1\" class=\"dataframe\">\n",
              "  <thead>\n",
              "    <tr style=\"text-align: right;\">\n",
              "      <th></th>\n",
              "      <th>Title</th>\n",
              "      <th>Date</th>\n",
              "      <th>Link</th>\n",
              "      <th>Content</th>\n",
              "    </tr>\n",
              "  </thead>\n",
              "  <tbody>\n",
              "    <tr>\n",
              "      <th>0</th>\n",
              "      <td>Football transfer rumours: Why Maguire's Man U...</td>\n",
              "      <td>Aug 15, 2023</td>\n",
              "      <td>https://www.90min.com/posts/football-transfer-...</td>\n",
              "      <td>90minÂ rounds up the latestÂ transfer news, ru...</td>\n",
              "    </tr>\n",
              "    <tr>\n",
              "      <th>1</th>\n",
              "      <td>Chelsea agree Romeo Lavia fee with Southampton</td>\n",
              "      <td>Aug 15, 2023</td>\n",
              "      <td>https://www.90min.com/posts/chelsea-agree-rome...</td>\n",
              "      <td>Chelsea have finalised an agreement with South...</td>\n",
              "    </tr>\n",
              "    <tr>\n",
              "      <th>2</th>\n",
              "      <td>Harry Maguire's proposed West Ham transfer col...</td>\n",
              "      <td>Aug 15, 2023</td>\n",
              "      <td>https://www.90min.com/posts/harry-maguire-prop...</td>\n",
              "      <td>Harry Maguire's proposed transfer to West Ham ...</td>\n",
              "    </tr>\n",
              "    <tr>\n",
              "      <th>3</th>\n",
              "      <td>Southampton director breaks down Chelsea &amp; Liv...</td>\n",
              "      <td>Aug 15, 2023</td>\n",
              "      <td>https://www.90min.com/posts/southampton-direct...</td>\n",
              "      <td>Southampton director Jason Wilcox has revealed...</td>\n",
              "    </tr>\n",
              "    <tr>\n",
              "      <th>4</th>\n",
              "      <td>Neymar completes move from PSG to Al Hilal</td>\n",
              "      <td>Aug 15, 2023</td>\n",
              "      <td>https://www.90min.com/posts/neymar-completes-m...</td>\n",
              "      <td>Saudi Pro League side Al Hilal have confirmed ...</td>\n",
              "    </tr>\n",
              "    <tr>\n",
              "      <th>...</th>\n",
              "      <td>...</td>\n",
              "      <td>...</td>\n",
              "      <td>...</td>\n",
              "      <td>...</td>\n",
              "    </tr>\n",
              "    <tr>\n",
              "      <th>6721</th>\n",
              "      <td>Bayern Munich's Honorary President Talks Up Le...</td>\n",
              "      <td>Jun 1, 2020</td>\n",
              "      <td>https://www.90min.com/posts/bayern-munich-s-ho...</td>\n",
              "      <td>Bayern Munich honorary president Uli Hoeness h...</td>\n",
              "    </tr>\n",
              "    <tr>\n",
              "      <th>6722</th>\n",
              "      <td>RB Leipzig Boss Julian Nagelsmann Admits 'Noth...</td>\n",
              "      <td>Jun 1, 2020</td>\n",
              "      <td>https://www.90min.com/posts/rb-leipzig-boss-ju...</td>\n",
              "      <td>RB Leipzig manager Julian Nagelsmann has admit...</td>\n",
              "    </tr>\n",
              "    <tr>\n",
              "      <th>6723</th>\n",
              "      <td>Manchester United 'Leading Kai Havertz Race' A...</td>\n",
              "      <td>Jun 1, 2020</td>\n",
              "      <td>https://www.90min.com/posts/manchester-united-...</td>\n",
              "      <td>So, you know how clubs don't have loads of mon...</td>\n",
              "    </tr>\n",
              "    <tr>\n",
              "      <th>6724</th>\n",
              "      <td>Inter &amp; Roma Close to Confirming Loan Extensio...</td>\n",
              "      <td>Jun 1, 2020</td>\n",
              "      <td>https://www.90min.com/posts/inter-roma-close-t...</td>\n",
              "      <td>Manchester United's Alexis SÃ¡nchez and Chris ...</td>\n",
              "    </tr>\n",
              "    <tr>\n",
              "      <th>6725</th>\n",
              "      <td>The Budget Strikers Manchester United Could Tu...</td>\n",
              "      <td>May 31, 2020</td>\n",
              "      <td>https://www.90min.com/posts/the-budget-striker...</td>\n",
              "      <td>Every team needs a backup striker - someone re...</td>\n",
              "    </tr>\n",
              "  </tbody>\n",
              "</table>\n",
              "<p>6726 rows × 4 columns</p>\n",
              "</div>\n",
              "    <div class=\"colab-df-buttons\">\n",
              "\n",
              "  <div class=\"colab-df-container\">\n",
              "    <button class=\"colab-df-convert\" onclick=\"convertToInteractive('df-050cc3ae-81d6-4aed-b295-cb68d3ce8474')\"\n",
              "            title=\"Convert this dataframe to an interactive table.\"\n",
              "            style=\"display:none;\">\n",
              "\n",
              "  <svg xmlns=\"http://www.w3.org/2000/svg\" height=\"24px\" viewBox=\"0 -960 960 960\">\n",
              "    <path d=\"M120-120v-720h720v720H120Zm60-500h600v-160H180v160Zm220 220h160v-160H400v160Zm0 220h160v-160H400v160ZM180-400h160v-160H180v160Zm440 0h160v-160H620v160ZM180-180h160v-160H180v160Zm440 0h160v-160H620v160Z\"/>\n",
              "  </svg>\n",
              "    </button>\n",
              "\n",
              "  <style>\n",
              "    .colab-df-container {\n",
              "      display:flex;\n",
              "      gap: 12px;\n",
              "    }\n",
              "\n",
              "    .colab-df-convert {\n",
              "      background-color: #E8F0FE;\n",
              "      border: none;\n",
              "      border-radius: 50%;\n",
              "      cursor: pointer;\n",
              "      display: none;\n",
              "      fill: #1967D2;\n",
              "      height: 32px;\n",
              "      padding: 0 0 0 0;\n",
              "      width: 32px;\n",
              "    }\n",
              "\n",
              "    .colab-df-convert:hover {\n",
              "      background-color: #E2EBFA;\n",
              "      box-shadow: 0px 1px 2px rgba(60, 64, 67, 0.3), 0px 1px 3px 1px rgba(60, 64, 67, 0.15);\n",
              "      fill: #174EA6;\n",
              "    }\n",
              "\n",
              "    .colab-df-buttons div {\n",
              "      margin-bottom: 4px;\n",
              "    }\n",
              "\n",
              "    [theme=dark] .colab-df-convert {\n",
              "      background-color: #3B4455;\n",
              "      fill: #D2E3FC;\n",
              "    }\n",
              "\n",
              "    [theme=dark] .colab-df-convert:hover {\n",
              "      background-color: #434B5C;\n",
              "      box-shadow: 0px 1px 3px 1px rgba(0, 0, 0, 0.15);\n",
              "      filter: drop-shadow(0px 1px 2px rgba(0, 0, 0, 0.3));\n",
              "      fill: #FFFFFF;\n",
              "    }\n",
              "  </style>\n",
              "\n",
              "    <script>\n",
              "      const buttonEl =\n",
              "        document.querySelector('#df-050cc3ae-81d6-4aed-b295-cb68d3ce8474 button.colab-df-convert');\n",
              "      buttonEl.style.display =\n",
              "        google.colab.kernel.accessAllowed ? 'block' : 'none';\n",
              "\n",
              "      async function convertToInteractive(key) {\n",
              "        const element = document.querySelector('#df-050cc3ae-81d6-4aed-b295-cb68d3ce8474');\n",
              "        const dataTable =\n",
              "          await google.colab.kernel.invokeFunction('convertToInteractive',\n",
              "                                                    [key], {});\n",
              "        if (!dataTable) return;\n",
              "\n",
              "        const docLinkHtml = 'Like what you see? Visit the ' +\n",
              "          '<a target=\"_blank\" href=https://colab.research.google.com/notebooks/data_table.ipynb>data table notebook</a>'\n",
              "          + ' to learn more about interactive tables.';\n",
              "        element.innerHTML = '';\n",
              "        dataTable['output_type'] = 'display_data';\n",
              "        await google.colab.output.renderOutput(dataTable, element);\n",
              "        const docLink = document.createElement('div');\n",
              "        docLink.innerHTML = docLinkHtml;\n",
              "        element.appendChild(docLink);\n",
              "      }\n",
              "    </script>\n",
              "  </div>\n",
              "\n",
              "\n",
              "<div id=\"df-f8254907-7a65-4de8-98f0-806eae10e8e8\">\n",
              "  <button class=\"colab-df-quickchart\" onclick=\"quickchart('df-f8254907-7a65-4de8-98f0-806eae10e8e8')\"\n",
              "            title=\"Suggest charts\"\n",
              "            style=\"display:none;\">\n",
              "\n",
              "<svg xmlns=\"http://www.w3.org/2000/svg\" height=\"24px\"viewBox=\"0 0 24 24\"\n",
              "     width=\"24px\">\n",
              "    <g>\n",
              "        <path d=\"M19 3H5c-1.1 0-2 .9-2 2v14c0 1.1.9 2 2 2h14c1.1 0 2-.9 2-2V5c0-1.1-.9-2-2-2zM9 17H7v-7h2v7zm4 0h-2V7h2v10zm4 0h-2v-4h2v4z\"/>\n",
              "    </g>\n",
              "</svg>\n",
              "  </button>\n",
              "\n",
              "<style>\n",
              "  .colab-df-quickchart {\n",
              "      --bg-color: #E8F0FE;\n",
              "      --fill-color: #1967D2;\n",
              "      --hover-bg-color: #E2EBFA;\n",
              "      --hover-fill-color: #174EA6;\n",
              "      --disabled-fill-color: #AAA;\n",
              "      --disabled-bg-color: #DDD;\n",
              "  }\n",
              "\n",
              "  [theme=dark] .colab-df-quickchart {\n",
              "      --bg-color: #3B4455;\n",
              "      --fill-color: #D2E3FC;\n",
              "      --hover-bg-color: #434B5C;\n",
              "      --hover-fill-color: #FFFFFF;\n",
              "      --disabled-bg-color: #3B4455;\n",
              "      --disabled-fill-color: #666;\n",
              "  }\n",
              "\n",
              "  .colab-df-quickchart {\n",
              "    background-color: var(--bg-color);\n",
              "    border: none;\n",
              "    border-radius: 50%;\n",
              "    cursor: pointer;\n",
              "    display: none;\n",
              "    fill: var(--fill-color);\n",
              "    height: 32px;\n",
              "    padding: 0;\n",
              "    width: 32px;\n",
              "  }\n",
              "\n",
              "  .colab-df-quickchart:hover {\n",
              "    background-color: var(--hover-bg-color);\n",
              "    box-shadow: 0 1px 2px rgba(60, 64, 67, 0.3), 0 1px 3px 1px rgba(60, 64, 67, 0.15);\n",
              "    fill: var(--button-hover-fill-color);\n",
              "  }\n",
              "\n",
              "  .colab-df-quickchart-complete:disabled,\n",
              "  .colab-df-quickchart-complete:disabled:hover {\n",
              "    background-color: var(--disabled-bg-color);\n",
              "    fill: var(--disabled-fill-color);\n",
              "    box-shadow: none;\n",
              "  }\n",
              "\n",
              "  .colab-df-spinner {\n",
              "    border: 2px solid var(--fill-color);\n",
              "    border-color: transparent;\n",
              "    border-bottom-color: var(--fill-color);\n",
              "    animation:\n",
              "      spin 1s steps(1) infinite;\n",
              "  }\n",
              "\n",
              "  @keyframes spin {\n",
              "    0% {\n",
              "      border-color: transparent;\n",
              "      border-bottom-color: var(--fill-color);\n",
              "      border-left-color: var(--fill-color);\n",
              "    }\n",
              "    20% {\n",
              "      border-color: transparent;\n",
              "      border-left-color: var(--fill-color);\n",
              "      border-top-color: var(--fill-color);\n",
              "    }\n",
              "    30% {\n",
              "      border-color: transparent;\n",
              "      border-left-color: var(--fill-color);\n",
              "      border-top-color: var(--fill-color);\n",
              "      border-right-color: var(--fill-color);\n",
              "    }\n",
              "    40% {\n",
              "      border-color: transparent;\n",
              "      border-right-color: var(--fill-color);\n",
              "      border-top-color: var(--fill-color);\n",
              "    }\n",
              "    60% {\n",
              "      border-color: transparent;\n",
              "      border-right-color: var(--fill-color);\n",
              "    }\n",
              "    80% {\n",
              "      border-color: transparent;\n",
              "      border-right-color: var(--fill-color);\n",
              "      border-bottom-color: var(--fill-color);\n",
              "    }\n",
              "    90% {\n",
              "      border-color: transparent;\n",
              "      border-bottom-color: var(--fill-color);\n",
              "    }\n",
              "  }\n",
              "</style>\n",
              "\n",
              "  <script>\n",
              "    async function quickchart(key) {\n",
              "      const quickchartButtonEl =\n",
              "        document.querySelector('#' + key + ' button');\n",
              "      quickchartButtonEl.disabled = true;  // To prevent multiple clicks.\n",
              "      quickchartButtonEl.classList.add('colab-df-spinner');\n",
              "      try {\n",
              "        const charts = await google.colab.kernel.invokeFunction(\n",
              "            'suggestCharts', [key], {});\n",
              "      } catch (error) {\n",
              "        console.error('Error during call to suggestCharts:', error);\n",
              "      }\n",
              "      quickchartButtonEl.classList.remove('colab-df-spinner');\n",
              "      quickchartButtonEl.classList.add('colab-df-quickchart-complete');\n",
              "    }\n",
              "    (() => {\n",
              "      let quickchartButtonEl =\n",
              "        document.querySelector('#df-f8254907-7a65-4de8-98f0-806eae10e8e8 button');\n",
              "      quickchartButtonEl.style.display =\n",
              "        google.colab.kernel.accessAllowed ? 'block' : 'none';\n",
              "    })();\n",
              "  </script>\n",
              "</div>\n",
              "\n",
              "  <div id=\"id_ab665ac3-2637-4663-906c-8d58be682bb7\">\n",
              "    <style>\n",
              "      .colab-df-generate {\n",
              "        background-color: #E8F0FE;\n",
              "        border: none;\n",
              "        border-radius: 50%;\n",
              "        cursor: pointer;\n",
              "        display: none;\n",
              "        fill: #1967D2;\n",
              "        height: 32px;\n",
              "        padding: 0 0 0 0;\n",
              "        width: 32px;\n",
              "      }\n",
              "\n",
              "      .colab-df-generate:hover {\n",
              "        background-color: #E2EBFA;\n",
              "        box-shadow: 0px 1px 2px rgba(60, 64, 67, 0.3), 0px 1px 3px 1px rgba(60, 64, 67, 0.15);\n",
              "        fill: #174EA6;\n",
              "      }\n",
              "\n",
              "      [theme=dark] .colab-df-generate {\n",
              "        background-color: #3B4455;\n",
              "        fill: #D2E3FC;\n",
              "      }\n",
              "\n",
              "      [theme=dark] .colab-df-generate:hover {\n",
              "        background-color: #434B5C;\n",
              "        box-shadow: 0px 1px 3px 1px rgba(0, 0, 0, 0.15);\n",
              "        filter: drop-shadow(0px 1px 2px rgba(0, 0, 0, 0.3));\n",
              "        fill: #FFFFFF;\n",
              "      }\n",
              "    </style>\n",
              "    <button class=\"colab-df-generate\" onclick=\"generateWithVariable('dataset')\"\n",
              "            title=\"Generate code using this dataframe.\"\n",
              "            style=\"display:none;\">\n",
              "\n",
              "  <svg xmlns=\"http://www.w3.org/2000/svg\" height=\"24px\"viewBox=\"0 0 24 24\"\n",
              "       width=\"24px\">\n",
              "    <path d=\"M7,19H8.4L18.45,9,17,7.55,7,17.6ZM5,21V16.75L18.45,3.32a2,2,0,0,1,2.83,0l1.4,1.43a1.91,1.91,0,0,1,.58,1.4,1.91,1.91,0,0,1-.58,1.4L9.25,21ZM18.45,9,17,7.55Zm-12,3A5.31,5.31,0,0,0,4.9,8.1,5.31,5.31,0,0,0,1,6.5,5.31,5.31,0,0,0,4.9,4.9,5.31,5.31,0,0,0,6.5,1,5.31,5.31,0,0,0,8.1,4.9,5.31,5.31,0,0,0,12,6.5,5.46,5.46,0,0,0,6.5,12Z\"/>\n",
              "  </svg>\n",
              "    </button>\n",
              "    <script>\n",
              "      (() => {\n",
              "      const buttonEl =\n",
              "        document.querySelector('#id_ab665ac3-2637-4663-906c-8d58be682bb7 button.colab-df-generate');\n",
              "      buttonEl.style.display =\n",
              "        google.colab.kernel.accessAllowed ? 'block' : 'none';\n",
              "\n",
              "      buttonEl.onclick = () => {\n",
              "        google.colab.notebook.generateWithVariable('dataset');\n",
              "      }\n",
              "      })();\n",
              "    </script>\n",
              "  </div>\n",
              "\n",
              "    </div>\n",
              "  </div>\n"
            ],
            "application/vnd.google.colaboratory.intrinsic+json": {
              "type": "dataframe",
              "variable_name": "dataset",
              "summary": "{\n  \"name\": \"dataset\",\n  \"rows\": 6726,\n  \"fields\": [\n    {\n      \"column\": \"Title\",\n      \"properties\": {\n        \"dtype\": \"string\",\n        \"num_unique_values\": 6722,\n        \"samples\": [\n          \"Donny van de Beek 'wants to leave' Man Utd over lack of minutes\",\n          \"Transfer rumours: Man Utd working on Ronaldo request; Chelsea consider Gnabry\",\n          \"Transfer notebook: Gerrard wants Tavernier in Saudi Arabia; Leeds set to lose Aaronson\"\n        ],\n        \"semantic_type\": \"\",\n        \"description\": \"\"\n      }\n    },\n    {\n      \"column\": \"Date\",\n      \"properties\": {\n        \"dtype\": \"object\",\n        \"num_unique_values\": 1118,\n        \"samples\": [\n          \"Sep 29, 2020\",\n          \"May 3, 2023\",\n          \"Apr 6, 2022\"\n        ],\n        \"semantic_type\": \"\",\n        \"description\": \"\"\n      }\n    },\n    {\n      \"column\": \"Link\",\n      \"properties\": {\n        \"dtype\": \"string\",\n        \"num_unique_values\": 6724,\n        \"samples\": [\n          \"https://www.90min.com/posts/wesley-fofana-dropped-leicester-first-team-squad-third-chelsea-bid-rejected\",\n          \"https://www.90min.com/posts/granit-xhaka-reveals-reason-arsenal-exit\",\n          \"https://www.90min.com/posts/man-utd-hold-talks-ajax-antony-lisandro-martinez-deals\"\n        ],\n        \"semantic_type\": \"\",\n        \"description\": \"\"\n      }\n    },\n    {\n      \"column\": \"Content\",\n      \"properties\": {\n        \"dtype\": \"string\",\n        \"num_unique_values\": 6724,\n        \"samples\": [\n          \"Leicester City manager Brendan Rodgers has confirmed the club have rejected a third Chelsea bid for defender Welsey Fofana. Chelsea have been continuing talks with Leicester over a deal, but a fresh offer has now been shunned by the Foxes. Leicester have been sticking firm to a price tag of at least \\u00c2\\u00a380m for the France Under-21 international, who has made it clear to Rodgers and the club that he wants to move to west London. However, Chelsea's latest offer or around \\u00c2\\u00a370m is still substantially below Leicester's expectations and the Foxes are still not prepared to sell at the figure. The situation has moved on though, with Rodgers confirming that the club have also demoted Fofana to training with their Under-23 side after he missed a session last week - which had already resulted in him being dropped for their Premier League loss to Southampton at the weekend. Scott Saunders,\\u00c2\\u00a0Graeme Bailey,Toby Cudworth\\u00c2\\u00a0and\\u00c2\\u00a0Harry Symeou\\u00c2\\u00a0bring you Talking Transfers, discussing Antony attempting to push through a move to Man Utd, Frenkie de Jong and Pierre-Emerick Aubayemang's futures at Barcelona and Arsenal's interest in Pedro Neto. Available on\\u00c2\\u00a0all audio platforms\\u00c2\\u00a0and the\\u00c2\\u00a090min YouTube channel. If you can't see the podcast embed, click\\u00c2\\u00a0here\\u00c2\\u00a0to download the episode in full! Speaking after their narrow Carabao Cup win over League Two side Stockport County, Rodgers explained the situation regarding the new bid and Fofana's status. \\u00e2\\u0080\\u009cWe\\u00e2\\u0080\\u0099ve received one fresh bid for Fofana and it has been turned down,\\\" Rodgers said. \\\"He is training with the Under-23s after failing to turn up to a training session last week.\\\"\",\n          \"Granit Xhaka has rejected suggestions his move from Arsenal to Bayer Leverkusen was fuelled by his partner's desire to leave England. Xhaka agreed a \\u00e2\\u0082\\u00ac25m move to North Rhine-Westphalia in Germany after a brilliant campaign for the Gunners, helping them to second and qualification for the Champions League. His exit comes with Arsenal close to bringing in Declan Rice for a British record transfer fee as Mikel Arteta reshapes his midfield ahead of the 2023/24 season. There had been claims Xhaka's wife's unhappiness in England played a part in the 30-year-old leaving, but he has rejected that idea. Xhaka told Keystone-SDA: \\\"There was speculation everywhere that my wife was no longer happy in England. That is not at all true. feed \\\"The fact is that as a person I am always interested in new challenges. After seven years, the time has come for something completely new.  \\\"The league is not new, but the club is. During the talks with Simon Rolfes [sporting director] and Xabi Alonso, I felt that the long-term project at Leverkusen was worthwhile and that it was 100% in line with me.\\\" The Switzerland international brought a fluctuating stint with the Gunners that lasted seven years to an end by returning to the Bundesliga with Xabi Alonso's Leverkusen. He won the FA Cup twice and scored 23 goals in 297 appearances for the north London side. Xhaka won over Arsenal fans by becoming an important cog under Mikel Arteta, having previously been an outcast under Unai Emery after storming off the pitch and losing the club captaincy in 2019.\",\n          \"Manchester United have held discussions with Ajax over potential deals for both Antony and Lisandro Martinez, though the Dutch champions are looking for at least \\u00e2\\u0082\\u00ac120m for the pair. 90min has reported on United's interest in Antony since February, though efforts to sign the Brazilian winger have intensified since the club appointed Erik ten Hag as manager.  Ten Hag is targeting central midfield as his first priority to strengthen - with a deal for Barcelona's Frenkie de Jong edging closer - while the club are hopeful of convincing Christian Eriksen to join them on a free transfer. Ten Hag, though, would also like to sign an attacker.  Antony has now emerged as United's chief target in the final third, and the club have spoken to Ajax over potentially bringing the 22-year-old to England. Ajax, though, have agreed to sell Sebastien Haller to Borussia Dortmund and Ryan Gravenberch has joined Bayern Munich - meaning they do not need to sell and are prepared to demand high prices for any other outgoings. Listen now to 90min's Talking Transfers podcast, with\\u00c2\\u00a0Scott Saunders,\\u00c2\\u00a0Graeme Bailey,\\u00c2\\u00a0Harry Symeou\\u00c2\\u00a0&\\u00c2\\u00a0Toby Cudworth. On the latest show they discuss Newcastle's decision to pull out of a deal for Hugo Ekitike and offer the latest on Arsenal's pursuit of Gabriel Jesus. Available on\\u00c2\\u00a0all audio platforms\\u00c2\\u00a0and the\\u00c2\\u00a090min YouTube channel. If you can't see the podcast embed, click\\u00c2\\u00a0here\\u00c2\\u00a0to download the episode in full! Ajax are holding out for as much as \\u00c2\\u00a370m for Antony, though the player is pushing hard to move to United and reunite with the manager that brought him to Europe. United value Antony at a much lower fee and are hopeful the player's desire will help convince Ajax to lower their demands. United are also looking for a new centre half, and have turned their attention to Martinez having now accepted that Jurrien Timber, another Ajax player and an initial target, will not be leaving Amsterdam this summer. Arsenal are also interested in Martinez and have made two offers of their own - the latest being around \\u00c2\\u00a334m - as they look to strengthen with a player able to play in central defence, defensive midfield and at left-back. Martinez has informed Ajax he would like to leave the club this summer.\"\n        ],\n        \"semantic_type\": \"\",\n        \"description\": \"\"\n      }\n    }\n  ]\n}"
            }
          },
          "metadata": {},
          "execution_count": 33
        }
      ]
    },
    {
      "cell_type": "code",
      "source": [
        "dataset = dataset['Title'] + ' ' + dataset['Content']"
      ],
      "metadata": {
        "id": "BewzCmsBocwU"
      },
      "execution_count": 34,
      "outputs": []
    },
    {
      "cell_type": "code",
      "source": [
        "dataset"
      ],
      "metadata": {
        "colab": {
          "base_uri": "https://localhost:8080/"
        },
        "id": "Uabhi_E2ot13",
        "outputId": "20862349-5334-4de4-fb45-53d765c4b847"
      },
      "execution_count": 35,
      "outputs": [
        {
          "output_type": "execute_result",
          "data": {
            "text/plain": [
              "0       Football transfer rumours: Why Maguire's Man U...\n",
              "1       Chelsea agree Romeo Lavia fee with Southampton...\n",
              "2       Harry Maguire's proposed West Ham transfer col...\n",
              "3       Southampton director breaks down Chelsea & Liv...\n",
              "4       Neymar completes move from PSG to Al Hilal Sau...\n",
              "                              ...                        \n",
              "6721    Bayern Munich's Honorary President Talks Up Le...\n",
              "6722    RB Leipzig Boss Julian Nagelsmann Admits 'Noth...\n",
              "6723    Manchester United 'Leading Kai Havertz Race' A...\n",
              "6724    Inter & Roma Close to Confirming Loan Extensio...\n",
              "6725    The Budget Strikers Manchester United Could Tu...\n",
              "Length: 6726, dtype: object"
            ]
          },
          "metadata": {},
          "execution_count": 35
        }
      ]
    },
    {
      "cell_type": "code",
      "source": [
        "dataset[0]"
      ],
      "metadata": {
        "colab": {
          "base_uri": "https://localhost:8080/",
          "height": 132
        },
        "id": "1e_7EBKVqMCF",
        "outputId": "94176977-fd80-43fb-e96d-f835e97ee605"
      },
      "execution_count": 51,
      "outputs": [
        {
          "output_type": "execute_result",
          "data": {
            "text/plain": [
              "\"Football transfer rumours: Why Maguire's Man Utd exit collapsed; Liverpool's six midfielder targets 90minÂ\\xa0rounds up the latestÂ\\xa0transfer news, rumours and gossip circulating around the world... West Ham have called off their move for Harry Maguire despite agreeing a Â£30m fee with Manchester United. The England defender wanted a severance payment of around Â£7m in order to depart Old Trafford and accept a lower wage packet at London Stadium. (Guardian) Manchester United would have needed to sign a replacement for Maguire had he chose to leave but they would have been left short of time to do so this window. (The Athletic) Despite reports suggesting otherwise, Everton have not received a bid from Manchester United for midfielder Amadou Onana, though would demand a huge transfer fee in order to sell the Belgian. (Liverpool Echo) Chelsea have agreed a Â£58m fee with Southampton for Romeo Lavia as Todd Boehly's spending during his time as owner nears the Â£1bn mark. (The Athletic) Manchester City will ramp up their interest in Jeremy Doku once they formalise a new bid for Lucas Paqueta. (Fabrizio Romano) manual Barcelona recently knocked back an approach from Manchester City for 16-year-old wonderkid Lamine Yamal. City had planned to loan him out to Barca's Catalan neighbours Girona. (Mundo Deportivo) Al Nassr are exploring a shock move for Liverpool goalkeeper Alisson, who is believed to be open to a move to Saudi Arabia. (Foot Mercato) In terms of incomings, Liverpool are believed to have a six-player shortlist to fill their hole in defensive midfield after losing out on Romeo Lavia and Moises Caicedo to Chelsea. Fulham's Joao Palhinha and Crystal Palace's Cheick Doucoure are towards the top of that list. (Daily Mail) Real Madrid are eyeing Arsenal centre-back Gabriel Magalhaes as a replacement for Eder Militao, who recently sustained an ACL injury. (PL Brasil) Tottenham plan to sell Eric Dier and bring in a new centre-back and star midfielder before the end of the transfer window. (Football Insider)\""
            ],
            "application/vnd.google.colaboratory.intrinsic+json": {
              "type": "string"
            }
          },
          "metadata": {},
          "execution_count": 51
        }
      ]
    },
    {
      "cell_type": "code",
      "source": [
        "import textwrap"
      ],
      "metadata": {
        "id": "QUaDZvNjpaHi"
      },
      "execution_count": 37,
      "outputs": []
    },
    {
      "cell_type": "code",
      "source": [
        "def wrap(x):\n",
        "  return textwrap.fill(x, replace_whitespace=False, fix_sentence_endings=True)"
      ],
      "metadata": {
        "id": "t7pt5WFYo7Dc"
      },
      "execution_count": 38,
      "outputs": []
    },
    {
      "cell_type": "code",
      "source": [
        "print(wrap(dataset.iloc[0]))"
      ],
      "metadata": {
        "colab": {
          "base_uri": "https://localhost:8080/"
        },
        "id": "Dw-xpcYppPEB",
        "outputId": "d8c3a911-7315-44ca-df4f-29b3d2c07cce"
      },
      "execution_count": 39,
      "outputs": [
        {
          "output_type": "stream",
          "name": "stdout",
          "text": [
            "Football transfer rumours: Why Maguire's Man Utd exit collapsed;\n",
            "Liverpool's six midfielder targets 90minÂ rounds up the\n",
            "latestÂ transfer news, rumours and gossip circulating around the\n",
            "world... West Ham have called off their move for Harry Maguire despite\n",
            "agreeing a Â£30m fee with Manchester United.  The England defender\n",
            "wanted a severance payment of around Â£7m in order to depart Old\n",
            "Trafford and accept a lower wage packet at London Stadium.  (Guardian)\n",
            "Manchester United would have needed to sign a replacement for Maguire\n",
            "had he chose to leave but they would have been left short of time to\n",
            "do so this window.  (The Athletic) Despite reports suggesting\n",
            "otherwise, Everton have not received a bid from Manchester United for\n",
            "midfielder Amadou Onana, though would demand a huge transfer fee in\n",
            "order to sell the Belgian.  (Liverpool Echo) Chelsea have agreed a\n",
            "Â£58m fee with Southampton for Romeo Lavia as Todd Boehly's spending\n",
            "during his time as owner nears the Â£1bn mark.  (The Athletic)\n",
            "Manchester City will ramp up their interest in Jeremy Doku once they\n",
            "formalise a new bid for Lucas Paqueta.  (Fabrizio Romano) manual\n",
            "Barcelona recently knocked back an approach from Manchester City for\n",
            "16-year-old wonderkid Lamine Yamal.  City had planned to loan him out\n",
            "to Barca's Catalan neighbours Girona.  (Mundo Deportivo) Al Nassr are\n",
            "exploring a shock move for Liverpool goalkeeper Alisson, who is\n",
            "believed to be open to a move to Saudi Arabia.  (Foot Mercato) In\n",
            "terms of incomings, Liverpool are believed to have a six-player\n",
            "shortlist to fill their hole in defensive midfield after losing out on\n",
            "Romeo Lavia and Moises Caicedo to Chelsea.  Fulham's Joao Palhinha and\n",
            "Crystal Palace's Cheick Doucoure are towards the top of that list.\n",
            "(Daily Mail) Real Madrid are eyeing Arsenal centre-back Gabriel\n",
            "Magalhaes as a replacement for Eder Militao, who recently sustained an\n",
            "ACL injury.  (PL Brasil) Tottenham plan to sell Eric Dier and bring in\n",
            "a new centre-back and star midfielder before the end of the transfer\n",
            "window.  (Football Insider)\n"
          ]
        }
      ]
    },
    {
      "cell_type": "code",
      "source": [
        "sents = nltk.sent_tokenize(dataset.iloc[0])\n",
        "for sent in sents:\n",
        "  print(wrap(sent))\n"
      ],
      "metadata": {
        "colab": {
          "base_uri": "https://localhost:8080/"
        },
        "id": "xcjWnM9ZrYBF",
        "outputId": "f3ba396e-57ad-4598-ada4-77aa620b21ca"
      },
      "execution_count": 49,
      "outputs": [
        {
          "output_type": "stream",
          "name": "stdout",
          "text": [
            "Football transfer rumours: Why Maguire's Man Utd exit collapsed;\n",
            "Liverpool's six midfielder targets 90minÂ rounds up the\n",
            "latestÂ transfer news, rumours and gossip circulating around the\n",
            "world... West Ham have called off their move for Harry Maguire despite\n",
            "agreeing a Â£30m fee with Manchester United.\n",
            "The England defender wanted a severance payment of around Â£7m in\n",
            "order to depart Old Trafford and accept a lower wage packet at London\n",
            "Stadium.\n",
            "(Guardian) Manchester United would have needed to sign a replacement\n",
            "for Maguire had he chose to leave but they would have been left short\n",
            "of time to do so this window.\n",
            "(The Athletic) Despite reports suggesting otherwise, Everton have not\n",
            "received a bid from Manchester United for midfielder Amadou Onana,\n",
            "though would demand a huge transfer fee in order to sell the Belgian.\n",
            "(Liverpool Echo) Chelsea have agreed a Â£58m fee with Southampton for\n",
            "Romeo Lavia as Todd Boehly's spending during his time as owner nears\n",
            "the Â£1bn mark.\n",
            "(The Athletic) Manchester City will ramp up their interest in Jeremy\n",
            "Doku once they formalise a new bid for Lucas Paqueta.\n",
            "(Fabrizio Romano) manual Barcelona recently knocked back an approach\n",
            "from Manchester City for 16-year-old wonderkid Lamine Yamal.\n",
            "City had planned to loan him out to Barca's Catalan neighbours Girona.\n",
            "(Mundo Deportivo) Al Nassr are exploring a shock move for Liverpool\n",
            "goalkeeper Alisson, who is believed to be open to a move to Saudi\n",
            "Arabia.\n",
            "(Foot Mercato) In terms of incomings, Liverpool are believed to have a\n",
            "six-player shortlist to fill their hole in defensive midfield after\n",
            "losing out on Romeo Lavia and Moises Caicedo to Chelsea.\n",
            "Fulham's Joao Palhinha and Crystal Palace's Cheick Doucoure are\n",
            "towards the top of that list.\n",
            "(Daily Mail) Real Madrid are eyeing Arsenal centre-back Gabriel\n",
            "Magalhaes as a replacement for Eder Militao, who recently sustained an\n",
            "ACL injury.\n",
            "(PL Brasil) Tottenham plan to sell Eric Dier and bring in a new\n",
            "centre-back and star midfielder before the end of the transfer window.\n",
            "(Football Insider)\n"
          ]
        }
      ]
    },
    {
      "cell_type": "code",
      "source": [
        "featurizer = TfidfVectorizer(\n",
        "    stop_words=stopwords.words('english'),\n",
        "    norm='l1',\n",
        ")"
      ],
      "metadata": {
        "id": "G6-1l88Sra58"
      },
      "execution_count": 54,
      "outputs": []
    },
    {
      "cell_type": "code",
      "source": [
        "X = featurizer.fit_transform(sents)"
      ],
      "metadata": {
        "id": "1gf9ws44sBf0"
      },
      "execution_count": 55,
      "outputs": []
    },
    {
      "cell_type": "code",
      "source": [
        "def get_sentence_score(tfidf_row):\n",
        "  x = tfidf_row[tfidf_row != 0]\n",
        "  return x.mean()"
      ],
      "metadata": {
        "id": "3XdPCgK_sKpc"
      },
      "execution_count": 56,
      "outputs": []
    },
    {
      "cell_type": "code",
      "source": [
        "scores = np.zeros(len(sents))\n",
        "for i in range(len(sents)):\n",
        "  score = get_sentence_score(X[i,:])\n",
        "  scores[i] = score"
      ],
      "metadata": {
        "id": "_bzOPRLvsMo3"
      },
      "execution_count": 57,
      "outputs": []
    },
    {
      "cell_type": "code",
      "source": [
        "sort_idx = np.argsort(-scores)"
      ],
      "metadata": {
        "id": "OxhXpEgKsOuJ"
      },
      "execution_count": 58,
      "outputs": []
    },
    {
      "cell_type": "code",
      "source": [
        "print(\"Generated summary:\")\n",
        "for i in sort_idx[:10]:\n",
        "  print(wrap(\"%.2f: %s\" % (scores[i], sents[i]))) #top N sentences"
      ],
      "metadata": {
        "colab": {
          "base_uri": "https://localhost:8080/"
        },
        "id": "ImKhgchxsQzW",
        "outputId": "dddccd59-ee68-4b06-d728-7bf54523824e"
      },
      "execution_count": 60,
      "outputs": [
        {
          "output_type": "stream",
          "name": "stdout",
          "text": [
            "Generated summary:\n",
            "0.50: (Football Insider)\n",
            "0.14: City had planned to loan him out to Barca's Catalan neighbours\n",
            "Girona.\n",
            "0.10: Fulham's Joao Palhinha and Crystal Palace's Cheick Doucoure are\n",
            "towards the top of that list.\n",
            "0.08: (The Athletic) Manchester City will ramp up their interest in\n",
            "Jeremy Doku once they formalise a new bid for Lucas Paqueta.\n",
            "0.07: (Guardian) Manchester United would have needed to sign a\n",
            "replacement for Maguire had he chose to leave but they would have been\n",
            "left short of time to do so this window.\n",
            "0.07: (Mundo Deportivo) Al Nassr are exploring a shock move for\n",
            "Liverpool goalkeeper Alisson, who is believed to be open to a move to\n",
            "Saudi Arabia.\n",
            "0.06: (Fabrizio Romano) manual Barcelona recently knocked back an\n",
            "approach from Manchester City for 16-year-old wonderkid Lamine Yamal.\n",
            "0.06: (PL Brasil) Tottenham plan to sell Eric Dier and bring in a new\n",
            "centre-back and star midfielder before the end of the transfer window.\n",
            "0.06: The England defender wanted a severance payment of around Â£7m\n",
            "in order to depart Old Trafford and accept a lower wage packet at\n",
            "London Stadium.\n",
            "0.06: (Liverpool Echo) Chelsea have agreed a Â£58m fee with\n",
            "Southampton for Romeo Lavia as Todd Boehly's spending during his time\n",
            "as owner nears the Â£1bn mark.\n"
          ]
        }
      ]
    },
    {
      "cell_type": "code",
      "source": [],
      "metadata": {
        "id": "R1jzgIZKsTEy"
      },
      "execution_count": null,
      "outputs": []
    },
    {
      "cell_type": "markdown",
      "source": [
        "## USING TEXT RANKING"
      ],
      "metadata": {
        "id": "-bFJ-_DDsoov"
      }
    },
    {
      "cell_type": "code",
      "source": [
        "dataset[0]"
      ],
      "metadata": {
        "colab": {
          "base_uri": "https://localhost:8080/",
          "height": 132
        },
        "id": "XVM-IwSBsreN",
        "outputId": "b78adbde-69d9-4283-f8a6-f1773365d36d"
      },
      "execution_count": 62,
      "outputs": [
        {
          "output_type": "execute_result",
          "data": {
            "text/plain": [
              "\"Football transfer rumours: Why Maguire's Man Utd exit collapsed; Liverpool's six midfielder targets 90minÂ\\xa0rounds up the latestÂ\\xa0transfer news, rumours and gossip circulating around the world... West Ham have called off their move for Harry Maguire despite agreeing a Â£30m fee with Manchester United. The England defender wanted a severance payment of around Â£7m in order to depart Old Trafford and accept a lower wage packet at London Stadium. (Guardian) Manchester United would have needed to sign a replacement for Maguire had he chose to leave but they would have been left short of time to do so this window. (The Athletic) Despite reports suggesting otherwise, Everton have not received a bid from Manchester United for midfielder Amadou Onana, though would demand a huge transfer fee in order to sell the Belgian. (Liverpool Echo) Chelsea have agreed a Â£58m fee with Southampton for Romeo Lavia as Todd Boehly's spending during his time as owner nears the Â£1bn mark. (The Athletic) Manchester City will ramp up their interest in Jeremy Doku once they formalise a new bid for Lucas Paqueta. (Fabrizio Romano) manual Barcelona recently knocked back an approach from Manchester City for 16-year-old wonderkid Lamine Yamal. City had planned to loan him out to Barca's Catalan neighbours Girona. (Mundo Deportivo) Al Nassr are exploring a shock move for Liverpool goalkeeper Alisson, who is believed to be open to a move to Saudi Arabia. (Foot Mercato) In terms of incomings, Liverpool are believed to have a six-player shortlist to fill their hole in defensive midfield after losing out on Romeo Lavia and Moises Caicedo to Chelsea. Fulham's Joao Palhinha and Crystal Palace's Cheick Doucoure are towards the top of that list. (Daily Mail) Real Madrid are eyeing Arsenal centre-back Gabriel Magalhaes as a replacement for Eder Militao, who recently sustained an ACL injury. (PL Brasil) Tottenham plan to sell Eric Dier and bring in a new centre-back and star midfielder before the end of the transfer window. (Football Insider)\""
            ],
            "application/vnd.google.colaboratory.intrinsic+json": {
              "type": "string"
            }
          },
          "metadata": {},
          "execution_count": 62
        }
      ]
    },
    {
      "cell_type": "code",
      "source": [
        "def wrap(x):\n",
        "  return textwrap.fill(x, replace_whitespace=False, fix_sentence_endings=True)"
      ],
      "metadata": {
        "id": "m6GjplGRs6mv"
      },
      "execution_count": 63,
      "outputs": []
    },
    {
      "cell_type": "code",
      "source": [
        "print(wrap(dataset.iloc[0]))"
      ],
      "metadata": {
        "colab": {
          "base_uri": "https://localhost:8080/"
        },
        "id": "oEXxuS_7s_EV",
        "outputId": "83b55aa5-63e2-44af-f539-9363506d9ac5"
      },
      "execution_count": 64,
      "outputs": [
        {
          "output_type": "stream",
          "name": "stdout",
          "text": [
            "Football transfer rumours: Why Maguire's Man Utd exit collapsed;\n",
            "Liverpool's six midfielder targets 90minÂ rounds up the\n",
            "latestÂ transfer news, rumours and gossip circulating around the\n",
            "world... West Ham have called off their move for Harry Maguire despite\n",
            "agreeing a Â£30m fee with Manchester United.  The England defender\n",
            "wanted a severance payment of around Â£7m in order to depart Old\n",
            "Trafford and accept a lower wage packet at London Stadium.  (Guardian)\n",
            "Manchester United would have needed to sign a replacement for Maguire\n",
            "had he chose to leave but they would have been left short of time to\n",
            "do so this window.  (The Athletic) Despite reports suggesting\n",
            "otherwise, Everton have not received a bid from Manchester United for\n",
            "midfielder Amadou Onana, though would demand a huge transfer fee in\n",
            "order to sell the Belgian.  (Liverpool Echo) Chelsea have agreed a\n",
            "Â£58m fee with Southampton for Romeo Lavia as Todd Boehly's spending\n",
            "during his time as owner nears the Â£1bn mark.  (The Athletic)\n",
            "Manchester City will ramp up their interest in Jeremy Doku once they\n",
            "formalise a new bid for Lucas Paqueta.  (Fabrizio Romano) manual\n",
            "Barcelona recently knocked back an approach from Manchester City for\n",
            "16-year-old wonderkid Lamine Yamal.  City had planned to loan him out\n",
            "to Barca's Catalan neighbours Girona.  (Mundo Deportivo) Al Nassr are\n",
            "exploring a shock move for Liverpool goalkeeper Alisson, who is\n",
            "believed to be open to a move to Saudi Arabia.  (Foot Mercato) In\n",
            "terms of incomings, Liverpool are believed to have a six-player\n",
            "shortlist to fill their hole in defensive midfield after losing out on\n",
            "Romeo Lavia and Moises Caicedo to Chelsea.  Fulham's Joao Palhinha and\n",
            "Crystal Palace's Cheick Doucoure are towards the top of that list.\n",
            "(Daily Mail) Real Madrid are eyeing Arsenal centre-back Gabriel\n",
            "Magalhaes as a replacement for Eder Militao, who recently sustained an\n",
            "ACL injury.  (PL Brasil) Tottenham plan to sell Eric Dier and bring in\n",
            "a new centre-back and star midfielder before the end of the transfer\n",
            "window.  (Football Insider)\n"
          ]
        }
      ]
    },
    {
      "cell_type": "code",
      "source": [
        "sents = nltk.sent_tokenize(dataset.iloc[0])\n",
        "for sent in sents:\n",
        "  print(wrap(sent))"
      ],
      "metadata": {
        "colab": {
          "base_uri": "https://localhost:8080/"
        },
        "id": "p6KKGUuNtDGU",
        "outputId": "d4905418-bd14-4266-aa3d-e6395c941388"
      },
      "execution_count": 65,
      "outputs": [
        {
          "output_type": "stream",
          "name": "stdout",
          "text": [
            "Football transfer rumours: Why Maguire's Man Utd exit collapsed;\n",
            "Liverpool's six midfielder targets 90minÂ rounds up the\n",
            "latestÂ transfer news, rumours and gossip circulating around the\n",
            "world... West Ham have called off their move for Harry Maguire despite\n",
            "agreeing a Â£30m fee with Manchester United.\n",
            "The England defender wanted a severance payment of around Â£7m in\n",
            "order to depart Old Trafford and accept a lower wage packet at London\n",
            "Stadium.\n",
            "(Guardian) Manchester United would have needed to sign a replacement\n",
            "for Maguire had he chose to leave but they would have been left short\n",
            "of time to do so this window.\n",
            "(The Athletic) Despite reports suggesting otherwise, Everton have not\n",
            "received a bid from Manchester United for midfielder Amadou Onana,\n",
            "though would demand a huge transfer fee in order to sell the Belgian.\n",
            "(Liverpool Echo) Chelsea have agreed a Â£58m fee with Southampton for\n",
            "Romeo Lavia as Todd Boehly's spending during his time as owner nears\n",
            "the Â£1bn mark.\n",
            "(The Athletic) Manchester City will ramp up their interest in Jeremy\n",
            "Doku once they formalise a new bid for Lucas Paqueta.\n",
            "(Fabrizio Romano) manual Barcelona recently knocked back an approach\n",
            "from Manchester City for 16-year-old wonderkid Lamine Yamal.\n",
            "City had planned to loan him out to Barca's Catalan neighbours Girona.\n",
            "(Mundo Deportivo) Al Nassr are exploring a shock move for Liverpool\n",
            "goalkeeper Alisson, who is believed to be open to a move to Saudi\n",
            "Arabia.\n",
            "(Foot Mercato) In terms of incomings, Liverpool are believed to have a\n",
            "six-player shortlist to fill their hole in defensive midfield after\n",
            "losing out on Romeo Lavia and Moises Caicedo to Chelsea.\n",
            "Fulham's Joao Palhinha and Crystal Palace's Cheick Doucoure are\n",
            "towards the top of that list.\n",
            "(Daily Mail) Real Madrid are eyeing Arsenal centre-back Gabriel\n",
            "Magalhaes as a replacement for Eder Militao, who recently sustained an\n",
            "ACL injury.\n",
            "(PL Brasil) Tottenham plan to sell Eric Dier and bring in a new\n",
            "centre-back and star midfielder before the end of the transfer window.\n",
            "(Football Insider)\n"
          ]
        }
      ]
    },
    {
      "cell_type": "code",
      "source": [
        "featurizer = TfidfVectorizer(\n",
        "    stop_words=stopwords.words('english'),\n",
        "    norm='l1',\n",
        ")"
      ],
      "metadata": {
        "id": "vsWK93NXtHaq"
      },
      "execution_count": 66,
      "outputs": []
    },
    {
      "cell_type": "code",
      "source": [
        "X = featurizer.fit_transform(sents)"
      ],
      "metadata": {
        "id": "xfqhfQ8ttKLS"
      },
      "execution_count": 67,
      "outputs": []
    },
    {
      "cell_type": "code",
      "source": [
        "# compute similarity matrix\n",
        "from sklearn.metrics.pairwise import cosine_similarity\n",
        "S = cosine_similarity(X)"
      ],
      "metadata": {
        "id": "8yGT2UC8tMlK"
      },
      "execution_count": 68,
      "outputs": []
    },
    {
      "cell_type": "code",
      "source": [
        "S.shape"
      ],
      "metadata": {
        "colab": {
          "base_uri": "https://localhost:8080/"
        },
        "id": "s_Szg7UitRAh",
        "outputId": "c59a60a5-7cf7-4d47-e824-a0fc1f4f2727"
      },
      "execution_count": 69,
      "outputs": [
        {
          "output_type": "execute_result",
          "data": {
            "text/plain": [
              "(14, 14)"
            ]
          },
          "metadata": {},
          "execution_count": 69
        }
      ]
    },
    {
      "cell_type": "code",
      "source": [
        "len(sents)"
      ],
      "metadata": {
        "colab": {
          "base_uri": "https://localhost:8080/"
        },
        "id": "qdD-kq4ktS-M",
        "outputId": "ae0085d1-e722-4b06-95e3-4eacaa9b3b13"
      },
      "execution_count": 70,
      "outputs": [
        {
          "output_type": "execute_result",
          "data": {
            "text/plain": [
              "14"
            ]
          },
          "metadata": {},
          "execution_count": 70
        }
      ]
    },
    {
      "cell_type": "code",
      "source": [
        "# normalize similarity matrix\n",
        "S /= S.sum(axis=1, keepdims=True)"
      ],
      "metadata": {
        "id": "ItrARINhtU4r"
      },
      "execution_count": 71,
      "outputs": []
    },
    {
      "cell_type": "code",
      "source": [
        "S[0].sum()"
      ],
      "metadata": {
        "colab": {
          "base_uri": "https://localhost:8080/"
        },
        "id": "oek8mo9itXMx",
        "outputId": "6841ae65-6337-4196-cad4-12d366b875ae"
      },
      "execution_count": 72,
      "outputs": [
        {
          "output_type": "execute_result",
          "data": {
            "text/plain": [
              "1.0000000000000002"
            ]
          },
          "metadata": {},
          "execution_count": 72
        }
      ]
    },
    {
      "cell_type": "code",
      "source": [
        "# uniform transition matrix\n",
        "U = np.ones_like(S) / len(S)"
      ],
      "metadata": {
        "id": "lA1DzRImtZH6"
      },
      "execution_count": 73,
      "outputs": []
    },
    {
      "cell_type": "code",
      "source": [
        "U[0].sum()"
      ],
      "metadata": {
        "colab": {
          "base_uri": "https://localhost:8080/"
        },
        "id": "kqZcPQcXtbUq",
        "outputId": "e9b11b20-2abe-4d28-fc74-fdfeb5c4ad3b"
      },
      "execution_count": 74,
      "outputs": [
        {
          "output_type": "execute_result",
          "data": {
            "text/plain": [
              "0.9999999999999998"
            ]
          },
          "metadata": {},
          "execution_count": 74
        }
      ]
    },
    {
      "cell_type": "code",
      "source": [
        "# smoothed similarity matrix\n",
        "factor = 0.15\n",
        "S = (1 - factor) * S + factor * U"
      ],
      "metadata": {
        "id": "n2NFYR1ytdUR"
      },
      "execution_count": 75,
      "outputs": []
    },
    {
      "cell_type": "code",
      "source": [
        "S[0].sum()"
      ],
      "metadata": {
        "colab": {
          "base_uri": "https://localhost:8080/"
        },
        "id": "SbSTmCe2tfmg",
        "outputId": "6f939de2-db02-4106-e78b-9124633dcdb7"
      },
      "execution_count": 76,
      "outputs": [
        {
          "output_type": "execute_result",
          "data": {
            "text/plain": [
              "0.9999999999999999"
            ]
          },
          "metadata": {},
          "execution_count": 76
        }
      ]
    },
    {
      "cell_type": "code",
      "source": [
        "# find the limiting / stationary distribution\n",
        "eigenvals, eigenvecs = np.linalg.eig(S.T)"
      ],
      "metadata": {
        "id": "1ue4_UcDth-E"
      },
      "execution_count": 77,
      "outputs": []
    },
    {
      "cell_type": "code",
      "source": [
        "eigenvals"
      ],
      "metadata": {
        "colab": {
          "base_uri": "https://localhost:8080/"
        },
        "id": "dSChX62etkMR",
        "outputId": "115bafa2-5013-4446-c9ee-e70a4e90ebe6"
      },
      "execution_count": 78,
      "outputs": [
        {
          "output_type": "execute_result",
          "data": {
            "text/plain": [
              "array([1.        , 0.39378631, 0.44720755, 0.52173304, 0.53038417,\n",
              "       0.55629823, 0.59034258, 0.85      , 0.67704871, 0.68434676,\n",
              "       0.80023354, 0.78033014, 0.74414881, 0.7594042 ])"
            ]
          },
          "metadata": {},
          "execution_count": 78
        }
      ]
    },
    {
      "cell_type": "code",
      "source": [
        "eigenvecs[:,0]"
      ],
      "metadata": {
        "colab": {
          "base_uri": "https://localhost:8080/"
        },
        "id": "wj2g5wC_tnxB",
        "outputId": "f7c567e9-c0c6-42d1-b0c4-c003a774043e"
      },
      "execution_count": 79,
      "outputs": [
        {
          "output_type": "execute_result",
          "data": {
            "text/plain": [
              "array([-0.31541434, -0.24477161, -0.27433911, -0.30283749, -0.2624432 ,\n",
              "       -0.26871069, -0.27373558, -0.24725754, -0.24890607, -0.26039347,\n",
              "       -0.26648122, -0.24941527, -0.27134608, -0.24468536])"
            ]
          },
          "metadata": {},
          "execution_count": 79
        }
      ]
    },
    {
      "cell_type": "code",
      "source": [
        "eigenvecs[:,0].dot(S)"
      ],
      "metadata": {
        "colab": {
          "base_uri": "https://localhost:8080/"
        },
        "id": "sB1K5yK0tqIV",
        "outputId": "c91e4813-adb4-44eb-fa25-be7a516386f3"
      },
      "execution_count": 80,
      "outputs": [
        {
          "output_type": "execute_result",
          "data": {
            "text/plain": [
              "array([-0.31541434, -0.24477161, -0.27433911, -0.30283749, -0.2624432 ,\n",
              "       -0.26871069, -0.27373558, -0.24725754, -0.24890607, -0.26039347,\n",
              "       -0.26648122, -0.24941527, -0.27134608, -0.24468536])"
            ]
          },
          "metadata": {},
          "execution_count": 80
        }
      ]
    },
    {
      "cell_type": "code",
      "source": [
        "eigenvecs[:,0] / eigenvecs[:,0].sum()"
      ],
      "metadata": {
        "colab": {
          "base_uri": "https://localhost:8080/"
        },
        "id": "1PVGOyITts_m",
        "outputId": "9f06a956-bbd5-4075-b0f2-84f70131645b"
      },
      "execution_count": 81,
      "outputs": [
        {
          "output_type": "execute_result",
          "data": {
            "text/plain": [
              "array([0.08454478, 0.06560945, 0.07353483, 0.08117364, 0.07034621,\n",
              "       0.07202617, 0.07337306, 0.06627579, 0.06671767, 0.06979679,\n",
              "       0.07142857, 0.06685415, 0.07273257, 0.06558633])"
            ]
          },
          "metadata": {},
          "execution_count": 81
        }
      ]
    },
    {
      "cell_type": "code",
      "source": [
        "limiting_dist = np.ones(len(S)) / len(S)\n",
        "threshold = 1e-8\n",
        "delta = float('inf')\n",
        "iters = 0\n",
        "while delta > threshold:\n",
        "  iters += 1\n",
        "\n",
        "  # Markov transition\n",
        "  p = limiting_dist.dot(S)\n",
        "\n",
        "  # compute change in limiting distribution\n",
        "  delta = np.abs(p - limiting_dist).sum()\n",
        "\n",
        "  # update limiting distribution\n",
        "  limiting_dist = p\n",
        "\n",
        "print(iters)"
      ],
      "metadata": {
        "colab": {
          "base_uri": "https://localhost:8080/"
        },
        "id": "XIsFgxAYtvUL",
        "outputId": "faf1a7d7-63ef-4d78-a8f6-996590e33ef9"
      },
      "execution_count": 82,
      "outputs": [
        {
          "output_type": "stream",
          "name": "stdout",
          "text": [
            "49\n"
          ]
        }
      ]
    },
    {
      "cell_type": "code",
      "source": [
        "limiting_dist"
      ],
      "metadata": {
        "colab": {
          "base_uri": "https://localhost:8080/"
        },
        "id": "k8i9CWGctyCy",
        "outputId": "13a87368-0067-4eb5-ba55-1d330994aa9b"
      },
      "execution_count": 83,
      "outputs": [
        {
          "output_type": "execute_result",
          "data": {
            "text/plain": [
              "array([0.08454478, 0.06560945, 0.07353483, 0.08117364, 0.07034621,\n",
              "       0.07202617, 0.07337305, 0.06627579, 0.06671767, 0.06979679,\n",
              "       0.07142857, 0.06685415, 0.07273257, 0.06558635])"
            ]
          },
          "metadata": {},
          "execution_count": 83
        }
      ]
    },
    {
      "cell_type": "code",
      "source": [
        "limiting_dist.sum()"
      ],
      "metadata": {
        "colab": {
          "base_uri": "https://localhost:8080/"
        },
        "id": "Uv012Hw7t0Wo",
        "outputId": "03b1d669-98d8-48a6-c585-6d2dbc231bb2"
      },
      "execution_count": 84,
      "outputs": [
        {
          "output_type": "execute_result",
          "data": {
            "text/plain": [
              "0.9999999999999958"
            ]
          },
          "metadata": {},
          "execution_count": 84
        }
      ]
    },
    {
      "cell_type": "code",
      "source": [
        "np.abs(eigenvecs[:,0] / eigenvecs[:,0].sum() - limiting_dist).sum()"
      ],
      "metadata": {
        "colab": {
          "base_uri": "https://localhost:8080/"
        },
        "id": "Y_isVkvkt1_1",
        "outputId": "45a9a173-5d1c-4306-ff4d-b8c745f09bed"
      },
      "execution_count": 85,
      "outputs": [
        {
          "output_type": "execute_result",
          "data": {
            "text/plain": [
              "3.0801288491977274e-08"
            ]
          },
          "metadata": {},
          "execution_count": 85
        }
      ]
    },
    {
      "cell_type": "code",
      "source": [
        "scores = limiting_dist"
      ],
      "metadata": {
        "id": "XTEfhY7Jt4D8"
      },
      "execution_count": 86,
      "outputs": []
    },
    {
      "cell_type": "code",
      "source": [
        "sort_idx = np.argsort(-scores)"
      ],
      "metadata": {
        "id": "0TB6RaGCt567"
      },
      "execution_count": 87,
      "outputs": []
    },
    {
      "cell_type": "code",
      "source": [
        "print(\"Generated summary:\")\n",
        "for i in sort_idx[:5]:\n",
        "  print(wrap(\"%.2f: %s\" % (scores[i], sents[i])))"
      ],
      "metadata": {
        "colab": {
          "base_uri": "https://localhost:8080/"
        },
        "id": "-tGIm1N-t7sY",
        "outputId": "4afde20e-5bcb-4e15-abf0-195f6dd546b4"
      },
      "execution_count": 88,
      "outputs": [
        {
          "output_type": "stream",
          "name": "stdout",
          "text": [
            "Generated summary:\n",
            "0.08: Football transfer rumours: Why Maguire's Man Utd exit collapsed;\n",
            "Liverpool's six midfielder targets 90minÂ rounds up the\n",
            "latestÂ transfer news, rumours and gossip circulating around the\n",
            "world... West Ham have called off their move for Harry Maguire despite\n",
            "agreeing a Â£30m fee with Manchester United.\n",
            "0.08: (The Athletic) Despite reports suggesting otherwise, Everton\n",
            "have not received a bid from Manchester United for midfielder Amadou\n",
            "Onana, though would demand a huge transfer fee in order to sell the\n",
            "Belgian.\n",
            "0.07: (Guardian) Manchester United would have needed to sign a\n",
            "replacement for Maguire had he chose to leave but they would have been\n",
            "left short of time to do so this window.\n",
            "0.07: (Fabrizio Romano) manual Barcelona recently knocked back an\n",
            "approach from Manchester City for 16-year-old wonderkid Lamine Yamal.\n",
            "0.07: (PL Brasil) Tottenham plan to sell Eric Dier and bring in a new\n",
            "centre-back and star midfielder before the end of the transfer window.\n"
          ]
        }
      ]
    },
    {
      "cell_type": "code",
      "source": [
        "## Not That Accurate Compared to The Mean (method 1) method"
      ],
      "metadata": {
        "id": "GK-BSVrPt_R_"
      },
      "execution_count": null,
      "outputs": []
    },
    {
      "cell_type": "markdown",
      "source": [
        "## Lets Use Some Libraries"
      ],
      "metadata": {
        "id": "GVOcnTlEuU8W"
      }
    },
    {
      "cell_type": "code",
      "source": [
        "dataset[0]"
      ],
      "metadata": {
        "colab": {
          "base_uri": "https://localhost:8080/",
          "height": 132
        },
        "id": "v9C7xPEauXZe",
        "outputId": "4bf24865-15e1-4e6e-fe4e-d86023bd65fe"
      },
      "execution_count": 89,
      "outputs": [
        {
          "output_type": "execute_result",
          "data": {
            "text/plain": [
              "\"Football transfer rumours: Why Maguire's Man Utd exit collapsed; Liverpool's six midfielder targets 90minÂ\\xa0rounds up the latestÂ\\xa0transfer news, rumours and gossip circulating around the world... West Ham have called off their move for Harry Maguire despite agreeing a Â£30m fee with Manchester United. The England defender wanted a severance payment of around Â£7m in order to depart Old Trafford and accept a lower wage packet at London Stadium. (Guardian) Manchester United would have needed to sign a replacement for Maguire had he chose to leave but they would have been left short of time to do so this window. (The Athletic) Despite reports suggesting otherwise, Everton have not received a bid from Manchester United for midfielder Amadou Onana, though would demand a huge transfer fee in order to sell the Belgian. (Liverpool Echo) Chelsea have agreed a Â£58m fee with Southampton for Romeo Lavia as Todd Boehly's spending during his time as owner nears the Â£1bn mark. (The Athletic) Manchester City will ramp up their interest in Jeremy Doku once they formalise a new bid for Lucas Paqueta. (Fabrizio Romano) manual Barcelona recently knocked back an approach from Manchester City for 16-year-old wonderkid Lamine Yamal. City had planned to loan him out to Barca's Catalan neighbours Girona. (Mundo Deportivo) Al Nassr are exploring a shock move for Liverpool goalkeeper Alisson, who is believed to be open to a move to Saudi Arabia. (Foot Mercato) In terms of incomings, Liverpool are believed to have a six-player shortlist to fill their hole in defensive midfield after losing out on Romeo Lavia and Moises Caicedo to Chelsea. Fulham's Joao Palhinha and Crystal Palace's Cheick Doucoure are towards the top of that list. (Daily Mail) Real Madrid are eyeing Arsenal centre-back Gabriel Magalhaes as a replacement for Eder Militao, who recently sustained an ACL injury. (PL Brasil) Tottenham plan to sell Eric Dier and bring in a new centre-back and star midfielder before the end of the transfer window. (Football Insider)\""
            ],
            "application/vnd.google.colaboratory.intrinsic+json": {
              "type": "string"
            }
          },
          "metadata": {},
          "execution_count": 89
        }
      ]
    },
    {
      "cell_type": "code",
      "source": [
        "def wrap(x):\n",
        "  return textwrap.fill(x, replace_whitespace=False, fix_sentence_endings=True)"
      ],
      "metadata": {
        "id": "UVdyk0NTukas"
      },
      "execution_count": 90,
      "outputs": []
    },
    {
      "cell_type": "code",
      "source": [
        "print(wrap(dataset.iloc[0]))"
      ],
      "metadata": {
        "colab": {
          "base_uri": "https://localhost:8080/"
        },
        "id": "B5rzuQzVunP2",
        "outputId": "cdb74121-37a0-4fd3-d577-4d4411002bdc"
      },
      "execution_count": 91,
      "outputs": [
        {
          "output_type": "stream",
          "name": "stdout",
          "text": [
            "Football transfer rumours: Why Maguire's Man Utd exit collapsed;\n",
            "Liverpool's six midfielder targets 90minÂ rounds up the\n",
            "latestÂ transfer news, rumours and gossip circulating around the\n",
            "world... West Ham have called off their move for Harry Maguire despite\n",
            "agreeing a Â£30m fee with Manchester United.  The England defender\n",
            "wanted a severance payment of around Â£7m in order to depart Old\n",
            "Trafford and accept a lower wage packet at London Stadium.  (Guardian)\n",
            "Manchester United would have needed to sign a replacement for Maguire\n",
            "had he chose to leave but they would have been left short of time to\n",
            "do so this window.  (The Athletic) Despite reports suggesting\n",
            "otherwise, Everton have not received a bid from Manchester United for\n",
            "midfielder Amadou Onana, though would demand a huge transfer fee in\n",
            "order to sell the Belgian.  (Liverpool Echo) Chelsea have agreed a\n",
            "Â£58m fee with Southampton for Romeo Lavia as Todd Boehly's spending\n",
            "during his time as owner nears the Â£1bn mark.  (The Athletic)\n",
            "Manchester City will ramp up their interest in Jeremy Doku once they\n",
            "formalise a new bid for Lucas Paqueta.  (Fabrizio Romano) manual\n",
            "Barcelona recently knocked back an approach from Manchester City for\n",
            "16-year-old wonderkid Lamine Yamal.  City had planned to loan him out\n",
            "to Barca's Catalan neighbours Girona.  (Mundo Deportivo) Al Nassr are\n",
            "exploring a shock move for Liverpool goalkeeper Alisson, who is\n",
            "believed to be open to a move to Saudi Arabia.  (Foot Mercato) In\n",
            "terms of incomings, Liverpool are believed to have a six-player\n",
            "shortlist to fill their hole in defensive midfield after losing out on\n",
            "Romeo Lavia and Moises Caicedo to Chelsea.  Fulham's Joao Palhinha and\n",
            "Crystal Palace's Cheick Doucoure are towards the top of that list.\n",
            "(Daily Mail) Real Madrid are eyeing Arsenal centre-back Gabriel\n",
            "Magalhaes as a replacement for Eder Militao, who recently sustained an\n",
            "ACL injury.  (PL Brasil) Tottenham plan to sell Eric Dier and bring in\n",
            "a new centre-back and star midfielder before the end of the transfer\n",
            "window.  (Football Insider)\n"
          ]
        }
      ]
    },
    {
      "cell_type": "code",
      "source": [
        "sents = nltk.sent_tokenize(dataset.iloc[0])\n",
        "for sent in sents:\n",
        "  print(wrap(sent))\n"
      ],
      "metadata": {
        "colab": {
          "base_uri": "https://localhost:8080/"
        },
        "id": "Y4yoT9_ZuqPT",
        "outputId": "f5714aec-e98e-4204-d271-d0792a27a05b"
      },
      "execution_count": 92,
      "outputs": [
        {
          "output_type": "stream",
          "name": "stdout",
          "text": [
            "Football transfer rumours: Why Maguire's Man Utd exit collapsed;\n",
            "Liverpool's six midfielder targets 90minÂ rounds up the\n",
            "latestÂ transfer news, rumours and gossip circulating around the\n",
            "world... West Ham have called off their move for Harry Maguire despite\n",
            "agreeing a Â£30m fee with Manchester United.\n",
            "The England defender wanted a severance payment of around Â£7m in\n",
            "order to depart Old Trafford and accept a lower wage packet at London\n",
            "Stadium.\n",
            "(Guardian) Manchester United would have needed to sign a replacement\n",
            "for Maguire had he chose to leave but they would have been left short\n",
            "of time to do so this window.\n",
            "(The Athletic) Despite reports suggesting otherwise, Everton have not\n",
            "received a bid from Manchester United for midfielder Amadou Onana,\n",
            "though would demand a huge transfer fee in order to sell the Belgian.\n",
            "(Liverpool Echo) Chelsea have agreed a Â£58m fee with Southampton for\n",
            "Romeo Lavia as Todd Boehly's spending during his time as owner nears\n",
            "the Â£1bn mark.\n",
            "(The Athletic) Manchester City will ramp up their interest in Jeremy\n",
            "Doku once they formalise a new bid for Lucas Paqueta.\n",
            "(Fabrizio Romano) manual Barcelona recently knocked back an approach\n",
            "from Manchester City for 16-year-old wonderkid Lamine Yamal.\n",
            "City had planned to loan him out to Barca's Catalan neighbours Girona.\n",
            "(Mundo Deportivo) Al Nassr are exploring a shock move for Liverpool\n",
            "goalkeeper Alisson, who is believed to be open to a move to Saudi\n",
            "Arabia.\n",
            "(Foot Mercato) In terms of incomings, Liverpool are believed to have a\n",
            "six-player shortlist to fill their hole in defensive midfield after\n",
            "losing out on Romeo Lavia and Moises Caicedo to Chelsea.\n",
            "Fulham's Joao Palhinha and Crystal Palace's Cheick Doucoure are\n",
            "towards the top of that list.\n",
            "(Daily Mail) Real Madrid are eyeing Arsenal centre-back Gabriel\n",
            "Magalhaes as a replacement for Eder Militao, who recently sustained an\n",
            "ACL injury.\n",
            "(PL Brasil) Tottenham plan to sell Eric Dier and bring in a new\n",
            "centre-back and star midfielder before the end of the transfer window.\n",
            "(Football Insider)\n"
          ]
        }
      ]
    },
    {
      "cell_type": "code",
      "source": [
        "featurizer = TfidfVectorizer(\n",
        "    stop_words=stopwords.words('english'),\n",
        "    norm='l1',\n",
        ")"
      ],
      "metadata": {
        "id": "UirMkpHCutBJ"
      },
      "execution_count": 93,
      "outputs": []
    },
    {
      "cell_type": "code",
      "source": [
        "X = featurizer.fit_transform(sents)"
      ],
      "metadata": {
        "id": "ACNiYFNRuzKu"
      },
      "execution_count": 94,
      "outputs": []
    },
    {
      "cell_type": "code",
      "source": [
        "!pip install sumy"
      ],
      "metadata": {
        "colab": {
          "base_uri": "https://localhost:8080/"
        },
        "id": "uenFqm5Zu07c",
        "outputId": "e4701aff-10e2-422d-fc89-aeb6415c6881"
      },
      "execution_count": 95,
      "outputs": [
        {
          "output_type": "stream",
          "name": "stdout",
          "text": [
            "Collecting sumy\n",
            "  Downloading sumy-0.11.0-py2.py3-none-any.whl (97 kB)\n",
            "\u001b[?25l     \u001b[90m━━━━━━━━━━━━━━━━━━━━━━━━━━━━━━━━━━━━━━━━\u001b[0m \u001b[32m0.0/97.3 kB\u001b[0m \u001b[31m?\u001b[0m eta \u001b[36m-:--:--\u001b[0m\r\u001b[2K     \u001b[91m━━━━━━━━━━━━━━━━━━━━━━━━━━━━━\u001b[0m\u001b[90m╺\u001b[0m\u001b[90m━━━━━━━━━━\u001b[0m \u001b[32m71.7/97.3 kB\u001b[0m \u001b[31m2.0 MB/s\u001b[0m eta \u001b[36m0:00:01\u001b[0m\r\u001b[2K     \u001b[90m━━━━━━━━━━━━━━━━━━━━━━━━━━━━━━━━━━━━━━━━\u001b[0m \u001b[32m97.3/97.3 kB\u001b[0m \u001b[31m1.9 MB/s\u001b[0m eta \u001b[36m0:00:00\u001b[0m\n",
            "\u001b[?25hCollecting docopt<0.7,>=0.6.1 (from sumy)\n",
            "  Downloading docopt-0.6.2.tar.gz (25 kB)\n",
            "  Preparing metadata (setup.py) ... \u001b[?25l\u001b[?25hdone\n",
            "Collecting breadability>=0.1.20 (from sumy)\n",
            "  Downloading breadability-0.1.20.tar.gz (32 kB)\n",
            "  Preparing metadata (setup.py) ... \u001b[?25l\u001b[?25hdone\n",
            "Requirement already satisfied: requests>=2.7.0 in /usr/local/lib/python3.10/dist-packages (from sumy) (2.31.0)\n",
            "Collecting pycountry>=18.2.23 (from sumy)\n",
            "  Downloading pycountry-23.12.11-py3-none-any.whl (6.2 MB)\n",
            "\u001b[2K     \u001b[90m━━━━━━━━━━━━━━━━━━━━━━━━━━━━━━━━━━━━━━━━\u001b[0m \u001b[32m6.2/6.2 MB\u001b[0m \u001b[31m13.4 MB/s\u001b[0m eta \u001b[36m0:00:00\u001b[0m\n",
            "\u001b[?25hRequirement already satisfied: nltk>=3.0.2 in /usr/local/lib/python3.10/dist-packages (from sumy) (3.8.1)\n",
            "Requirement already satisfied: chardet in /usr/local/lib/python3.10/dist-packages (from breadability>=0.1.20->sumy) (5.2.0)\n",
            "Requirement already satisfied: lxml>=2.0 in /usr/local/lib/python3.10/dist-packages (from breadability>=0.1.20->sumy) (4.9.4)\n",
            "Requirement already satisfied: click in /usr/local/lib/python3.10/dist-packages (from nltk>=3.0.2->sumy) (8.1.7)\n",
            "Requirement already satisfied: joblib in /usr/local/lib/python3.10/dist-packages (from nltk>=3.0.2->sumy) (1.3.2)\n",
            "Requirement already satisfied: regex>=2021.8.3 in /usr/local/lib/python3.10/dist-packages (from nltk>=3.0.2->sumy) (2023.12.25)\n",
            "Requirement already satisfied: tqdm in /usr/local/lib/python3.10/dist-packages (from nltk>=3.0.2->sumy) (4.66.2)\n",
            "Requirement already satisfied: charset-normalizer<4,>=2 in /usr/local/lib/python3.10/dist-packages (from requests>=2.7.0->sumy) (3.3.2)\n",
            "Requirement already satisfied: idna<4,>=2.5 in /usr/local/lib/python3.10/dist-packages (from requests>=2.7.0->sumy) (3.6)\n",
            "Requirement already satisfied: urllib3<3,>=1.21.1 in /usr/local/lib/python3.10/dist-packages (from requests>=2.7.0->sumy) (2.0.7)\n",
            "Requirement already satisfied: certifi>=2017.4.17 in /usr/local/lib/python3.10/dist-packages (from requests>=2.7.0->sumy) (2024.2.2)\n",
            "Building wheels for collected packages: breadability, docopt\n",
            "  Building wheel for breadability (setup.py) ... \u001b[?25l\u001b[?25hdone\n",
            "  Created wheel for breadability: filename=breadability-0.1.20-py2.py3-none-any.whl size=21693 sha256=041941e2b911d6556eb604edd09279535d8e5885f6627bc344e744d7d8315e22\n",
            "  Stored in directory: /root/.cache/pip/wheels/64/22/90/b84fcc30e16598db20a0d41340616dbf9b1e82bbcc627b0b33\n",
            "  Building wheel for docopt (setup.py) ... \u001b[?25l\u001b[?25hdone\n",
            "  Created wheel for docopt: filename=docopt-0.6.2-py2.py3-none-any.whl size=13706 sha256=60554604e85b34ed245c29383915eba7b03658e5389aa23b7de5548054dd4f8c\n",
            "  Stored in directory: /root/.cache/pip/wheels/fc/ab/d4/5da2067ac95b36618c629a5f93f809425700506f72c9732fac\n",
            "Successfully built breadability docopt\n",
            "Installing collected packages: docopt, pycountry, breadability, sumy\n",
            "Successfully installed breadability-0.1.20 docopt-0.6.2 pycountry-23.12.11 sumy-0.11.0\n"
          ]
        }
      ]
    },
    {
      "cell_type": "code",
      "source": [
        "from sumy.summarizers.text_rank import TextRankSummarizer\n",
        "from sumy.summarizers.lsa import LsaSummarizer\n",
        "from sumy.parsers.plaintext import PlaintextParser\n",
        "from sumy.nlp.tokenizers import Tokenizer"
      ],
      "metadata": {
        "id": "PgB52Scgu3Q7"
      },
      "execution_count": 101,
      "outputs": []
    },
    {
      "cell_type": "markdown",
      "source": [
        "# Library 1 :TextRankSummarizer"
      ],
      "metadata": {
        "id": "V1ENQjjUvM--"
      }
    },
    {
      "cell_type": "code",
      "source": [
        "summarizer = TextRankSummarizer()\n",
        "parser = PlaintextParser.from_string(\n",
        "    dataset.iloc[0].split(\"\\n\", 1)[0],\n",
        "    Tokenizer(\"english\"))\n",
        "summary = summarizer(parser.document, sentences_count=5)"
      ],
      "metadata": {
        "id": "TQ71lMqhvPxA"
      },
      "execution_count": 105,
      "outputs": []
    },
    {
      "cell_type": "code",
      "source": [
        "summary"
      ],
      "metadata": {
        "colab": {
          "base_uri": "https://localhost:8080/"
        },
        "id": "uGCflcYIv3-j",
        "outputId": "d710980c-05de-4eaf-c5a5-4514f738bb98"
      },
      "execution_count": 106,
      "outputs": [
        {
          "output_type": "execute_result",
          "data": {
            "text/plain": [
              "(<Sentence: Football transfer rumours: Why Maguire's Man Utd exit collapsed; Liverpool's six midfielder targets 90minÂ rounds up the latestÂ transfer news, rumours and gossip circulating around the world... West Ham have called off their move for Harry Maguire despite agreeing a Â£30m fee with Manchester United.>,\n",
              " <Sentence: (Guardian) Manchester United would have needed to sign a replacement for Maguire had he chose to leave but they would have been left short of time to do so this window.>,\n",
              " <Sentence: (The Athletic) Despite reports suggesting otherwise, Everton have not received a bid from Manchester United for midfielder Amadou Onana, though would demand a huge transfer fee in order to sell the Belgian.>,\n",
              " <Sentence: (Mundo Deportivo) Al Nassr are exploring a shock move for Liverpool goalkeeper Alisson, who is believed to be open to a move to Saudi Arabia.>,\n",
              " <Sentence: (Foot Mercato) In terms of incomings, Liverpool are believed to have a six-player shortlist to fill their hole in defensive midfield after losing out on Romeo Lavia and Moises Caicedo to Chelsea.>)"
            ]
          },
          "metadata": {},
          "execution_count": 106
        }
      ]
    },
    {
      "cell_type": "code",
      "source": [
        "## Again Not Getting Acurate Summary Compared with Method 1"
      ],
      "metadata": {
        "id": "MjTOmzVswJ_R"
      },
      "execution_count": 107,
      "outputs": []
    },
    {
      "cell_type": "markdown",
      "source": [
        "# Library 2 : LsaSummarizer"
      ],
      "metadata": {
        "id": "aizIn_r3wYin"
      }
    },
    {
      "cell_type": "code",
      "source": [
        "summarizer = LsaSummarizer()\n",
        "summary = summarizer(parser.document, sentences_count=5)\n",
        "for s in summary:\n",
        "  print(wrap(str(s)))\n"
      ],
      "metadata": {
        "colab": {
          "base_uri": "https://localhost:8080/"
        },
        "id": "O7cPLovHwXCo",
        "outputId": "86592603-206d-490f-f6d9-149e4c8d48d8"
      },
      "execution_count": 108,
      "outputs": [
        {
          "output_type": "stream",
          "name": "stdout",
          "text": [
            "Football transfer rumours: Why Maguire's Man Utd exit collapsed;\n",
            "Liverpool's six midfielder targets 90minÂ rounds up the\n",
            "latestÂ transfer news, rumours and gossip circulating around the\n",
            "world... West Ham have called off their move for Harry Maguire despite\n",
            "agreeing a Â£30m fee with Manchester United.\n",
            "(The Athletic) Manchester City will ramp up their interest in Jeremy\n",
            "Doku once they formalise a new bid for Lucas Paqueta.\n",
            "(Fabrizio Romano) manual Barcelona recently knocked back an approach\n",
            "from Manchester City for 16-year-old wonderkid Lamine Yamal.\n",
            "Fulham's Joao Palhinha and Crystal Palace's Cheick Doucoure are\n",
            "towards the top of that list.\n",
            "(Daily Mail) Real Madrid are eyeing Arsenal centre-back Gabriel\n",
            "Magalhaes as a replacement for Eder Militao, who recently sustained an\n",
            "ACL injury.\n"
          ]
        }
      ]
    },
    {
      "cell_type": "code",
      "source": [
        "## Both Method 1 uding Mean and Lsa Summarizer are giving great results"
      ],
      "metadata": {
        "id": "-hYfpC9rwjLo"
      },
      "execution_count": 109,
      "outputs": []
    },
    {
      "cell_type": "code",
      "source": [],
      "metadata": {
        "id": "wAunGh18w_yn"
      },
      "execution_count": null,
      "outputs": []
    },
    {
      "cell_type": "markdown",
      "source": [
        "### Lets try different index location of the dataset with these methods"
      ],
      "metadata": {
        "id": "pEJuLpNLxAiD"
      }
    },
    {
      "cell_type": "code",
      "source": [
        "dataset[1]"
      ],
      "metadata": {
        "colab": {
          "base_uri": "https://localhost:8080/",
          "height": 132
        },
        "id": "7xJkYbmlxG6z",
        "outputId": "a94c9536-9956-44a5-f9c8-cadd2a240df6"
      },
      "execution_count": 110,
      "outputs": [
        {
          "output_type": "execute_result",
          "data": {
            "text/plain": [
              "'Chelsea agree Romeo Lavia fee with Southampton Chelsea have finalised an agreement with Southampton to sign midfielder Romeo Lavia, 90min understands. After striking a deal over a fee with the Saints, Chelsea set about finalising the terms of a move which sources have confirmed is worth around Â£58m including add-ons. Southampton director Jason Wilcox confirmed earlier on Tuesday that the two clubs were still in negotiations at that point, but just a few hours later, the Saints have shook hands with Chelsea and are bidding farewell to Lavia. Lavia is due to undergo a medical with Chelsea in the coming days ahead of putting pen to paper on another long-term contract at Stamford Bridge. The Belgian had the opportunity to join Liverpool this summer but, like Moises Caicedo, has opted to join Chelsea instead. feed Should all go to plan with his medical, Lavia will become the latest in a long list of new signings at Chelsea. Alongside Caicedo, the Blues have already recruited Axel Disasi, Christopher Nkunku, Nicolas Jackson, Lesley Ugochukwu, Angelo Gabriel, Robert Sanchez and Diego Moreira this summer, and they are not expected to finish there. Indeed, 90min understands Chelsea have agreed a deal to sign Crystal Palace midfielder Michael Olise, who has a Â£35m release clause in his contract with the Eagles. The Blues are then expected to turn their attention to a new goalkeeper to replace Kepa Arrizabalaga, who has joined Real Madrid on loan, while club officials have not yet ruled out pursuing another striker as well.'"
            ],
            "application/vnd.google.colaboratory.intrinsic+json": {
              "type": "string"
            }
          },
          "metadata": {},
          "execution_count": 110
        }
      ]
    },
    {
      "cell_type": "code",
      "source": [
        "def wrap(x):\n",
        "  return textwrap.fill(x, replace_whitespace=False, fix_sentence_endings=True)"
      ],
      "metadata": {
        "id": "fonWDRTfxJdL"
      },
      "execution_count": 111,
      "outputs": []
    },
    {
      "cell_type": "code",
      "source": [
        "print(wrap(dataset.iloc[1]))"
      ],
      "metadata": {
        "colab": {
          "base_uri": "https://localhost:8080/"
        },
        "id": "iP-la0URxpSC",
        "outputId": "db56162a-9e5e-4dd6-872d-38f6c8eb5318"
      },
      "execution_count": 113,
      "outputs": [
        {
          "output_type": "stream",
          "name": "stdout",
          "text": [
            "Chelsea agree Romeo Lavia fee with Southampton Chelsea have finalised\n",
            "an agreement with Southampton to sign midfielder Romeo Lavia, 90min\n",
            "understands.  After striking a deal over a fee with the Saints,\n",
            "Chelsea set about finalising the terms of a move which sources have\n",
            "confirmed is worth around Â£58m including add-ons.  Southampton\n",
            "director Jason Wilcox confirmed earlier on Tuesday that the two clubs\n",
            "were still in negotiations at that point, but just a few hours later,\n",
            "the Saints have shook hands with Chelsea and are bidding farewell to\n",
            "Lavia.  Lavia is due to undergo a medical with Chelsea in the coming\n",
            "days ahead of putting pen to paper on another long-term contract at\n",
            "Stamford Bridge.  The Belgian had the opportunity to join Liverpool\n",
            "this summer but, like Moises Caicedo, has opted to join Chelsea\n",
            "instead.  feed Should all go to plan with his medical, Lavia will\n",
            "become the latest in a long list of new signings at Chelsea.\n",
            "Alongside Caicedo, the Blues have already recruited Axel Disasi,\n",
            "Christopher Nkunku, Nicolas Jackson, Lesley Ugochukwu, Angelo Gabriel,\n",
            "Robert Sanchez and Diego Moreira this summer, and they are not\n",
            "expected to finish there.  Indeed, 90min understands Chelsea have\n",
            "agreed a deal to sign Crystal Palace midfielder Michael Olise, who has\n",
            "a Â£35m release clause in his contract with the Eagles.  The Blues are\n",
            "then expected to turn their attention to a new goalkeeper to replace\n",
            "Kepa Arrizabalaga, who has joined Real Madrid on loan, while club\n",
            "officials have not yet ruled out pursuing another striker as well.\n"
          ]
        }
      ]
    },
    {
      "cell_type": "code",
      "source": [
        "sents = nltk.sent_tokenize(dataset.iloc[1])\n",
        "for sent in sents:\n",
        "  print(wrap(sent))"
      ],
      "metadata": {
        "colab": {
          "base_uri": "https://localhost:8080/"
        },
        "id": "ZSI-ckvtxsDf",
        "outputId": "ef052eeb-833a-48ef-fb3f-236fbd7975de"
      },
      "execution_count": 115,
      "outputs": [
        {
          "output_type": "stream",
          "name": "stdout",
          "text": [
            "Chelsea agree Romeo Lavia fee with Southampton Chelsea have finalised\n",
            "an agreement with Southampton to sign midfielder Romeo Lavia, 90min\n",
            "understands.\n",
            "After striking a deal over a fee with the Saints, Chelsea set about\n",
            "finalising the terms of a move which sources have confirmed is worth\n",
            "around Â£58m including add-ons.\n",
            "Southampton director Jason Wilcox confirmed earlier on Tuesday that\n",
            "the two clubs were still in negotiations at that point, but just a few\n",
            "hours later, the Saints have shook hands with Chelsea and are bidding\n",
            "farewell to Lavia.\n",
            "Lavia is due to undergo a medical with Chelsea in the coming days\n",
            "ahead of putting pen to paper on another long-term contract at\n",
            "Stamford Bridge.\n",
            "The Belgian had the opportunity to join Liverpool this summer but,\n",
            "like Moises Caicedo, has opted to join Chelsea instead.\n",
            "feed Should all go to plan with his medical, Lavia will become the\n",
            "latest in a long list of new signings at Chelsea.\n",
            "Alongside Caicedo, the Blues have already recruited Axel Disasi,\n",
            "Christopher Nkunku, Nicolas Jackson, Lesley Ugochukwu, Angelo Gabriel,\n",
            "Robert Sanchez and Diego Moreira this summer, and they are not\n",
            "expected to finish there.\n",
            "Indeed, 90min understands Chelsea have agreed a deal to sign Crystal\n",
            "Palace midfielder Michael Olise, who has a Â£35m release clause in his\n",
            "contract with the Eagles.\n",
            "The Blues are then expected to turn their attention to a new\n",
            "goalkeeper to replace Kepa Arrizabalaga, who has joined Real Madrid on\n",
            "loan, while club officials have not yet ruled out pursuing another\n",
            "striker as well.\n"
          ]
        }
      ]
    },
    {
      "cell_type": "code",
      "source": [
        "featurizer = TfidfVectorizer(\n",
        "    stop_words=stopwords.words('english'),\n",
        "    norm='l1',\n",
        ")"
      ],
      "metadata": {
        "id": "Hlz1TA1ixwNI"
      },
      "execution_count": 116,
      "outputs": []
    },
    {
      "cell_type": "code",
      "source": [
        "X = featurizer.fit_transform(sents)"
      ],
      "metadata": {
        "id": "6fvuBnsAx1bh"
      },
      "execution_count": 117,
      "outputs": []
    },
    {
      "cell_type": "code",
      "source": [
        "def get_sentence_score(tfidf_row):\n",
        "  x = tfidf_row[tfidf_row != 0]\n",
        "  return x.mean()"
      ],
      "metadata": {
        "id": "K6sVC6Q_x3pe"
      },
      "execution_count": 118,
      "outputs": []
    },
    {
      "cell_type": "code",
      "source": [
        "scores = np.zeros(len(sents))\n",
        "for i in range(len(sents)):\n",
        "  score = get_sentence_score(X[i,:])\n",
        "  scores[i] = score"
      ],
      "metadata": {
        "id": "IcevxMQTx5od"
      },
      "execution_count": 119,
      "outputs": []
    },
    {
      "cell_type": "code",
      "source": [
        "sort_idx = np.argsort(-scores)"
      ],
      "metadata": {
        "id": "ZxPs2dA-x7p6"
      },
      "execution_count": 120,
      "outputs": []
    },
    {
      "cell_type": "code",
      "source": [
        "print(\"Generated summary:\")\n",
        "for i in sort_idx[:10]:\n",
        "  print(wrap(\"%.2f: %s\" % (scores[i], sents[i])))"
      ],
      "metadata": {
        "colab": {
          "base_uri": "https://localhost:8080/"
        },
        "id": "3ZnkBAQXx9zn",
        "outputId": "0e6e3782-6b22-429f-828b-6ee6b6bf501b"
      },
      "execution_count": 121,
      "outputs": [
        {
          "output_type": "stream",
          "name": "stdout",
          "text": [
            "Generated summary:\n",
            "0.09: The Belgian had the opportunity to join Liverpool this summer\n",
            "but, like Moises Caicedo, has opted to join Chelsea instead.\n",
            "0.08: feed Should all go to plan with his medical, Lavia will become\n",
            "the latest in a long list of new signings at Chelsea.\n",
            "0.08: Chelsea agree Romeo Lavia fee with Southampton Chelsea have\n",
            "finalised an agreement with Southampton to sign midfielder Romeo\n",
            "Lavia, 90min understands.\n",
            "0.06: Indeed, 90min understands Chelsea have agreed a deal to sign\n",
            "Crystal Palace midfielder Michael Olise, who has a Â£35m release\n",
            "clause in his contract with the Eagles.\n",
            "0.06: After striking a deal over a fee with the Saints, Chelsea set\n",
            "about finalising the terms of a move which sources have confirmed is\n",
            "worth around Â£58m including add-ons.\n",
            "0.06: Lavia is due to undergo a medical with Chelsea in the coming\n",
            "days ahead of putting pen to paper on another long-term contract at\n",
            "Stamford Bridge.\n",
            "0.05: Southampton director Jason Wilcox confirmed earlier on Tuesday\n",
            "that the two clubs were still in negotiations at that point, but just\n",
            "a few hours later, the Saints have shook hands with Chelsea and are\n",
            "bidding farewell to Lavia.\n",
            "0.05: The Blues are then expected to turn their attention to a new\n",
            "goalkeeper to replace Kepa Arrizabalaga, who has joined Real Madrid on\n",
            "loan, while club officials have not yet ruled out pursuing another\n",
            "striker as well.\n",
            "0.05: Alongside Caicedo, the Blues have already recruited Axel Disasi,\n",
            "Christopher Nkunku, Nicolas Jackson, Lesley Ugochukwu, Angelo Gabriel,\n",
            "Robert Sanchez and Diego Moreira this summer, and they are not\n",
            "expected to finish there.\n"
          ]
        }
      ]
    },
    {
      "cell_type": "markdown",
      "source": [
        "# Using LsaSummarizer"
      ],
      "metadata": {
        "id": "7Nm5YITvyF4W"
      }
    },
    {
      "cell_type": "code",
      "source": [
        "summarizer = LsaSummarizer()\n",
        "parser = PlaintextParser.from_string(\n",
        "    dataset.iloc[1].split(\"\\n\", 1)[0],\n",
        "    Tokenizer(\"english\"))\n",
        "summary = summarizer(parser.document, sentences_count=5)\n",
        "for s in summary:\n",
        "  print(wrap(str(s)))\n"
      ],
      "metadata": {
        "colab": {
          "base_uri": "https://localhost:8080/"
        },
        "id": "IvaOSRaqyAXr",
        "outputId": "02c155b6-d332-4869-c8de-983c68bb3ab8"
      },
      "execution_count": 124,
      "outputs": [
        {
          "output_type": "stream",
          "name": "stdout",
          "text": [
            "Southampton director Jason Wilcox confirmed earlier on Tuesday that\n",
            "the two clubs were still in negotiations at that point, but just a few\n",
            "hours later, the Saints have shook hands with Chelsea and are bidding\n",
            "farewell to Lavia.\n",
            "Lavia is due to undergo a medical with Chelsea in the coming days\n",
            "ahead of putting pen to paper on another long-term contract at\n",
            "Stamford Bridge.\n",
            "feed Should all go to plan with his medical, Lavia will become the\n",
            "latest in a long list of new signings at Chelsea.\n",
            "Alongside Caicedo, the Blues have already recruited Axel Disasi,\n",
            "Christopher Nkunku, Nicolas Jackson, Lesley Ugochukwu, Angelo Gabriel,\n",
            "Robert Sanchez and Diego Moreira this summer, and they are not\n",
            "expected to finish there.\n",
            "Indeed, 90min understands Chelsea have agreed a deal to sign Crystal\n",
            "Palace midfielder Michael Olise, who has a Â£35m release clause in his\n",
            "contract with the Eagles.\n"
          ]
        }
      ]
    },
    {
      "cell_type": "code",
      "source": [],
      "metadata": {
        "id": "SM7vC2cfyZ2U"
      },
      "execution_count": null,
      "outputs": []
    },
    {
      "cell_type": "markdown",
      "source": [
        "# In Conclusion We can say that Lsa Summarizer is overall giving best results followed by method 1(mean method)"
      ],
      "metadata": {
        "id": "5dcInHT7yiZl"
      }
    },
    {
      "cell_type": "code",
      "source": [],
      "metadata": {
        "id": "lrJasPZDyvxE"
      },
      "execution_count": null,
      "outputs": []
    }
  ]
}